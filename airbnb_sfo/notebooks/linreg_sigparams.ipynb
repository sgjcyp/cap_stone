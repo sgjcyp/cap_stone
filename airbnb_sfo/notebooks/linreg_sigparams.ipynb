{
 "cells": [
  {
   "cell_type": "code",
   "execution_count": 58,
   "metadata": {},
   "outputs": [],
   "source": [
    "import numpy as np\n",
    "import pandas as pd\n",
    "import matplotlib.pyplot as plt\n",
    "%matplotlib inline\n",
    "\n",
    "from sklearn.model_selection import train_test_split\n",
    "from sklearn import datasets, linear_model\n",
    "from sklearn.metrics import  mean_squared_error, r2_score\n",
    "\n",
    "import statsmodels.api as sm"
   ]
  },
  {
   "cell_type": "code",
   "execution_count": 59,
   "metadata": {},
   "outputs": [],
   "source": [
    "cal = pd.read_csv('calendar.csv.gz')\n",
    "listd = pd.read_csv('listings.csv.gz')\n",
    "lists = pd.read_csv('listings.csv')\n",
    "revs = pd.read_csv('reviews.csv.gz')\n",
    "nhood = pd.read_csv('neighbourhoods.csv')\n",
    "purelst = pd.read_csv('listings.csv.gz')"
   ]
  },
  {
   "cell_type": "code",
   "execution_count": 60,
   "metadata": {},
   "outputs": [],
   "source": [
    "# pd.set_option('display.max_colu?mns', 96)\n",
    "pd.set_option('display.max_rows', 96)"
   ]
  },
  {
   "cell_type": "code",
   "execution_count": 61,
   "metadata": {},
   "outputs": [
    {
     "name": "stdout",
     "output_type": "stream",
     "text": [
      "96 12\n",
      "84 12\n"
     ]
    }
   ],
   "source": [
    "#CLEANUP incoming dataframes\n",
    "\n",
    "listd_drop_cols = ['scrape_id','last_scraped','experiences_offered','thumbnail_url','medium_url','xl_picture_url',\\\n",
    "                   'host_name','host_location','neighbourhood_group_cleansed','square_feet',\\\n",
    "                   'maximum_nights','is_business_travel_ready']\n",
    "\n",
    "# listd_numc_cols\n",
    "# listd_catz_cols\n",
    "\n",
    "print(len(listd.columns), len(listd_drop_cols))\n",
    "listd.drop(listd_drop_cols,axis=1,inplace=True )\n",
    "print(len(listd.columns), len(listd_drop_cols))"
   ]
  },
  {
   "cell_type": "markdown",
   "metadata": {},
   "source": [
    "# ALL TRANSFORMATIONS FUNCTIONS  : "
   ]
  },
  {
   "cell_type": "code",
   "execution_count": 62,
   "metadata": {},
   "outputs": [
    {
     "name": "stdout",
     "output_type": "stream",
     "text": [
      "2018-07-05 2019-07-04\n",
      "2009-05-03 2018-07-05\n"
     ]
    }
   ],
   "source": [
    "print(cal.date.min(),cal.date.max())\n",
    "print(revs.date.min(),revs.date.max())\n",
    "# print(lists.last_review.min(),lists.last_review.max())"
   ]
  },
  {
   "cell_type": "code",
   "execution_count": 63,
   "metadata": {},
   "outputs": [],
   "source": [
    "# tmp=listd.copy() # Create a new copy of the existing dataframe otherwise it is only by reference\n",
    "# tmp.head().T"
   ]
  },
  {
   "cell_type": "code",
   "execution_count": 64,
   "metadata": {},
   "outputs": [],
   "source": [
    "def price_xform(dframe,colname):\n",
    "    dframe[colname]=dframe[colname].str.replace('$','')\n",
    "    dframe[colname]=dframe[colname].str.replace(',','')\n",
    "    dframe[colname]=pd.to_numeric(dframe[colname])\n",
    "#     return(dframe)"
   ]
  },
  {
   "cell_type": "code",
   "execution_count": 65,
   "metadata": {},
   "outputs": [],
   "source": [
    "def cat_rename(dframe,colname,src,tgt):\n",
    "    dframe[colname]=dframe[colname].str.replace(src,tgt)\n",
    "#     dframe[colname]=dframe[colname].str.replace(',','')\n",
    "#     dframe[colname]=pd.to_numeric(dframe[colname])\n",
    "#     return(dframe)"
   ]
  },
  {
   "cell_type": "code",
   "execution_count": 66,
   "metadata": {},
   "outputs": [],
   "source": [
    "def create_dummies(dframe,colname):\n",
    "#     dfnew=dframe.copy()\n",
    "    dframe=pd.get_dummies(data=dframe, columns=[colname])# create dummies and drop the parent column\n",
    "    dframe.drop(columns=[dframe.columns[-1]],inplace=True) #dropped the last column from the add dummies\n",
    "    return dframe"
   ]
  },
  {
   "cell_type": "code",
   "execution_count": 67,
   "metadata": {},
   "outputs": [],
   "source": [
    "#Impute Null Rows based on the specified column\n",
    "def impute_nullrows(dframe,colname):\n",
    "    print(dframe[colname].isnull().sum())\n",
    "    dftmp=dframe[~dframe[colname].isnull()]   # remove nulls from one column\n",
    "    print(dftmp[colname].isnull().sum())\n",
    "    return dftmp\n"
   ]
  },
  {
   "cell_type": "markdown",
   "metadata": {},
   "source": [
    "# TRANSFORM ACTIONS"
   ]
  },
  {
   "cell_type": "code",
   "execution_count": 68,
   "metadata": {},
   "outputs": [],
   "source": [
    "# Convert to Booleans\n",
    "listd['host_is_superhost'] = listd.apply(lambda x:  x.host_is_superhost=='t', axis= 1)\n",
    "listd['host_has_profile_pic'] = listd.apply(lambda x:  x.host_has_profile_pic=='t', axis= 1)\n",
    "listd['host_identity_verified'] = listd.apply(lambda x:  x.host_identity_verified=='t', axis= 1)\n",
    "listd['instant_bookable'] = listd.apply(lambda x:  x.instant_bookable=='t', axis= 1)"
   ]
  },
  {
   "cell_type": "code",
   "execution_count": 69,
   "metadata": {},
   "outputs": [],
   "source": [
    "#Transform all the price columns to remove \"$\" and \",\"\n",
    "\n",
    "price_xform(listd,'price')\n",
    "price_xform(listd,'weekly_price')\n",
    "price_xform(listd,'monthly_price')\n",
    "price_xform(listd,'security_deposit')\n",
    "price_xform(listd,'cleaning_fee')\n",
    "price_xform(listd,'extra_people')"
   ]
  },
  {
   "cell_type": "code",
   "execution_count": 70,
   "metadata": {},
   "outputs": [],
   "source": [
    "#Transform the room_type . to create a meaningful name and create dummies\n",
    "\n",
    "cat_rename(listd,'room_type','Entire home/apt','full')\n",
    "cat_rename(listd,'room_type','Private room','pvt')\n",
    "cat_rename(listd,'room_type','Shared room','shared')\n",
    "\n",
    "listd=create_dummies(listd,'room_type')\n",
    "# listd=pd.get_dummies(data=listd, columns=['room_type'])  # create dummies and drop the parent column\n",
    "# listd.drop(columns=[listd.columns[-1]],inplace=True)  #dropped the last column from the add dummies"
   ]
  },
  {
   "cell_type": "code",
   "execution_count": 71,
   "metadata": {},
   "outputs": [],
   "source": [
    "#Transform the bed_type . to create a meaningful name and create dummies\n",
    "listd['bed_type'] = listd.apply(lambda x: x.bed_type=='Real Bed', axis=1)"
   ]
  },
  {
   "cell_type": "code",
   "execution_count": 72,
   "metadata": {},
   "outputs": [],
   "source": [
    "#Put a count on amenities,   IF it does not work, pick the most important feature\n",
    "listd['amentcnt'] =   listd.apply(lambda x: len(x.amenities.split(\",\")), axis=1)"
   ]
  },
  {
   "cell_type": "code",
   "execution_count": 73,
   "metadata": {},
   "outputs": [],
   "source": [
    "#!!! APPLY the same for the test data also\n",
    "#Impute the to remove the rows with no zipcode.  !!! APPLY the same for the test data also\n",
    "listd=listd[~listd['zipcode'].isnull()]   # remove nulls from one column\n",
    "\n",
    "\n"
   ]
  },
  {
   "cell_type": "code",
   "execution_count": 74,
   "metadata": {},
   "outputs": [],
   "source": [
    "#Impute the null values with meaningful data\n",
    "\n",
    "listd['cleaning_fee']=listd['cleaning_fee'].fillna(0)\n",
    "listd['review_scores_cleanliness'] = listd['review_scores_cleanliness'].fillna(listd.review_scores_cleanliness.mean())\n",
    "\n",
    "listd['review_scores_location'] = listd['review_scores_location'].fillna(listd.review_scores_location.mean())\n",
    "listd['review_scores_value'] = listd['review_scores_value'].fillna(listd.review_scores_value.mean())\n",
    "\n",
    "\n"
   ]
  },
  {
   "cell_type": "code",
   "execution_count": 75,
   "metadata": {},
   "outputs": [],
   "source": [
    "# mask1 = listd['minimum_nights']>7 \n",
    "# mask2 = listd['minimum_nights']<=32\n",
    "# maskmid=mask1 & mask2 \n",
    "# maskmid = (listd['minimum_nights']>7) & (listd['minimum_nights']<=32)\n",
    "# mask2\n",
    "# maskmid\n",
    "listd.loc[listd['minimum_nights']<=7,'min_night_stay'] = 'short'\n",
    "listd.loc[(listd['minimum_nights']>7) & (listd['minimum_nights']<=32),'min_night_stay'] = 'mid'\n",
    "listd.loc[listd['minimum_nights']>32,'min_night_stay'] = 'long'\n",
    "listd=create_dummies(listd,'min_night_stay')"
   ]
  },
  {
   "cell_type": "code",
   "execution_count": 76,
   "metadata": {},
   "outputs": [],
   "source": [
    "#Condensing the property_type to sub categories\n",
    "\n",
    "listd.loc[listd['property_type']=='Apartment', 'ppt_condensed'] = 'apt'\n",
    "listd.loc[listd['property_type']=='Condominium', 'ppt_condensed'] = 'apt'\n",
    "listd.loc[listd['property_type']=='Guest suite', 'ppt_condensed'] = 'apt'\n",
    "listd.loc[listd['property_type']=='Townhouse', 'ppt_condensed'] = 'apt'\n",
    "listd.loc[listd['property_type']=='Guesthouse', 'ppt_condensed'] = 'apt'\n",
    "listd.loc[listd['property_type']=='Tiny house', 'ppt_condensed'] = 'apt'\n",
    "listd.loc[listd['property_type']=='Timeshare', 'ppt_condensed'] = 'apt'\n",
    "\n",
    "listd.loc[listd['property_type']=='Serviced apartment', 'ppt_condensed'] = 'aptspl'\n",
    "listd.loc[listd['property_type']=='Bed and breakfast', 'ppt_condensed'] = 'aptspl'\n",
    "listd.loc[listd['property_type']=='Treehouse', 'ppt_condensed'] = 'aptspl'\n",
    "listd.loc[listd['property_type']=='Cabin', 'ppt_condensed'] = 'aptspl'\n",
    "\n",
    "listd.loc[listd['property_type']=='Bus', 'ppt_condensed'] = 'auto'\n",
    "listd.loc[listd['property_type']=='Boat', 'ppt_condensed'] = 'auto'\n",
    "listd.loc[listd['property_type']=='Camper/RV', 'ppt_condensed'] = 'auto'\n",
    "\n",
    "listd.loc[listd['property_type']=='Hostel', 'ppt_condensed'] = 'hostel'\n",
    "\n",
    "listd.loc[listd['property_type']=='Boutique hotel', 'ppt_condensed'] = 'hotel'\n",
    "listd.loc[listd['property_type']=='Hotel', 'ppt_condensed'] = 'hotel'\n",
    "listd.loc[listd['property_type']=='Resort', 'ppt_condensed'] = 'hotel'\n",
    "listd.loc[listd['property_type']=='Aparthotel', 'ppt_condensed'] = 'hotel'\n",
    "\n",
    "listd.loc[listd['property_type']=='House', 'ppt_condensed'] = 'house'\n",
    "listd.loc[listd['property_type']=='Bungalow', 'ppt_condensed'] = 'house'\n",
    "listd.loc[listd['property_type']=='Cottage', 'ppt_condensed'] = 'house'\n",
    "listd.loc[listd['property_type']=='Villa', 'ppt_condensed'] = 'house'\n",
    "\n",
    "listd.loc[listd['property_type']=='Other', 'ppt_condensed'] = 'other'\n",
    "\n",
    "listd.loc[listd['property_type']=='Loft', 'ppt_condensed'] = 'room'\n",
    "\n",
    "listd=create_dummies(listd,'ppt_condensed')"
   ]
  },
  {
   "cell_type": "code",
   "execution_count": 77,
   "metadata": {},
   "outputs": [],
   "source": [
    "listd=create_dummies(listd,'zipcode')"
   ]
  },
  {
   "cell_type": "code",
   "execution_count": 78,
   "metadata": {},
   "outputs": [
    {
     "data": {
      "text/plain": [
       "(4662, 122)"
      ]
     },
     "execution_count": 78,
     "metadata": {},
     "output_type": "execute_result"
    }
   ],
   "source": [
    "#Removed the rows with price is equal to zero\n",
    "listd=listd[listd.price>0]\n",
    "listd.shape"
   ]
  },
  {
   "cell_type": "code",
   "execution_count": 79,
   "metadata": {},
   "outputs": [],
   "source": [
    "#imputing some more missing values\n",
    "\n",
    "listd['cleaning_fee'].fillna(0, inplace=True)\n",
    "listd['beds'].fillna(0, inplace=True)\n",
    "listd['bathrooms'].fillna(0, inplace=True)"
   ]
  },
  {
   "cell_type": "code",
   "execution_count": 80,
   "metadata": {},
   "outputs": [],
   "source": [
    "# lreg_cols = ['price','weekly_price','cleaning_fee','accommodates','bedrooms','beds',\\\n",
    "#              'bathrooms','guests_included','zipcode']\n",
    "\n",
    "listd_drop_cols2=['id', 'listing_url', 'name', 'summary', 'space', 'description',\\\n",
    "       'neighborhood_overview', 'notes', 'transit', 'access', 'interaction',\\\n",
    "       'house_rules', 'picture_url', 'host_id', 'host_url', 'host_since',\\\n",
    "       'host_about', 'host_response_time', 'host_response_rate',\\\n",
    "       'host_acceptance_rate', 'host_thumbnail_url',\\\n",
    "       'host_picture_url', 'host_neighbourhood', 'host_listings_count',\\\n",
    "       'host_total_listings_count', 'host_verifications',\\\n",
    "       'host_has_profile_pic', 'street',\\\n",
    "       'neighbourhood', 'neighbourhood_cleansed', 'city', 'state',\\\n",
    "       'market', 'smart_location', 'country_code', 'country', 'latitude',\\\n",
    "       'longitude', 'is_location_exact', 'property_type',\\\n",
    "       'amenities',\\\n",
    "       'weekly_price', 'monthly_price', 'security_deposit',\\\n",
    "       'extra_people', 'minimum_nights', 'calendar_updated',\\\n",
    "       'has_availability', 'availability_30', 'availability_60',\\\n",
    "       'availability_90', 'availability_365', 'calendar_last_scraped',\\\n",
    "       'number_of_reviews', 'first_review', 'last_review',\\\n",
    "       'review_scores_rating', 'review_scores_accuracy',\\\n",
    "       'review_scores_cleanliness', 'review_scores_checkin',\\\n",
    "       'review_scores_communication', 'review_scores_location',\\\n",
    "       'review_scores_value', 'requires_license', 'license',\\\n",
    "       'jurisdiction_names', 'instant_bookable', 'cancellation_policy',\\\n",
    "       'require_guest_profile_picture', 'require_guest_phone_verification',\\\n",
    "       'calculated_host_listings_count', 'reviews_per_month']\n",
    "# listd_drop_cols2=['property_type','minimum_nights']\n",
    "listd.drop(listd_drop_cols2,axis=1,inplace=True )"
   ]
  },
  {
   "cell_type": "code",
   "execution_count": 81,
   "metadata": {},
   "outputs": [
    {
     "data": {
      "text/plain": [
       "Index(['host_is_superhost', 'host_identity_verified', 'accommodates',\n",
       "       'bathrooms', 'bedrooms', 'beds', 'bed_type', 'price', 'cleaning_fee',\n",
       "       'guests_included', 'room_type_full', 'room_type_pvt', 'amentcnt',\n",
       "       'min_night_stay_long', 'min_night_stay_mid', 'ppt_condensed_apt',\n",
       "       'ppt_condensed_aptspl', 'ppt_condensed_auto', 'ppt_condensed_hostel',\n",
       "       'ppt_condensed_hotel', 'ppt_condensed_house', 'ppt_condensed_other',\n",
       "       'zipcode_94014.0', 'zipcode_94015.0', 'zipcode_94102.0',\n",
       "       'zipcode_94103.0', 'zipcode_94104.0', 'zipcode_94105.0',\n",
       "       'zipcode_94107.0', 'zipcode_94108.0', 'zipcode_94109.0',\n",
       "       'zipcode_94110.0', 'zipcode_94111.0', 'zipcode_94112.0',\n",
       "       'zipcode_94114.0', 'zipcode_94115.0', 'zipcode_94116.0',\n",
       "       'zipcode_94117.0', 'zipcode_94118.0', 'zipcode_94121.0',\n",
       "       'zipcode_94122.0', 'zipcode_94123.0', 'zipcode_94124.0',\n",
       "       'zipcode_94127.0', 'zipcode_94129.0', 'zipcode_94131.0',\n",
       "       'zipcode_94132.0', 'zipcode_94133.0', 'zipcode_94134.0',\n",
       "       'zipcode_94158.0'],\n",
       "      dtype='object')"
      ]
     },
     "execution_count": 81,
     "metadata": {},
     "output_type": "execute_result"
    }
   ],
   "source": [
    "listd.columns"
   ]
  },
  {
   "cell_type": "code",
   "execution_count": 82,
   "metadata": {},
   "outputs": [
    {
     "data": {
      "text/plain": [
       "(4662, 50)"
      ]
     },
     "execution_count": 82,
     "metadata": {},
     "output_type": "execute_result"
    }
   ],
   "source": [
    "listd.shape"
   ]
  },
  {
   "cell_type": "code",
   "execution_count": null,
   "metadata": {},
   "outputs": [],
   "source": []
  },
  {
   "cell_type": "markdown",
   "metadata": {},
   "source": [
    "# EXTRA BEGIN"
   ]
  },
  {
   "cell_type": "markdown",
   "metadata": {},
   "source": [
    "# EXTRA END"
   ]
  },
  {
   "cell_type": "code",
   "execution_count": 83,
   "metadata": {},
   "outputs": [],
   "source": [
    "dfcorr=listd.corr()\n",
    "# dfcorr.price.sort_values()\n"
   ]
  },
  {
   "cell_type": "code",
   "execution_count": 84,
   "metadata": {},
   "outputs": [
    {
     "data": {
      "text/html": [
       "<div>\n",
       "<style scoped>\n",
       "    .dataframe tbody tr th:only-of-type {\n",
       "        vertical-align: middle;\n",
       "    }\n",
       "\n",
       "    .dataframe tbody tr th {\n",
       "        vertical-align: top;\n",
       "    }\n",
       "\n",
       "    .dataframe thead th {\n",
       "        text-align: right;\n",
       "    }\n",
       "</style>\n",
       "<table border=\"1\" class=\"dataframe\">\n",
       "  <thead>\n",
       "    <tr style=\"text-align: right;\">\n",
       "      <th></th>\n",
       "      <th>host_is_superhost</th>\n",
       "      <th>host_identity_verified</th>\n",
       "      <th>accommodates</th>\n",
       "      <th>bathrooms</th>\n",
       "      <th>bedrooms</th>\n",
       "      <th>beds</th>\n",
       "      <th>bed_type</th>\n",
       "      <th>price</th>\n",
       "      <th>cleaning_fee</th>\n",
       "      <th>guests_included</th>\n",
       "      <th>...</th>\n",
       "      <th>zipcode_94122.0</th>\n",
       "      <th>zipcode_94123.0</th>\n",
       "      <th>zipcode_94124.0</th>\n",
       "      <th>zipcode_94127.0</th>\n",
       "      <th>zipcode_94129.0</th>\n",
       "      <th>zipcode_94131.0</th>\n",
       "      <th>zipcode_94132.0</th>\n",
       "      <th>zipcode_94133.0</th>\n",
       "      <th>zipcode_94134.0</th>\n",
       "      <th>zipcode_94158.0</th>\n",
       "    </tr>\n",
       "  </thead>\n",
       "  <tbody>\n",
       "    <tr>\n",
       "      <th>host_is_superhost</th>\n",
       "      <td>1.000000</td>\n",
       "      <td>0.176110</td>\n",
       "      <td>-0.066785</td>\n",
       "      <td>-0.073704</td>\n",
       "      <td>-0.068890</td>\n",
       "      <td>-0.093498</td>\n",
       "      <td>-0.021605</td>\n",
       "      <td>-0.013742</td>\n",
       "      <td>-0.036288</td>\n",
       "      <td>0.003894</td>\n",
       "      <td>...</td>\n",
       "      <td>0.047283</td>\n",
       "      <td>-0.008483</td>\n",
       "      <td>-0.001111</td>\n",
       "      <td>0.016106</td>\n",
       "      <td>-0.012819</td>\n",
       "      <td>0.017711</td>\n",
       "      <td>-0.016373</td>\n",
       "      <td>-0.024218</td>\n",
       "      <td>-0.011534</td>\n",
       "      <td>-0.018832</td>\n",
       "    </tr>\n",
       "    <tr>\n",
       "      <th>host_identity_verified</th>\n",
       "      <td>0.176110</td>\n",
       "      <td>1.000000</td>\n",
       "      <td>0.023722</td>\n",
       "      <td>0.038283</td>\n",
       "      <td>0.084281</td>\n",
       "      <td>0.009468</td>\n",
       "      <td>-0.021019</td>\n",
       "      <td>0.058457</td>\n",
       "      <td>0.064004</td>\n",
       "      <td>0.043997</td>\n",
       "      <td>...</td>\n",
       "      <td>-0.003876</td>\n",
       "      <td>-0.025903</td>\n",
       "      <td>0.009853</td>\n",
       "      <td>0.000215</td>\n",
       "      <td>0.010790</td>\n",
       "      <td>0.014966</td>\n",
       "      <td>-0.018309</td>\n",
       "      <td>-0.054209</td>\n",
       "      <td>-0.034937</td>\n",
       "      <td>-0.024633</td>\n",
       "    </tr>\n",
       "    <tr>\n",
       "      <th>accommodates</th>\n",
       "      <td>-0.066785</td>\n",
       "      <td>0.023722</td>\n",
       "      <td>1.000000</td>\n",
       "      <td>0.479894</td>\n",
       "      <td>0.769164</td>\n",
       "      <td>0.834911</td>\n",
       "      <td>0.071253</td>\n",
       "      <td>0.433958</td>\n",
       "      <td>0.549102</td>\n",
       "      <td>0.558845</td>\n",
       "      <td>...</td>\n",
       "      <td>0.009087</td>\n",
       "      <td>0.023262</td>\n",
       "      <td>-0.009771</td>\n",
       "      <td>0.008321</td>\n",
       "      <td>0.019512</td>\n",
       "      <td>0.012691</td>\n",
       "      <td>-0.023854</td>\n",
       "      <td>0.000806</td>\n",
       "      <td>0.027570</td>\n",
       "      <td>0.004030</td>\n",
       "    </tr>\n",
       "    <tr>\n",
       "      <th>bathrooms</th>\n",
       "      <td>-0.073704</td>\n",
       "      <td>0.038283</td>\n",
       "      <td>0.479894</td>\n",
       "      <td>1.000000</td>\n",
       "      <td>0.554435</td>\n",
       "      <td>0.493763</td>\n",
       "      <td>0.036435</td>\n",
       "      <td>0.334272</td>\n",
       "      <td>0.376441</td>\n",
       "      <td>0.284819</td>\n",
       "      <td>...</td>\n",
       "      <td>-0.020596</td>\n",
       "      <td>0.037558</td>\n",
       "      <td>-0.014459</td>\n",
       "      <td>0.025774</td>\n",
       "      <td>-0.006685</td>\n",
       "      <td>0.002333</td>\n",
       "      <td>0.021209</td>\n",
       "      <td>-0.040651</td>\n",
       "      <td>-0.012187</td>\n",
       "      <td>0.003814</td>\n",
       "    </tr>\n",
       "    <tr>\n",
       "      <th>bedrooms</th>\n",
       "      <td>-0.068890</td>\n",
       "      <td>0.084281</td>\n",
       "      <td>0.769164</td>\n",
       "      <td>0.554435</td>\n",
       "      <td>1.000000</td>\n",
       "      <td>0.730484</td>\n",
       "      <td>0.046284</td>\n",
       "      <td>0.434292</td>\n",
       "      <td>0.581118</td>\n",
       "      <td>0.520190</td>\n",
       "      <td>...</td>\n",
       "      <td>-0.004132</td>\n",
       "      <td>0.037703</td>\n",
       "      <td>-0.023691</td>\n",
       "      <td>0.021538</td>\n",
       "      <td>0.009484</td>\n",
       "      <td>0.034552</td>\n",
       "      <td>-0.015237</td>\n",
       "      <td>0.012223</td>\n",
       "      <td>0.007016</td>\n",
       "      <td>0.001407</td>\n",
       "    </tr>\n",
       "  </tbody>\n",
       "</table>\n",
       "<p>5 rows × 50 columns</p>\n",
       "</div>"
      ],
      "text/plain": [
       "                        host_is_superhost  host_identity_verified  \\\n",
       "host_is_superhost                1.000000                0.176110   \n",
       "host_identity_verified           0.176110                1.000000   \n",
       "accommodates                    -0.066785                0.023722   \n",
       "bathrooms                       -0.073704                0.038283   \n",
       "bedrooms                        -0.068890                0.084281   \n",
       "\n",
       "                        accommodates  bathrooms  bedrooms      beds  bed_type  \\\n",
       "host_is_superhost          -0.066785  -0.073704 -0.068890 -0.093498 -0.021605   \n",
       "host_identity_verified      0.023722   0.038283  0.084281  0.009468 -0.021019   \n",
       "accommodates                1.000000   0.479894  0.769164  0.834911  0.071253   \n",
       "bathrooms                   0.479894   1.000000  0.554435  0.493763  0.036435   \n",
       "bedrooms                    0.769164   0.554435  1.000000  0.730484  0.046284   \n",
       "\n",
       "                           price  cleaning_fee  guests_included  \\\n",
       "host_is_superhost      -0.013742     -0.036288         0.003894   \n",
       "host_identity_verified  0.058457      0.064004         0.043997   \n",
       "accommodates            0.433958      0.549102         0.558845   \n",
       "bathrooms               0.334272      0.376441         0.284819   \n",
       "bedrooms                0.434292      0.581118         0.520190   \n",
       "\n",
       "                             ...         zipcode_94122.0  zipcode_94123.0  \\\n",
       "host_is_superhost            ...                0.047283        -0.008483   \n",
       "host_identity_verified       ...               -0.003876        -0.025903   \n",
       "accommodates                 ...                0.009087         0.023262   \n",
       "bathrooms                    ...               -0.020596         0.037558   \n",
       "bedrooms                     ...               -0.004132         0.037703   \n",
       "\n",
       "                        zipcode_94124.0  zipcode_94127.0  zipcode_94129.0  \\\n",
       "host_is_superhost             -0.001111         0.016106        -0.012819   \n",
       "host_identity_verified         0.009853         0.000215         0.010790   \n",
       "accommodates                  -0.009771         0.008321         0.019512   \n",
       "bathrooms                     -0.014459         0.025774        -0.006685   \n",
       "bedrooms                      -0.023691         0.021538         0.009484   \n",
       "\n",
       "                        zipcode_94131.0  zipcode_94132.0  zipcode_94133.0  \\\n",
       "host_is_superhost              0.017711        -0.016373        -0.024218   \n",
       "host_identity_verified         0.014966        -0.018309        -0.054209   \n",
       "accommodates                   0.012691        -0.023854         0.000806   \n",
       "bathrooms                      0.002333         0.021209        -0.040651   \n",
       "bedrooms                       0.034552        -0.015237         0.012223   \n",
       "\n",
       "                        zipcode_94134.0  zipcode_94158.0  \n",
       "host_is_superhost             -0.011534        -0.018832  \n",
       "host_identity_verified        -0.034937        -0.024633  \n",
       "accommodates                   0.027570         0.004030  \n",
       "bathrooms                     -0.012187         0.003814  \n",
       "bedrooms                       0.007016         0.001407  \n",
       "\n",
       "[5 rows x 50 columns]"
      ]
     },
     "execution_count": 84,
     "metadata": {},
     "output_type": "execute_result"
    }
   ],
   "source": [
    "dfcorr.head()"
   ]
  },
  {
   "cell_type": "code",
   "execution_count": 85,
   "metadata": {},
   "outputs": [
    {
     "data": {
      "text/plain": [
       "room_type_pvt            -0.256935\n",
       "zipcode_94112.0          -0.077826\n",
       "ppt_condensed_hostel     -0.065285\n",
       "zipcode_94124.0          -0.058418\n",
       "zipcode_94122.0          -0.047006\n",
       "zipcode_94132.0          -0.044017\n",
       "zipcode_94102.0          -0.043951\n",
       "zipcode_94134.0          -0.037983\n",
       "min_night_stay_mid       -0.035109\n",
       "zipcode_94111.0          -0.027142\n",
       "ppt_condensed_hotel      -0.026607\n",
       "ppt_condensed_apt        -0.025683\n",
       "zipcode_94110.0          -0.025396\n",
       "zipcode_94014.0          -0.022799\n",
       "ppt_condensed_aptspl     -0.020199\n",
       "zipcode_94127.0          -0.018459\n",
       "zipcode_94116.0          -0.015249\n",
       "ppt_condensed_auto       -0.014055\n",
       "host_is_superhost        -0.013742\n",
       "ppt_condensed_other      -0.013267\n",
       "zipcode_94015.0          -0.009269\n",
       "zipcode_94107.0           0.001506\n",
       "zipcode_94108.0           0.001901\n",
       "zipcode_94118.0           0.002310\n",
       "zipcode_94105.0           0.002917\n",
       "zipcode_94131.0           0.003698\n",
       "zipcode_94129.0           0.004251\n",
       "zipcode_94158.0           0.005958\n",
       "zipcode_94103.0           0.010641\n",
       "zipcode_94121.0           0.016670\n",
       "zipcode_94117.0           0.023188\n",
       "min_night_stay_long       0.024949\n",
       "bed_type                  0.031523\n",
       "zipcode_94109.0           0.032321\n",
       "zipcode_94114.0           0.048053\n",
       "host_identity_verified    0.058457\n",
       "zipcode_94104.0           0.059747\n",
       "ppt_condensed_house       0.059892\n",
       "zipcode_94115.0           0.060454\n",
       "zipcode_94133.0           0.065738\n",
       "zipcode_94123.0           0.078527\n",
       "amentcnt                  0.125452\n",
       "room_type_full            0.274114\n",
       "guests_included           0.280157\n",
       "bathrooms                 0.334272\n",
       "beds                      0.369234\n",
       "cleaning_fee              0.392555\n",
       "accommodates              0.433958\n",
       "bedrooms                  0.434292\n",
       "price                     1.000000\n",
       "Name: price, dtype: float64"
      ]
     },
     "execution_count": 85,
     "metadata": {},
     "output_type": "execute_result"
    }
   ],
   "source": [
    "dfcorr.price.sort_values()"
   ]
  },
  {
   "cell_type": "markdown",
   "metadata": {},
   "source": [
    "'''\n",
    "lreg_cols_master = ['square_feet','weekly_price','cleaning_fee','accommodates','bedrooms','beds','bathrooms','guests_included','zipcode']\n",
    "lreg_cols = ['price','weekly_price','cleaning_fee','accommodates','bedrooms','beds','bathrooms','guests_included','zipcode']\n",
    "'''"
   ]
  },
  {
   "cell_type": "code",
   "execution_count": null,
   "metadata": {},
   "outputs": [],
   "source": []
  },
  {
   "cell_type": "code",
   "execution_count": 86,
   "metadata": {},
   "outputs": [],
   "source": [
    "dflreg = listd.copy()\n",
    "dflreg = sm.add_constant(dflreg)"
   ]
  },
  {
   "cell_type": "code",
   "execution_count": 87,
   "metadata": {},
   "outputs": [],
   "source": [
    "dflreg['host_is_superhost'] = (dflreg['host_is_superhost'] == True).astype(int)\n",
    "dflreg['host_identity_verified'] = (dflreg['host_identity_verified'] == True).astype(int)\n",
    "dflreg['bed_type'] = (dflreg['bed_type'] == True).astype(int)"
   ]
  },
  {
   "cell_type": "code",
   "execution_count": 88,
   "metadata": {},
   "outputs": [
    {
     "data": {
      "text/html": [
       "<div>\n",
       "<style scoped>\n",
       "    .dataframe tbody tr th:only-of-type {\n",
       "        vertical-align: middle;\n",
       "    }\n",
       "\n",
       "    .dataframe tbody tr th {\n",
       "        vertical-align: top;\n",
       "    }\n",
       "\n",
       "    .dataframe thead th {\n",
       "        text-align: right;\n",
       "    }\n",
       "</style>\n",
       "<table border=\"1\" class=\"dataframe\">\n",
       "  <thead>\n",
       "    <tr style=\"text-align: right;\">\n",
       "      <th></th>\n",
       "      <th>price</th>\n",
       "      <th>cleaning_fee</th>\n",
       "      <th>guests_included</th>\n",
       "    </tr>\n",
       "  </thead>\n",
       "  <tbody>\n",
       "    <tr>\n",
       "      <th>0</th>\n",
       "      <td>170.0</td>\n",
       "      <td>100.0</td>\n",
       "      <td>2</td>\n",
       "    </tr>\n",
       "    <tr>\n",
       "      <th>1</th>\n",
       "      <td>235.0</td>\n",
       "      <td>100.0</td>\n",
       "      <td>2</td>\n",
       "    </tr>\n",
       "    <tr>\n",
       "      <th>2</th>\n",
       "      <td>65.0</td>\n",
       "      <td>50.0</td>\n",
       "      <td>1</td>\n",
       "    </tr>\n",
       "    <tr>\n",
       "      <th>3</th>\n",
       "      <td>63.0</td>\n",
       "      <td>30.0</td>\n",
       "      <td>1</td>\n",
       "    </tr>\n",
       "    <tr>\n",
       "      <th>4</th>\n",
       "      <td>65.0</td>\n",
       "      <td>50.0</td>\n",
       "      <td>1</td>\n",
       "    </tr>\n",
       "  </tbody>\n",
       "</table>\n",
       "</div>"
      ],
      "text/plain": [
       "   price  cleaning_fee  guests_included\n",
       "0  170.0         100.0                2\n",
       "1  235.0         100.0                2\n",
       "2   65.0          50.0                1\n",
       "3   63.0          30.0                1\n",
       "4   65.0          50.0                1"
      ]
     },
     "execution_count": 88,
     "metadata": {},
     "output_type": "execute_result"
    }
   ],
   "source": [
    "dfscatter=dflreg.loc[:,'price':'guests_included']\n",
    "dfscatter.head()"
   ]
  },
  {
   "cell_type": "code",
   "execution_count": 89,
   "metadata": {},
   "outputs": [
    {
     "data": {
      "image/png": "[encoded data removed]",
      "text/plain": [
       "<Figure size 1080x720 with 9 Axes>"
      ]
     },
     "metadata": {},
     "output_type": "display_data"
    }
   ],
   "source": [
    "pd.plotting.scatter_matrix(dfscatter,figsize=(15,10));"
   ]
  },
  {
   "cell_type": "code",
   "execution_count": 90,
   "metadata": {},
   "outputs": [],
   "source": [
    "listd_insig_cols = ['host_is_superhost','host_identity_verified','bed_type','guests_included','room_type_full',\\\n",
    "                    'room_type_pvt','amentcnt','ppt_condensed_apt','ppt_condensed_aptspl','ppt_condensed_auto',\\\n",
    "                    'ppt_condensed_hotel','ppt_condensed_other',\\\n",
    "                    'zipcode_94014.0', 'zipcode_94015.0', 'zipcode_94102.0',\\\n",
    "                    'zipcode_94103.0', 'zipcode_94104.0', 'zipcode_94105.0',\\\n",
    "                    'zipcode_94107.0', 'zipcode_94108.0', 'zipcode_94109.0',\\\n",
    "                    'zipcode_94110.0', 'zipcode_94111.0', 'zipcode_94112.0',\\\n",
    "                    'zipcode_94114.0', 'zipcode_94115.0', 'zipcode_94116.0',\\\n",
    "                    'zipcode_94117.0', 'zipcode_94118.0', 'zipcode_94121.0',\\\n",
    "                    'zipcode_94122.0', 'zipcode_94123.0', 'zipcode_94124.0',\\\n",
    "                    'zipcode_94127.0', 'zipcode_94129.0', 'zipcode_94131.0',\\\n",
    "                    'zipcode_94132.0', 'zipcode_94133.0', 'zipcode_94134.0','zipcode_94158.0']\n",
    "# dflreg.head().T"
   ]
  },
  {
   "cell_type": "code",
   "execution_count": 91,
   "metadata": {},
   "outputs": [],
   "source": [
    "dfscat=dflreg.copy()\n",
    "dflreg.drop(listd_insig_cols,axis=1,inplace=True)\n",
    "y=dflreg.price\n",
    "X=dflreg.drop(['price'],axis=1)"
   ]
  },
  {
   "cell_type": "code",
   "execution_count": 92,
   "metadata": {},
   "outputs": [],
   "source": [
    "# X=dflreg.drop([listd_insig_cols],axis=1)\n",
    "# listd.drop(listd_drop_cols,axis=1,inplace=True )"
   ]
  },
  {
   "cell_type": "code",
   "execution_count": 93,
   "metadata": {},
   "outputs": [],
   "source": [
    "X_chunk, X_test, y_chunk, y_test = train_test_split(X, y, test_size=0.20, random_state=47)\n",
    "X_train, X_vald, y_train, y_vald = train_test_split(X_chunk, y_chunk, test_size=0.20, random_state=47)"
   ]
  },
  {
   "cell_type": "code",
   "execution_count": null,
   "metadata": {},
   "outputs": [],
   "source": []
  },
  {
   "cell_type": "code",
   "execution_count": 94,
   "metadata": {},
   "outputs": [],
   "source": [
    "X_train = X_chunk.copy()\n",
    "y_train = y_chunk.copy()"
   ]
  },
  {
   "cell_type": "code",
   "execution_count": 95,
   "metadata": {},
   "outputs": [
    {
     "name": "stdout",
     "output_type": "stream",
     "text": [
      "(3729, 10) (746, 10) (933, 10)\n",
      "(3729,) (746,) (933,)\n"
     ]
    }
   ],
   "source": [
    "print(X_train.shape, X_vald.shape, X_test.shape)\n",
    "print(y_train.shape, y_vald.shape, y_test.shape)"
   ]
  },
  {
   "cell_type": "code",
   "execution_count": 96,
   "metadata": {},
   "outputs": [],
   "source": [
    "lmodel = linear_model.LinearRegression()\n",
    "lmodel.fit(X_train,y_train)\n",
    "y_predsk = lmodel.predict(X_test)"
   ]
  },
  {
   "cell_type": "code",
   "execution_count": 97,
   "metadata": {
    "scrolled": true
   },
   "outputs": [
    {
     "name": "stdout",
     "output_type": "stream",
     "text": [
      "Coefficients: \n",
      " [  0.          27.29803721  54.40483196  44.88412024 -13.34715315\n",
      "   0.66152974 113.46848822 -43.12579345 -84.1729854  -27.73056203]\n"
     ]
    }
   ],
   "source": [
    "print('Coefficients: \\n', lmodel.coef_)"
   ]
  },
  {
   "cell_type": "code",
   "execution_count": 98,
   "metadata": {},
   "outputs": [
    {
     "data": {
      "text/plain": [
       "(933,)"
      ]
     },
     "execution_count": 98,
     "metadata": {},
     "output_type": "execute_result"
    }
   ],
   "source": [
    "y_predsk.shape"
   ]
  },
  {
   "cell_type": "code",
   "execution_count": 99,
   "metadata": {},
   "outputs": [],
   "source": [
    "from sklearn.utils import check_array\n",
    "import numpy as np\n",
    "def mse_prop(y_true, y_pred): \n",
    "\n",
    "\n",
    "    return (np.mean(np.abs((y_true - y_pred)**2 / (y_true+1)**2  )) * 100) **0.5\n",
    "\n"
   ]
  },
  {
   "cell_type": "code",
   "execution_count": null,
   "metadata": {},
   "outputs": [],
   "source": []
  },
  {
   "cell_type": "code",
   "execution_count": 100,
   "metadata": {},
   "outputs": [
    {
     "name": "stdout",
     "output_type": "stream",
     "text": [
      "Mean squared error: 30187.79\n",
      "Variance squared error: 0.37\n",
      "MSE Proportion: 7.04\n"
     ]
    }
   ],
   "source": [
    "print(\"Mean squared error: %.2f\" % mean_squared_error(y_test, y_predsk))\n",
    "print(\"Variance squared error: %.2f\" % r2_score(y_test, y_predsk))\n",
    "print(\"MSE Proportion: %.2f\" % mse_prop(y_test, y_predsk))"
   ]
  },
  {
   "cell_type": "code",
   "execution_count": 101,
   "metadata": {},
   "outputs": [],
   "source": [
    "#Building Residual DF\n",
    "\n",
    "dfpred= y_test.to_frame()\n",
    "dfpred['sk_preds'] = y_predsk\n",
    "dfpred['sk_resid'] = dfpred.sk_preds-dfpred.price\n",
    "dfpred['sk_residpct'] = (dfpred.sk_preds-dfpred.price)/dfpred.price\n",
    "# dfpred.head()"
   ]
  },
  {
   "cell_type": "code",
   "execution_count": 102,
   "metadata": {},
   "outputs": [
    {
     "data": {
      "text/plain": [
       "Text(0,0.5,'RESIDUAL PCT')"
      ]
     },
     "execution_count": 102,
     "metadata": {},
     "output_type": "execute_result"
    },
    {
     "data": {
      "image/png": "[encoded data removed]",
      "text/plain": [
       "<Figure size 1296x360 with 3 Axes>"
      ]
     },
     "metadata": {},
     "output_type": "display_data"
    }
   ],
   "source": [
    "fig = plt.figure(figsize=(18,5))\n",
    "ax1 = fig.add_subplot(1,3,1)\n",
    "ax2 = fig.add_subplot(1,3,2)\n",
    "ax3 = fig.add_subplot(1,3,3)\n",
    "\n",
    "ax1.scatter(y_test, y_predsk,  color='black')\n",
    "ax1.set_title('act_vs_pred')\n",
    "ax1.set_xlabel('ACT-PRICE')\n",
    "ax1.set_ylabel('PREDICT')\n",
    "\n",
    "ax2.scatter(dfpred.price,dfpred.sk_resid, color='red')\n",
    "ax2.set_title('RESIDUALS')\n",
    "ax2.set_xlabel('PRICE')\n",
    "ax2.set_ylabel('RESIDUAL')\n",
    "\n",
    "ax3.scatter(dfpred.price,dfpred.sk_residpct, color='blue')\n",
    "ax3.set_title('RESIDUAL PCT')\n",
    "ax3.set_xlabel('PRICE')\n",
    "ax3.set_ylabel('RESIDUAL PCT')"
   ]
  },
  {
   "cell_type": "code",
   "execution_count": 103,
   "metadata": {},
   "outputs": [
    {
     "data": {
      "text/plain": [
       "array([ 61.87513814, 124.13434949, 450.77595189, 515.70656012,\n",
       "        84.97773449, 339.28330729, 173.26794059, 215.24709859,\n",
       "       260.67457544,  84.94977402, 562.51239829, 249.95917542,\n",
       "       495.04475742, 113.59608868,  94.23915085, 307.19051667,\n",
       "       291.64062151, 167.41407502, 153.28787309, 171.99856817,\n",
       "       249.95917542, 381.85432736, 178.32610113, 141.81560509,\n",
       "        98.1056847 , 391.84532635, -40.47213265, 127.44199819,\n",
       "       203.53553526, 102.9653978 , 100.98080858, 697.92495058,\n",
       "       207.63056542,  97.05784518, 189.67982376, 309.22670454,\n",
       "       128.71137061, 143.36492699, 181.5073895 , 191.55669593,\n",
       "        97.05784518, 396.37111993, 130.13433219, 163.2108192 ,\n",
       "       206.21806727, 354.60250518, 231.26609729,  94.85268375,\n",
       "       124.85463875, 202.22086841, 311.04418691, 151.86491152,\n",
       "       114.21140339, 211.53676343, 332.16925353, 110.90375469,\n",
       "       161.67129928, 342.01751551, 250.18070832,  97.05784518,\n",
       "       263.18977022, 224.63318294, 141.41381937, 310.23807841,\n",
       "       236.61202227, 223.09366302, 271.07444005,  83.71069203,\n",
       "       191.55669593, 440.52336712, 158.48020892, 205.50758   ,\n",
       "       158.23729025, 154.84500996,  90.94130413, 158.48020892,\n",
       "       174.49030638, 485.43051287, 166.65264319, 278.56891136,\n",
       "       277.68973745,  85.55350493, 417.56608119, 447.47765651,\n",
       "       155.17256022, 191.02854988, 120.82670079, 245.96152789,\n",
       "       102.12382067, 286.95115381, 175.63331847, 151.62199284,\n",
       "        97.05784518, 104.28845728, 113.59608868, 375.68838012,\n",
       "       136.62326926, 504.53185854, 130.74964689, 189.67982376,\n",
       "       477.06261523, 147.72041522, 360.61165224, 439.51408165,\n",
       "       590.41416642, 103.45160968, 490.80463988, 108.85657716,\n",
       "       125.40372191, 472.63244289, 148.55726282, 169.72621451,\n",
       "       206.21806727, 125.40372191, 232.80561721, 165.72017435,\n",
       "       288.44953116, 147.2878904 , 205.90031899, 233.4583414 ,\n",
       "       171.71080373, 348.63281292, 112.05656876, 171.99856817,\n",
       "       272.68439007,  98.19240469, 192.26718321, 474.86196163,\n",
       "        77.70090734, 257.70966995, 144.46172405, 271.34627989,\n",
       "       183.8062014 , 185.6826249 , 132.01901932, 427.12365462,\n",
       "       600.59235399, 140.57697176, 410.41762522, 276.42036503,\n",
       "       161.78785762, 332.09456941, 222.66113821, 425.70489635,\n",
       "       121.76852295, 114.21140339, 115.23785713, 222.88267111,\n",
       "       483.8524389 ,  54.46133132, 124.87557586, 154.99724236,\n",
       "       361.12218135,  83.71069203, 125.28716357, 169.12344428,\n",
       "       574.77558186, 169.12344428, 117.95157691,  97.05784518,\n",
       "       537.43713945, 383.97737273, 121.76852295, 375.89679086,\n",
       "       125.40372191, 372.68196095, 165.38327077, 110.90375469,\n",
       "       249.95917542, 130.74964689, 185.58700367, 120.6466534 ,\n",
       "       237.99795304, 137.97278698, 110.68177312, 297.8233941 ,\n",
       "       181.63374983, 175.23153275, 111.61424196, 300.71691803,\n",
       "       278.43096382, 197.0367962 ,  46.88214111, 843.50771489,\n",
       "       147.72041522, 235.91222146, 169.24000263, 213.17280532,\n",
       "       240.80774612, 178.32610113, 528.8624708 , 197.49025813,\n",
       "       175.01845243, 113.59608868, 138.63431672, 229.0863808 ,\n",
       "       310.93743055, 271.36220449, 186.38197705,  82.27792847,\n",
       "        84.94977402, 199.7291302 , 138.53869548, 277.68973745,\n",
       "       178.32610113, 159.20049818,  97.05784518, 352.01514574,\n",
       "       121.96971288, 538.25727086, 414.12796038, 141.94196542,\n",
       "       224.63318294, 185.77824614, 130.74964689, 437.54535708,\n",
       "        94.41446871, 164.96914599, 196.90262091, 184.27986879,\n",
       "       222.88267111, 299.0180824 , 151.86491152, 557.33767941,\n",
       "       359.45136614,  41.42197898, 365.17105642, 121.76852295,\n",
       "        97.67315988, 145.24961412, 125.40372191, 161.66149729,\n",
       "        97.05784518, 340.26700368, 322.12974908, 253.0062885 ,\n",
       "        99.70396414, 489.72650993, 192.39354354, 171.71080373,\n",
       "       496.35942427, 167.41407502,  27.24932922, 221.05747515,\n",
       "       215.54708445, 263.30632857, 127.44199819,  56.49892273,\n",
       "       328.14131557,  91.15303505, 208.09493944,  70.37512267,\n",
       "       140.68040795,  88.05637827, 104.7209821 , 141.94196542,\n",
       "       125.40372191, 278.56891136, 128.48938905, 247.92089914,\n",
       "       131.89265898, 224.31344764,  98.1056847 , 304.36400738,\n",
       "       247.66036352, 500.3906824 , 145.24961412, 204.84605026,\n",
       "       270.67220566,  83.60571747, 304.89215343, 356.86894165,\n",
       "       174.49030638, 100.98080858, 411.6693807 , 175.7596788 ,\n",
       "       165.38327077, 181.63374983, 484.38058495, 396.89926598,\n",
       "       128.71137061, 187.46115716, 168.40315503, 149.27755208,\n",
       "       179.04639039, 237.75503436, 257.00699764, 158.96828223,\n",
       "       117.39269176, 151.86491152, 229.6154276 , 229.78573295,\n",
       "       149.81745101, 247.66036352, 226.19031981, 211.53676343,\n",
       "       110.90375469, 222.80798699, 558.23733835, 212.959725  ,\n",
       "       242.63294208, 151.86491152, 459.69011264, 398.24754343,\n",
       "       687.87820958,  80.51960167, 365.17105642, 470.18678221,\n",
       "       158.48020892, 247.8043408 ,  70.99888995, 121.76852295,\n",
       "        97.67315988, 434.76585443, 126.58376481, 130.74964689,\n",
       "       125.40372191, 680.19384862, 236.72858062, 116.85752235,\n",
       "        97.05784518, 199.22192126, 390.4970489 , 140.57697176,\n",
       "       349.75533656, 115.35441548, 141.94196542, 188.86391327,\n",
       "       310.76622446, 605.83651358, 114.64392821, 117.42343086,\n",
       "       233.42093191, 114.21140339, 232.14408747, 191.55669593,\n",
       "       179.80855387,  97.05784518, 145.24961412, 198.18961028,\n",
       "       623.90223907, 573.03259349, 108.73911808, 270.02541286,\n",
       "       152.60613789, 331.44896427,  97.05784518, 265.92818175,\n",
       "       124.13434949, 120.82670079, 511.05485488, 205.50758   ,\n",
       "       272.08065916, 277.68973745, 393.16844578, 206.57754429,\n",
       "       322.04526298, 630.92556017, 175.01845243,  97.67315988,\n",
       "       165.09550633, 131.18217171, 191.55669593, 107.4160586 ,\n",
       "       181.63374983, 307.09489543,  88.05637827, 125.40372191,\n",
       "       188.1226869 , 464.82245718, 192.39354354, 189.67982376,\n",
       "       158.48020892, 204.78729074, 288.44953116, 172.43109299,\n",
       "        54.54736644, 216.2673737 , 180.36437741,  54.97989126,\n",
       "       127.44199819, 175.01845243, 141.41381937, 140.95288541,\n",
       "       310.23807841, 542.78306443, 324.87222093, 158.48020892,\n",
       "       250.39170024, 366.39010204,  46.88214111, 137.79746911,\n",
       "       114.64392821, 172.43109299, 130.52064197, 169.12344428,\n",
       "       123.47281975, 543.29117411, 247.92089914, 148.22971256,\n",
       "       145.24961412, 412.90936343, 295.06482856, 179.04639039,\n",
       "       283.03566243, 121.76852295, 652.3299029 , 191.84446037,\n",
       "       132.1057393 , 345.32516421, 324.68097846, 221.05747515,\n",
       "       272.17766631, 121.76852295, 408.59484869, 870.73107006,\n",
       "       134.16227015, 277.68973745, 222.88267111, 241.47497325,\n",
       "       141.81560509, 145.12325379, 115.25879425, 542.45843828,\n",
       "       110.90375469, 255.42585731, 103.54678225,  97.67315988,\n",
       "       230.11328321, 191.55669593, 202.22086841, 281.83423376,\n",
       "       247.66036352, 125.40372191, 256.67944737, 123.47281975,\n",
       "       191.55669593,  80.51960167, 135.32666802, 141.84634419,\n",
       "       304.15092706, 431.49523653, 239.90986898, 317.38152186,\n",
       "       120.82670079, 294.84329566, 300.10414039, 332.93141702,\n",
       "       179.80855387, 100.86425024, 241.78297232, 151.86491152,\n",
       "       143.6905099 , 125.40372191, 186.78629984, 206.21806727,\n",
       "       235.39297665, 221.3333492 , 125.40372191, 336.52474175,\n",
       "       114.21140339, 172.4520301 , 147.39286495, 193.1138328 ,\n",
       "       135.1156761 , 232.16502458, 226.19031981, 283.03566243,\n",
       "       156.1218544 , 130.13433219,  99.70396414, 291.64062151,\n",
       "       150.47898075, 203.02697691, 365.17105642, 113.59608868,\n",
       "       277.5731791 , 178.32610113, 151.86491152, 124.13434949,\n",
       "       249.34386071, 135.32666802, 103.54678225, 137.36494429,\n",
       "       179.99979634, 138.08523355, 320.89340959, 208.09493944,\n",
       "       107.59610599, 277.45662076, 152.60613789, 151.86491152,\n",
       "       178.32610113, 110.80813345,  64.35375419, 137.36494429,\n",
       "       130.79586193, 160.79877762, 203.05771601, 125.40372191,\n",
       "       182.95680931, 144.08521625, 175.01845243, 233.85345673,\n",
       "       171.92388405,  67.77796124, 212.82554971, 124.13434949,\n",
       "       512.89766778, 153.9031878 , 458.32371813, 349.34330019,\n",
       "       237.16110543, 260.14106391, 148.43090249, 104.17189894,\n",
       "       337.96864044, 263.79761291, 271.47876283, 141.41381937,\n",
       "       141.39288225, 540.19570499, 177.13642534, 172.4520301 ,\n",
       "       137.98961232, 100.86425024, 229.42328439, 222.88267111,\n",
       "       151.86491152, 237.50009742, 141.94196542, 209.85326623,\n",
       "       229.49796851, 169.69975627, 352.07463691, 144.58808438,\n",
       "       365.17105642, 139.35460598, 429.97575299, 342.25063221,\n",
       "       214.58387651, 104.7209821 , 437.01631029, 211.56399225,\n",
       "       158.48020892, 173.15138224, 324.71710852, 234.56394401,\n",
       "       -83.5979261 ,  10.09577101, 587.33963441, -13.80834959,\n",
       "       139.35460598, 148.55726282, 249.95917542,  97.05784518,\n",
       "       189.73149998, 547.88790058, 137.79746911, 178.32610113,\n",
       "       184.23872622, 186.49853539,  97.05784518, 263.91005948,\n",
       "       130.74964689, 240.20821851, 156.60333675,  87.63365543,\n",
       "       157.81867918, 121.76852295, 137.97278698, 130.74964689,\n",
       "       117.51905209, 148.55726282, 232.73093309, 181.63374983,\n",
       "       114.73954944, 164.96914599, 206.3444276 , 310.10469472,\n",
       "       379.21756172, 130.79586193, 125.40372191, 124.77995463,\n",
       "       201.47964204,  70.99888995, 391.10077981, 130.74964689,\n",
       "       342.64218354, 205.44978117, 168.61623535, 181.63374983,\n",
       "       114.21140339, 226.19031981, 117.51905209, 147.2878904 ,\n",
       "        82.27792847, 120.09482774, 175.01845243, 171.59424538,\n",
       "       124.87557586,  82.27792847,  85.55350493,  97.55660154,\n",
       "       360.18758   , 246.65152672, 276.72652951, 103.67314258,\n",
       "       152.60613789, 480.96419286, 140.95288541, 332.09456941,\n",
       "       175.01845243, 181.63374983, 138.63431672, 125.30810068,\n",
       "       178.32610113, 145.24961412, 478.50651392, 280.08372192,\n",
       "       458.94838615, 155.17256022, 171.71080373, 246.15277036,\n",
       "       113.59608868, 406.4199777 , 130.74964689, 145.24961412,\n",
       "       205.00037106, 165.09550633,  84.32600673, 524.08018432,\n",
       "       135.20030768, 167.41407502, 188.96933649, 365.36229889,\n",
       "       233.6798743 , 138.63431672, 430.90912257, 164.66298151,\n",
       "       188.96426403, 280.44830299, 179.0673275 , 215.54708445,\n",
       "       232.80561721, 132.35286128, 128.58501028, 232.80561721,\n",
       "       278.41002671,  97.67315988, 184.94139853, 130.74964689,\n",
       "       130.74964689, 283.03566243, 163.8261339 , 465.15936077,\n",
       "       250.39170024, 172.43109299, 338.66799259, 191.55669593,\n",
       "       555.20496956,  76.24874503, 107.59610599,  88.89795539,\n",
       "       117.51905209, 277.68973745, 195.89333545, 132.83921067,\n",
       "       145.24961412, 277.25721263, 184.94139853, 470.50528575,\n",
       "        97.05784518, 365.34226251, 110.90375469, 145.36617247,\n",
       "        97.67315988, 253.86075305,  80.51960167,  80.29806877,\n",
       "        85.55350493, 148.43090249, 117.51905209, 260.74925956,\n",
       "       403.7276437 , 148.51059912, 295.35140534, 369.79337197,\n",
       "       290.92033225, 171.99856817, 310.76622446, 141.94196542,\n",
       "       342.82243636,  80.34428381, 288.44953116, 166.65264319,\n",
       "       312.32336132, 144.70053095, 403.61108535, 256.55854822,\n",
       "       258.5641345 , 141.81560509, 267.64043102, 282.4490998 ,\n",
       "       138.63431672, 141.94196542,  54.97989126, 121.76852295,\n",
       "       366.05023033, 304.36400738, 114.21140339,  97.05784518,\n",
       "       279.72801373, 155.76648915, 127.87452301, 183.08546348,\n",
       "       115.35441548, 145.24961412, 137.24365642, 189.18241681,\n",
       "       125.40372191, 116.19599261, 300.52567556, 474.36320527,\n",
       "       103.67314258, 182.47059744, 560.30500432, 178.32610113,\n",
       "       211.53676343, 312.53644164, 376.42960649, 146.67257569,\n",
       "       365.36229889, 152.26923431, 114.21140339, 283.46818725,\n",
       "       421.41870128, 151.86491152, 150.5955391 , 202.31648964,\n",
       "        70.99888995, 171.46788505, 257.84384524, 407.54340208,\n",
       "       141.94196542, 125.40372191, 213.07628335, 212.959725  ,\n",
       "       158.48020892, 221.21679085, 151.86491152, 178.32610113,\n",
       "        97.05784518, 535.94519132, 226.19031981, 247.79453881,\n",
       "       396.37111993, 310.76622446, 818.41360941, 223.62389748,\n",
       "       123.42077826, 124.13434949, 251.10218751, 121.76852295,\n",
       "       168.39335304, 524.08018432, -83.5979261 , 166.65264319,\n",
       "        97.05784518, 137.36494429, 157.4323694 , 148.43090249,\n",
       "       251.22854784,  54.54736644, 112.05656876, 332.16925353,\n",
       "       110.90375469, 144.8170893 , 129.21012697, 190.17076516,\n",
       "       145.24961412, 192.4691284 , 114.82626943,  97.05784518,\n",
       "       283.46818725, 263.73885339, 171.46788505, 125.40372191,\n",
       "       162.38178655, 152.60613789, 203.15333725,  43.26832792,\n",
       "       121.13286528, 161.78785762, 180.36437741,  53.93205173,\n",
       "       169.1443814 , 192.26718321, 195.47921067, 125.40372191,\n",
       "       126.58376481, 256.19227481, 231.2562953 ,  93.46106276,\n",
       "       191.96101872, 227.14372576,  50.40287013, 345.20860587,\n",
       "       125.40372191, 404.44793296, 138.63431672, 359.29698539,\n",
       "       175.01845243, 437.95694479, 288.48694065, 141.94196542,\n",
       "       117.51905209, 279.89247945, 364.64291037, 141.94196542,\n",
       "       -40.47213265, 390.4970489 , 151.86491152, 121.76852295,\n",
       "       252.16191742, 261.4294564 , 150.5955391 , 163.8261339 ,\n",
       "       151.86491152, 348.63281292, 141.10511781, 166.41856581,\n",
       "       249.34386071, 168.16023635, 130.13433219, 181.5073895 ,\n",
       "       206.1228947 , 437.42879874, 344.05579179,  82.27792847,\n",
       "       178.32610113, 224.6409979 , 141.94196542, 164.96914599,\n",
       "       237.88139469,  87.00853874, 224.27562523,  54.54736644,\n",
       "       145.24961412, 158.48020892, 267.47665057, 109.38472322,\n",
       "       164.96914599,  90.31618744, 174.90189408, 114.21140339,\n",
       "       158.48020892, 114.64392821, 155.76648915, 244.61325044,\n",
       "       211.53676343, 141.94196542, 380.36102247, 436.66995542,\n",
       "       221.05747515, 170.45904825, 234.56394401, 174.69090216,\n",
       "       206.22786925,  82.27792847, 503.48615152, 233.91923961,\n",
       "       239.90986898, 172.33547175, 720.68426218,  93.75019648,\n",
       "       234.34513713, 363.91930094, 110.90375469,  97.67315988,\n",
       "       247.79453881, 125.40372191, 120.82670079, 160.64439687,\n",
       "       193.03914868, 130.74964689, 163.1109171 , 182.35403909,\n",
       "       278.56891136, 323.65495918, 121.76852295, 150.5955391 ,\n",
       "       398.24754343, 153.9031878 , 172.43109299, 221.05747515,\n",
       "        97.67315988, 191.55669593, 158.48020892, 148.55726282,\n",
       "       113.59608868, 234.13141919, 172.43109299, 158.48020892,\n",
       "       281.4095239 , 130.13433219, 150.5955391 , 363.29418425,\n",
       "       125.40372191, 329.03162326, 184.27986879, 353.97873789,\n",
       "       339.87353303, 186.85331448, 348.63281292, 453.34237422,\n",
       "       130.13433219,  80.51960167, 202.22086841, 222.80798699,\n",
       "       151.76929029, 247.66036352, 365.17105642, 218.85473315,\n",
       "       206.84318396, 172.4520301 , 150.70051365, 121.76852295,\n",
       "       145.24961412, 155.04619989, 135.37562555, 232.14408747,\n",
       "       181.63374983])"
      ]
     },
     "execution_count": 103,
     "metadata": {},
     "output_type": "execute_result"
    }
   ],
   "source": [
    "y_predsk"
   ]
  },
  {
   "cell_type": "code",
   "execution_count": 104,
   "metadata": {},
   "outputs": [
    {
     "data": {
      "text/plain": [
       "4327    200.0\n",
       "2326    140.0\n",
       "3190    780.0\n",
       "1900    499.0\n",
       "1622     93.0\n",
       "Name: price, dtype: float64"
      ]
     },
     "execution_count": 104,
     "metadata": {},
     "output_type": "execute_result"
    }
   ],
   "source": [
    "y_test.head()"
   ]
  },
  {
   "cell_type": "code",
   "execution_count": 105,
   "metadata": {},
   "outputs": [
    {
     "name": "stdout",
     "output_type": "stream",
     "text": [
      "(3729,) (3729, 10)\n"
     ]
    }
   ],
   "source": [
    "print( y_train.shape, X_train.shape)"
   ]
  },
  {
   "cell_type": "code",
   "execution_count": null,
   "metadata": {},
   "outputs": [],
   "source": []
  },
  {
   "cell_type": "code",
   "execution_count": 106,
   "metadata": {},
   "outputs": [
    {
     "name": "stdout",
     "output_type": "stream",
     "text": [
      "                            OLS Regression Results                            \n",
      "==============================================================================\n",
      "Dep. Variable:                  price   R-squared:                       0.231\n",
      "Model:                            OLS   Adj. R-squared:                  0.229\n",
      "Method:                 Least Squares   F-statistic:                     124.2\n",
      "Date:                Tue, 07 Aug 2018   Prob (F-statistic):          9.06e-205\n",
      "Time:                        04:25:33   Log-Likelihood:                -25752.\n",
      "No. Observations:                3729   AIC:                         5.152e+04\n",
      "Df Residuals:                    3719   BIC:                         5.159e+04\n",
      "Df Model:                           9                                         \n",
      "Covariance Type:            nonrobust                                         \n",
      "========================================================================================\n",
      "                           coef    std err          t      P>|t|      [0.025      0.975]\n",
      "----------------------------------------------------------------------------------------\n",
      "const                  -15.1342      9.934     -1.523      0.128     -34.611       4.342\n",
      "accommodates            27.2980      4.060      6.724      0.000      19.339      35.257\n",
      "bathrooms               54.4048      7.910      6.878      0.000      38.896      69.914\n",
      "bedrooms                44.8841      7.466      6.012      0.000      30.246      59.522\n",
      "beds                   -13.3472      6.054     -2.205      0.028     -25.216      -1.478\n",
      "cleaning_fee             0.6615      0.077      8.625      0.000       0.511       0.812\n",
      "min_night_stay_long    113.4685     57.255      1.982      0.048       1.214     225.723\n",
      "min_night_stay_mid     -43.1258     10.902     -3.956      0.000     -64.500     -21.752\n",
      "ppt_condensed_hostel   -84.1730     35.466     -2.373      0.018    -153.708     -14.638\n",
      "ppt_condensed_house    -27.7306      8.770     -3.162      0.002     -44.926     -10.535\n",
      "==============================================================================\n",
      "Omnibus:                     8759.706   Durbin-Watson:                   1.988\n",
      "Prob(Omnibus):                  0.000   Jarque-Bera (JB):         89099905.300\n",
      "Skew:                          23.032   Prob(JB):                         0.00\n",
      "Kurtosis:                     758.863   Cond. No.                     1.50e+03\n",
      "==============================================================================\n",
      "\n",
      "Warnings:\n",
      "[1] Standard Errors assume that the covariance matrix of the errors is correctly specified.\n",
      "[2] The condition number is large, 1.5e+03. This might indicate that there are\n",
      "strong multicollinearity or other numerical problems.\n"
     ]
    }
   ],
   "source": [
    "import statsmodels.api as sm\n",
    "import numpy as np\n",
    "model = sm.OLS(y_train, X_train)\n",
    "results = model.fit()\n",
    "print(results.summary())"
   ]
  },
  {
   "cell_type": "code",
   "execution_count": 107,
   "metadata": {},
   "outputs": [
    {
     "name": "stdout",
     "output_type": "stream",
     "text": [
      "337.8782095816673\n"
     ]
    },
    {
     "data": {
      "text/plain": [
       "<matplotlib.axes._subplots.AxesSubplot at 0x7f3ab405aa58>"
      ]
     },
     "execution_count": 107,
     "metadata": {},
     "output_type": "execute_result"
    },
    {
     "data": {
      "image/png": "[encoded data removed]",
      "text/plain": [
       "<Figure size 432x288 with 1 Axes>"
      ]
     },
     "metadata": {},
     "output_type": "display_data"
    }
   ],
   "source": [
    "y_resdsk=(y_predsk-y_test)\n",
    "print(y_resdsk.max())\n",
    "y_resdsk.hist(bins =200)"
   ]
  },
  {
   "cell_type": "code",
   "execution_count": 108,
   "metadata": {},
   "outputs": [
    {
     "name": "stdout",
     "output_type": "stream",
     "text": [
      "619.706333976873\n"
     ]
    },
    {
     "data": {
      "text/plain": [
       "<matplotlib.axes._subplots.AxesSubplot at 0x7f3ab0c10be0>"
      ]
     },
     "execution_count": 108,
     "metadata": {},
     "output_type": "execute_result"
    },
    {
     "data": {
      "image/png": "[encoded data removed]",
      "text/plain": [
       "<Figure size 432x288 with 1 Axes>"
      ]
     },
     "metadata": {},
     "output_type": "display_data"
    }
   ],
   "source": [
    "y_resdpct=(y_predsk-y_test)*100/(y_test+1)\n",
    "print(y_resdpct.max())\n",
    "y_resdpct.hist(bins =200)"
   ]
  },
  {
   "cell_type": "code",
   "execution_count": 109,
   "metadata": {},
   "outputs": [
    {
     "data": {
      "text/html": [
       "<div>\n",
       "<style scoped>\n",
       "    .dataframe tbody tr th:only-of-type {\n",
       "        vertical-align: middle;\n",
       "    }\n",
       "\n",
       "    .dataframe tbody tr th {\n",
       "        vertical-align: top;\n",
       "    }\n",
       "\n",
       "    .dataframe thead th {\n",
       "        text-align: right;\n",
       "    }\n",
       "</style>\n",
       "<table border=\"1\" class=\"dataframe\">\n",
       "  <thead>\n",
       "    <tr style=\"text-align: right;\">\n",
       "      <th></th>\n",
       "      <th>const</th>\n",
       "      <th>accommodates</th>\n",
       "      <th>bathrooms</th>\n",
       "      <th>bedrooms</th>\n",
       "      <th>beds</th>\n",
       "      <th>price</th>\n",
       "      <th>cleaning_fee</th>\n",
       "      <th>min_night_stay_long</th>\n",
       "      <th>min_night_stay_mid</th>\n",
       "      <th>ppt_condensed_hostel</th>\n",
       "      <th>ppt_condensed_house</th>\n",
       "    </tr>\n",
       "  </thead>\n",
       "  <tbody>\n",
       "    <tr>\n",
       "      <th>count</th>\n",
       "      <td>4662.0</td>\n",
       "      <td>4662.000000</td>\n",
       "      <td>4662.000000</td>\n",
       "      <td>4662.000000</td>\n",
       "      <td>4662.000000</td>\n",
       "      <td>4662.000000</td>\n",
       "      <td>4662.000000</td>\n",
       "      <td>4662.000000</td>\n",
       "      <td>4662.000000</td>\n",
       "      <td>4662.000000</td>\n",
       "      <td>4662.000000</td>\n",
       "    </tr>\n",
       "    <tr>\n",
       "      <th>mean</th>\n",
       "      <td>1.0</td>\n",
       "      <td>3.341699</td>\n",
       "      <td>1.286251</td>\n",
       "      <td>1.390605</td>\n",
       "      <td>1.827971</td>\n",
       "      <td>218.081296</td>\n",
       "      <td>78.284642</td>\n",
       "      <td>0.005148</td>\n",
       "      <td>0.173960</td>\n",
       "      <td>0.012870</td>\n",
       "      <td>0.332904</td>\n",
       "    </tr>\n",
       "    <tr>\n",
       "      <th>std</th>\n",
       "      <td>0.0</td>\n",
       "      <td>1.995741</td>\n",
       "      <td>0.627235</td>\n",
       "      <td>0.941283</td>\n",
       "      <td>1.227591</td>\n",
       "      <td>265.054814</td>\n",
       "      <td>67.450150</td>\n",
       "      <td>0.071572</td>\n",
       "      <td>0.379115</td>\n",
       "      <td>0.112726</td>\n",
       "      <td>0.471303</td>\n",
       "    </tr>\n",
       "    <tr>\n",
       "      <th>min</th>\n",
       "      <td>1.0</td>\n",
       "      <td>1.000000</td>\n",
       "      <td>0.000000</td>\n",
       "      <td>0.000000</td>\n",
       "      <td>0.000000</td>\n",
       "      <td>10.000000</td>\n",
       "      <td>0.000000</td>\n",
       "      <td>0.000000</td>\n",
       "      <td>0.000000</td>\n",
       "      <td>0.000000</td>\n",
       "      <td>0.000000</td>\n",
       "    </tr>\n",
       "    <tr>\n",
       "      <th>25%</th>\n",
       "      <td>1.0</td>\n",
       "      <td>2.000000</td>\n",
       "      <td>1.000000</td>\n",
       "      <td>1.000000</td>\n",
       "      <td>1.000000</td>\n",
       "      <td>100.000000</td>\n",
       "      <td>30.000000</td>\n",
       "      <td>0.000000</td>\n",
       "      <td>0.000000</td>\n",
       "      <td>0.000000</td>\n",
       "      <td>0.000000</td>\n",
       "    </tr>\n",
       "    <tr>\n",
       "      <th>50%</th>\n",
       "      <td>1.0</td>\n",
       "      <td>2.000000</td>\n",
       "      <td>1.000000</td>\n",
       "      <td>1.000000</td>\n",
       "      <td>1.000000</td>\n",
       "      <td>155.000000</td>\n",
       "      <td>67.500000</td>\n",
       "      <td>0.000000</td>\n",
       "      <td>0.000000</td>\n",
       "      <td>0.000000</td>\n",
       "      <td>0.000000</td>\n",
       "    </tr>\n",
       "    <tr>\n",
       "      <th>75%</th>\n",
       "      <td>1.0</td>\n",
       "      <td>4.000000</td>\n",
       "      <td>1.500000</td>\n",
       "      <td>2.000000</td>\n",
       "      <td>2.000000</td>\n",
       "      <td>250.000000</td>\n",
       "      <td>100.000000</td>\n",
       "      <td>0.000000</td>\n",
       "      <td>0.000000</td>\n",
       "      <td>0.000000</td>\n",
       "      <td>1.000000</td>\n",
       "    </tr>\n",
       "    <tr>\n",
       "      <th>max</th>\n",
       "      <td>1.0</td>\n",
       "      <td>16.000000</td>\n",
       "      <td>7.000000</td>\n",
       "      <td>7.000000</td>\n",
       "      <td>14.000000</td>\n",
       "      <td>9000.000000</td>\n",
       "      <td>700.000000</td>\n",
       "      <td>1.000000</td>\n",
       "      <td>1.000000</td>\n",
       "      <td>1.000000</td>\n",
       "      <td>1.000000</td>\n",
       "    </tr>\n",
       "  </tbody>\n",
       "</table>\n",
       "</div>"
      ],
      "text/plain": [
       "        const  accommodates    bathrooms     bedrooms         beds  \\\n",
       "count  4662.0   4662.000000  4662.000000  4662.000000  4662.000000   \n",
       "mean      1.0      3.341699     1.286251     1.390605     1.827971   \n",
       "std       0.0      1.995741     0.627235     0.941283     1.227591   \n",
       "min       1.0      1.000000     0.000000     0.000000     0.000000   \n",
       "25%       1.0      2.000000     1.000000     1.000000     1.000000   \n",
       "50%       1.0      2.000000     1.000000     1.000000     1.000000   \n",
       "75%       1.0      4.000000     1.500000     2.000000     2.000000   \n",
       "max       1.0     16.000000     7.000000     7.000000    14.000000   \n",
       "\n",
       "             price  cleaning_fee  min_night_stay_long  min_night_stay_mid  \\\n",
       "count  4662.000000   4662.000000          4662.000000         4662.000000   \n",
       "mean    218.081296     78.284642             0.005148            0.173960   \n",
       "std     265.054814     67.450150             0.071572            0.379115   \n",
       "min      10.000000      0.000000             0.000000            0.000000   \n",
       "25%     100.000000     30.000000             0.000000            0.000000   \n",
       "50%     155.000000     67.500000             0.000000            0.000000   \n",
       "75%     250.000000    100.000000             0.000000            0.000000   \n",
       "max    9000.000000    700.000000             1.000000            1.000000   \n",
       "\n",
       "       ppt_condensed_hostel  ppt_condensed_house  \n",
       "count           4662.000000          4662.000000  \n",
       "mean               0.012870             0.332904  \n",
       "std                0.112726             0.471303  \n",
       "min                0.000000             0.000000  \n",
       "25%                0.000000             0.000000  \n",
       "50%                0.000000             0.000000  \n",
       "75%                0.000000             1.000000  \n",
       "max                1.000000             1.000000  "
      ]
     },
     "execution_count": 109,
     "metadata": {},
     "output_type": "execute_result"
    }
   ],
   "source": [
    "dflreg.describe()"
   ]
  },
  {
   "cell_type": "code",
   "execution_count": null,
   "metadata": {},
   "outputs": [],
   "source": []
  },
  {
   "cell_type": "code",
   "execution_count": 110,
   "metadata": {},
   "outputs": [
    {
     "data": {
      "image/png": "[encoded data removed]",
      "text/plain": [
       "<Figure size 432x288 with 1 Axes>"
      ]
     },
     "metadata": {},
     "output_type": "display_data"
    }
   ],
   "source": [
    "dflreg['price'][dflreg['price']<500].hist(bins=20);"
   ]
  },
  {
   "cell_type": "code",
   "execution_count": 111,
   "metadata": {},
   "outputs": [],
   "source": [
    "# dflreg['price'][[dflreg['price']>500 & dflreg['price']<2000]].hist(bins=20);"
   ]
  },
  {
   "cell_type": "code",
   "execution_count": 112,
   "metadata": {},
   "outputs": [
    {
     "data": {
      "text/html": [
       "<div>\n",
       "<style scoped>\n",
       "    .dataframe tbody tr th:only-of-type {\n",
       "        vertical-align: middle;\n",
       "    }\n",
       "\n",
       "    .dataframe tbody tr th {\n",
       "        vertical-align: top;\n",
       "    }\n",
       "\n",
       "    .dataframe thead th {\n",
       "        text-align: right;\n",
       "    }\n",
       "</style>\n",
       "<table border=\"1\" class=\"dataframe\">\n",
       "  <thead>\n",
       "    <tr style=\"text-align: right;\">\n",
       "      <th>beds</th>\n",
       "      <th>0.0</th>\n",
       "      <th>1.0</th>\n",
       "      <th>2.0</th>\n",
       "      <th>3.0</th>\n",
       "      <th>4.0</th>\n",
       "      <th>5.0</th>\n",
       "      <th>6.0</th>\n",
       "      <th>7.0</th>\n",
       "      <th>8.0</th>\n",
       "      <th>10.0</th>\n",
       "      <th>12.0</th>\n",
       "      <th>14.0</th>\n",
       "    </tr>\n",
       "    <tr>\n",
       "      <th>bedrooms</th>\n",
       "      <th></th>\n",
       "      <th></th>\n",
       "      <th></th>\n",
       "      <th></th>\n",
       "      <th></th>\n",
       "      <th></th>\n",
       "      <th></th>\n",
       "      <th></th>\n",
       "      <th></th>\n",
       "      <th></th>\n",
       "      <th></th>\n",
       "      <th></th>\n",
       "    </tr>\n",
       "  </thead>\n",
       "  <tbody>\n",
       "    <tr>\n",
       "      <th>0</th>\n",
       "      <td>5</td>\n",
       "      <td>317</td>\n",
       "      <td>128</td>\n",
       "      <td>8</td>\n",
       "      <td>3</td>\n",
       "      <td>0</td>\n",
       "      <td>0</td>\n",
       "      <td>0</td>\n",
       "      <td>0</td>\n",
       "      <td>0</td>\n",
       "      <td>0</td>\n",
       "      <td>0</td>\n",
       "    </tr>\n",
       "    <tr>\n",
       "      <th>1</th>\n",
       "      <td>30</td>\n",
       "      <td>2073</td>\n",
       "      <td>525</td>\n",
       "      <td>68</td>\n",
       "      <td>24</td>\n",
       "      <td>6</td>\n",
       "      <td>0</td>\n",
       "      <td>0</td>\n",
       "      <td>1</td>\n",
       "      <td>0</td>\n",
       "      <td>0</td>\n",
       "      <td>1</td>\n",
       "    </tr>\n",
       "    <tr>\n",
       "      <th>2</th>\n",
       "      <td>13</td>\n",
       "      <td>11</td>\n",
       "      <td>560</td>\n",
       "      <td>193</td>\n",
       "      <td>66</td>\n",
       "      <td>8</td>\n",
       "      <td>4</td>\n",
       "      <td>2</td>\n",
       "      <td>0</td>\n",
       "      <td>0</td>\n",
       "      <td>0</td>\n",
       "      <td>0</td>\n",
       "    </tr>\n",
       "    <tr>\n",
       "      <th>3</th>\n",
       "      <td>8</td>\n",
       "      <td>5</td>\n",
       "      <td>17</td>\n",
       "      <td>236</td>\n",
       "      <td>135</td>\n",
       "      <td>38</td>\n",
       "      <td>17</td>\n",
       "      <td>3</td>\n",
       "      <td>0</td>\n",
       "      <td>0</td>\n",
       "      <td>0</td>\n",
       "      <td>0</td>\n",
       "    </tr>\n",
       "    <tr>\n",
       "      <th>4</th>\n",
       "      <td>7</td>\n",
       "      <td>1</td>\n",
       "      <td>0</td>\n",
       "      <td>0</td>\n",
       "      <td>51</td>\n",
       "      <td>44</td>\n",
       "      <td>14</td>\n",
       "      <td>8</td>\n",
       "      <td>5</td>\n",
       "      <td>0</td>\n",
       "      <td>0</td>\n",
       "      <td>0</td>\n",
       "    </tr>\n",
       "    <tr>\n",
       "      <th>5</th>\n",
       "      <td>1</td>\n",
       "      <td>0</td>\n",
       "      <td>0</td>\n",
       "      <td>0</td>\n",
       "      <td>0</td>\n",
       "      <td>9</td>\n",
       "      <td>2</td>\n",
       "      <td>2</td>\n",
       "      <td>5</td>\n",
       "      <td>1</td>\n",
       "      <td>0</td>\n",
       "      <td>0</td>\n",
       "    </tr>\n",
       "    <tr>\n",
       "      <th>6</th>\n",
       "      <td>0</td>\n",
       "      <td>0</td>\n",
       "      <td>0</td>\n",
       "      <td>0</td>\n",
       "      <td>0</td>\n",
       "      <td>0</td>\n",
       "      <td>2</td>\n",
       "      <td>1</td>\n",
       "      <td>1</td>\n",
       "      <td>0</td>\n",
       "      <td>1</td>\n",
       "      <td>0</td>\n",
       "    </tr>\n",
       "    <tr>\n",
       "      <th>7</th>\n",
       "      <td>0</td>\n",
       "      <td>0</td>\n",
       "      <td>0</td>\n",
       "      <td>0</td>\n",
       "      <td>0</td>\n",
       "      <td>0</td>\n",
       "      <td>0</td>\n",
       "      <td>1</td>\n",
       "      <td>0</td>\n",
       "      <td>0</td>\n",
       "      <td>0</td>\n",
       "      <td>1</td>\n",
       "    </tr>\n",
       "  </tbody>\n",
       "</table>\n",
       "</div>"
      ],
      "text/plain": [
       "beds      0.0   1.0   2.0   3.0   4.0   5.0   6.0   7.0   8.0   10.0  12.0  \\\n",
       "bedrooms                                                                     \n",
       "0            5   317   128     8     3     0     0     0     0     0     0   \n",
       "1           30  2073   525    68    24     6     0     0     1     0     0   \n",
       "2           13    11   560   193    66     8     4     2     0     0     0   \n",
       "3            8     5    17   236   135    38    17     3     0     0     0   \n",
       "4            7     1     0     0    51    44    14     8     5     0     0   \n",
       "5            1     0     0     0     0     9     2     2     5     1     0   \n",
       "6            0     0     0     0     0     0     2     1     1     0     1   \n",
       "7            0     0     0     0     0     0     0     1     0     0     0   \n",
       "\n",
       "beds      14.0  \n",
       "bedrooms        \n",
       "0            0  \n",
       "1            1  \n",
       "2            0  \n",
       "3            0  \n",
       "4            0  \n",
       "5            0  \n",
       "6            0  \n",
       "7            1  "
      ]
     },
     "execution_count": 112,
     "metadata": {},
     "output_type": "execute_result"
    }
   ],
   "source": [
    "pd.crosstab(dflreg['bedrooms'], dflreg['beds'])"
   ]
  },
  {
   "cell_type": "code",
   "execution_count": 113,
   "metadata": {},
   "outputs": [
    {
     "data": {
      "text/plain": [
       "Index(['const', 'accommodates', 'bathrooms', 'bedrooms', 'beds',\n",
       "       'cleaning_fee', 'min_night_stay_long', 'min_night_stay_mid',\n",
       "       'ppt_condensed_hostel', 'ppt_condensed_house'],\n",
       "      dtype='object')"
      ]
     },
     "execution_count": 113,
     "metadata": {},
     "output_type": "execute_result"
    }
   ],
   "source": [
    "all_columns = X_train.columns\n",
    "all_columns"
   ]
  },
  {
   "cell_type": "code",
   "execution_count": 114,
   "metadata": {},
   "outputs": [
    {
     "data": {
      "image/png": "[encoded data removed]",
      "text/plain": [
       "<Figure size 864x360 with 1 Axes>"
      ]
     },
     "metadata": {},
     "output_type": "display_data"
    },
    {
     "data": {
      "image/png": "[encoded data removed]",
      "text/plain": [
       "<Figure size 864x360 with 1 Axes>"
      ]
     },
     "metadata": {},
     "output_type": "display_data"
    },
    {
     "data": {
      "image/png": "[encoded data removed]",
      "text/plain": [
       "<Figure size 864x360 with 1 Axes>"
      ]
     },
     "metadata": {},
     "output_type": "display_data"
    },
    {
     "data": {
      "image/png": "[encoded data removed]",
      "text/plain": [
       "<Figure size 864x360 with 1 Axes>"
      ]
     },
     "metadata": {},
     "output_type": "display_data"
    },
    {
     "data": {
      "image/png": "[encoded data removed]",
      "text/plain": [
       "<Figure size 864x360 with 1 Axes>"
      ]
     },
     "metadata": {},
     "output_type": "display_data"
    },
    {
     "data": {
      "image/png": "[encoded data removed]",
      "text/plain": [
       "<Figure size 864x360 with 1 Axes>"
      ]
     },
     "metadata": {},
     "output_type": "display_data"
    },
    {
     "data": {
      "image/png": "[encoded data removed]",
      "text/plain": [
       "<Figure size 864x360 with 1 Axes>"
      ]
     },
     "metadata": {},
     "output_type": "display_data"
    },
    {
     "data": {
      "image/png": "[encoded data removed]",
      "text/plain": [
       "<Figure size 864x360 with 1 Axes>"
      ]
     },
     "metadata": {},
     "output_type": "display_data"
    },
    {
     "data": {
      "image/png": "[encoded data removed]",
      "text/plain": [
       "<Figure size 864x360 with 1 Axes>"
      ]
     },
     "metadata": {},
     "output_type": "display_data"
    },
    {
     "data": {
      "image/png": "[encoded data removed]",
      "text/plain": [
       "<Figure size 864x360 with 1 Axes>"
      ]
     },
     "metadata": {},
     "output_type": "display_data"
    }
   ],
   "source": [
    "for col in all_columns:\n",
    "    dfscat.plot(kind='scatter', y='price', x=col, edgecolor='none', figsize=(12, 5))\n",
    "    plt.xlabel(col)\n",
    "    plt.ylabel('Price')\n",
    "    plt.show()"
   ]
  },
  {
   "cell_type": "code",
   "execution_count": null,
   "metadata": {},
   "outputs": [],
   "source": []
  },
  {
   "cell_type": "code",
   "execution_count": null,
   "metadata": {},
   "outputs": [],
   "source": []
  }
 ],
 "metadata": {
  "kernelspec": {
   "display_name": "Python 3",
   "language": "python",
   "name": "python3"
  },
  "language_info": {
   "codemirror_mode": {
    "name": "ipython",
    "version": 3
   },
   "file_extension": ".py",
   "mimetype": "text/x-python",
   "name": "python",
   "nbconvert_exporter": "python",
   "pygments_lexer": "ipython3",
   "version": "3.5.2"
  }
 },
 "nbformat": 4,
 "nbformat_minor": 2
}
