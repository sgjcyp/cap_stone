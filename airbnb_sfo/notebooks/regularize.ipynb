{
 "cells": [
  {
   "cell_type": "code",
   "execution_count": 1,
   "metadata": {},
   "outputs": [],
   "source": [
    "import numpy as np\n",
    "import pandas as pd\n",
    "import matplotlib.pyplot as plt\n",
    "%matplotlib inline\n",
    "\n",
    "from sklearn.model_selection import train_test_split\n",
    "from sklearn import datasets, linear_model\n",
    "from sklearn.metrics import  mean_squared_error, r2_score\n",
    "\n",
    "import statsmodels.api as sm"
   ]
  },
  {
   "cell_type": "code",
   "execution_count": 264,
   "metadata": {},
   "outputs": [],
   "source": [
    "cal = pd.read_csv('calendar.csv.gz')\n",
    "listd = pd.read_csv('listings.csv.gz')\n",
    "lists = pd.read_csv('listings.csv')\n",
    "revs = pd.read_csv('reviews.csv.gz')\n",
    "nhood = pd.read_csv('neighbourhoods.csv')\n",
    "purelst = pd.read_csv('listings.csv.gz')"
   ]
  },
  {
   "cell_type": "code",
   "execution_count": 265,
   "metadata": {},
   "outputs": [],
   "source": [
    "# pd.set_option('display.max_colu?mns', 96)\n",
    "pd.set_option('display.max_rows', 96)"
   ]
  },
  {
   "cell_type": "code",
   "execution_count": 266,
   "metadata": {},
   "outputs": [
    {
     "name": "stdout",
     "output_type": "stream",
     "text": [
      "96 12\n",
      "84 12\n"
     ]
    }
   ],
   "source": [
    "#CLEANUP incoming dataframes\n",
    "\n",
    "listd_drop_cols = ['scrape_id','last_scraped','experiences_offered','thumbnail_url','medium_url','xl_picture_url',\\\n",
    "                   'host_name','host_location','neighbourhood_group_cleansed','square_feet',\\\n",
    "                   'maximum_nights','is_business_travel_ready']\n",
    "\n",
    "# listd_numc_cols\n",
    "# listd_catz_cols\n",
    "\n",
    "print(len(listd.columns), len(listd_drop_cols))\n",
    "listd.drop(listd_drop_cols,axis=1,inplace=True )\n",
    "print(len(listd.columns), len(listd_drop_cols))"
   ]
  },
  {
   "cell_type": "markdown",
   "metadata": {},
   "source": [
    "# ALL TRANSFORMATIONS FUNCTIONS  : "
   ]
  },
  {
   "cell_type": "code",
   "execution_count": 267,
   "metadata": {},
   "outputs": [
    {
     "name": "stdout",
     "output_type": "stream",
     "text": [
      "2018-07-05 2019-07-04\n",
      "2009-05-03 2018-07-05\n"
     ]
    }
   ],
   "source": [
    "print(cal.date.min(),cal.date.max())\n",
    "print(revs.date.min(),revs.date.max())\n",
    "# print(lists.last_review.min(),lists.last_review.max())"
   ]
  },
  {
   "cell_type": "code",
   "execution_count": 268,
   "metadata": {},
   "outputs": [],
   "source": [
    "# tmp=listd.copy() # Create a new copy of the existing dataframe otherwise it is only by reference\n",
    "# tmp.head().T"
   ]
  },
  {
   "cell_type": "code",
   "execution_count": 269,
   "metadata": {},
   "outputs": [],
   "source": [
    "def price_xform(dframe,colname):\n",
    "    dframe[colname]=dframe[colname].str.replace('$','')\n",
    "    dframe[colname]=dframe[colname].str.replace(',','')\n",
    "    dframe[colname]=pd.to_numeric(dframe[colname])\n",
    "#     return(dframe)"
   ]
  },
  {
   "cell_type": "code",
   "execution_count": 270,
   "metadata": {},
   "outputs": [],
   "source": [
    "def cat_rename(dframe,colname,src,tgt):\n",
    "    dframe[colname]=dframe[colname].str.replace(src,tgt)\n",
    "#     dframe[colname]=dframe[colname].str.replace(',','')\n",
    "#     dframe[colname]=pd.to_numeric(dframe[colname])\n",
    "#     return(dframe)"
   ]
  },
  {
   "cell_type": "code",
   "execution_count": 271,
   "metadata": {},
   "outputs": [],
   "source": [
    "def create_dummies(dframe,colname):\n",
    "#     dfnew=dframe.copy()\n",
    "    dframe=pd.get_dummies(data=dframe, columns=[colname])# create dummies and drop the parent column\n",
    "    dframe.drop(columns=[dframe.columns[-1]],inplace=True) #dropped the last column from the add dummies\n",
    "    return dframe"
   ]
  },
  {
   "cell_type": "code",
   "execution_count": 272,
   "metadata": {},
   "outputs": [],
   "source": [
    "#Impute Null Rows based on the specified column\n",
    "def impute_nullrows(dframe,colname):\n",
    "    print(dframe[colname].isnull().sum())\n",
    "    dftmp=dframe[~dframe[colname].isnull()]   # remove nulls from one column\n",
    "    print(dftmp[colname].isnull().sum())\n",
    "    return dftmp\n"
   ]
  },
  {
   "cell_type": "markdown",
   "metadata": {},
   "source": [
    "# TRANSFORM ACTIONS"
   ]
  },
  {
   "cell_type": "code",
   "execution_count": 273,
   "metadata": {},
   "outputs": [],
   "source": [
    "# Convert to Booleans\n",
    "listd['host_is_superhost'] = listd.apply(lambda x:  x.host_is_superhost=='t', axis= 1)\n",
    "listd['host_has_profile_pic'] = listd.apply(lambda x:  x.host_has_profile_pic=='t', axis= 1)\n",
    "listd['host_identity_verified'] = listd.apply(lambda x:  x.host_identity_verified=='t', axis= 1)\n",
    "listd['instant_bookable'] = listd.apply(lambda x:  x.instant_bookable=='t', axis= 1)"
   ]
  },
  {
   "cell_type": "code",
   "execution_count": 274,
   "metadata": {},
   "outputs": [],
   "source": [
    "#Transform all the price columns to remove \"$\" and \",\"\n",
    "\n",
    "price_xform(listd,'price')\n",
    "price_xform(listd,'weekly_price')\n",
    "price_xform(listd,'monthly_price')\n",
    "price_xform(listd,'security_deposit')\n",
    "price_xform(listd,'cleaning_fee')\n",
    "price_xform(listd,'extra_people')"
   ]
  },
  {
   "cell_type": "code",
   "execution_count": 275,
   "metadata": {},
   "outputs": [],
   "source": [
    "#Transform the room_type . to create a meaningful name and create dummies\n",
    "\n",
    "cat_rename(listd,'room_type','Entire home/apt','full')\n",
    "cat_rename(listd,'room_type','Private room','pvt')\n",
    "cat_rename(listd,'room_type','Shared room','shared')\n",
    "\n",
    "listd=create_dummies(listd,'room_type')\n",
    "# listd=pd.get_dummies(data=listd, columns=['room_type'])  # create dummies and drop the parent column\n",
    "# listd.drop(columns=[listd.columns[-1]],inplace=True)  #dropped the last column from the add dummies"
   ]
  },
  {
   "cell_type": "code",
   "execution_count": 276,
   "metadata": {},
   "outputs": [],
   "source": [
    "#Transform the bed_type . to create a meaningful name and create dummies\n",
    "listd['bed_type'] = listd.apply(lambda x: x.bed_type=='Real Bed', axis=1)"
   ]
  },
  {
   "cell_type": "code",
   "execution_count": 277,
   "metadata": {},
   "outputs": [],
   "source": [
    "#Put a count on amenities,   IF it does not work, pick the most important feature\n",
    "listd['amentcnt'] =   listd.apply(lambda x: len(x.amenities.split(\",\")), axis=1)"
   ]
  },
  {
   "cell_type": "code",
   "execution_count": 278,
   "metadata": {},
   "outputs": [],
   "source": [
    "#!!! APPLY the same for the test data also\n",
    "#Impute the to remove the rows with no zipcode.  !!! APPLY the same for the test data also\n",
    "listd=listd[~listd['zipcode'].isnull()]   # remove nulls from one column\n",
    "\n",
    "\n"
   ]
  },
  {
   "cell_type": "code",
   "execution_count": 279,
   "metadata": {},
   "outputs": [],
   "source": [
    "#Impute the null values with meaningful data\n",
    "\n",
    "listd['cleaning_fee']=listd['cleaning_fee'].fillna(0)\n",
    "listd['review_scores_cleanliness'] = listd['review_scores_cleanliness'].fillna(listd.review_scores_cleanliness.mean())\n",
    "\n",
    "listd['review_scores_location'] = listd['review_scores_location'].fillna(listd.review_scores_location.mean())\n",
    "listd['review_scores_value'] = listd['review_scores_value'].fillna(listd.review_scores_value.mean())\n",
    "\n",
    "\n"
   ]
  },
  {
   "cell_type": "code",
   "execution_count": 280,
   "metadata": {},
   "outputs": [],
   "source": [
    "# mask1 = listd['minimum_nights']>7 \n",
    "# mask2 = listd['minimum_nights']<=32\n",
    "# maskmid=mask1 & mask2 \n",
    "# maskmid = (listd['minimum_nights']>7) & (listd['minimum_nights']<=32)\n",
    "# mask2\n",
    "# maskmid\n",
    "listd.loc[listd['minimum_nights']<=7,'min_night_stay'] = 'short'\n",
    "listd.loc[(listd['minimum_nights']>7) & (listd['minimum_nights']<=32),'min_night_stay'] = 'mid'\n",
    "listd.loc[listd['minimum_nights']>32,'min_night_stay'] = 'long'\n",
    "listd=create_dummies(listd,'min_night_stay')"
   ]
  },
  {
   "cell_type": "code",
   "execution_count": 281,
   "metadata": {},
   "outputs": [],
   "source": [
    "#Condensing the property_type to sub categories\n",
    "\n",
    "listd.loc[listd['property_type']=='Apartment', 'ppt_condensed'] = 'apt'\n",
    "listd.loc[listd['property_type']=='Condominium', 'ppt_condensed'] = 'apt'\n",
    "listd.loc[listd['property_type']=='Guest suite', 'ppt_condensed'] = 'apt'\n",
    "listd.loc[listd['property_type']=='Townhouse', 'ppt_condensed'] = 'apt'\n",
    "listd.loc[listd['property_type']=='Guesthouse', 'ppt_condensed'] = 'apt'\n",
    "listd.loc[listd['property_type']=='Tiny house', 'ppt_condensed'] = 'apt'\n",
    "listd.loc[listd['property_type']=='Timeshare', 'ppt_condensed'] = 'apt'\n",
    "\n",
    "listd.loc[listd['property_type']=='Serviced apartment', 'ppt_condensed'] = 'aptspl'\n",
    "listd.loc[listd['property_type']=='Bed and breakfast', 'ppt_condensed'] = 'aptspl'\n",
    "listd.loc[listd['property_type']=='Treehouse', 'ppt_condensed'] = 'aptspl'\n",
    "listd.loc[listd['property_type']=='Cabin', 'ppt_condensed'] = 'aptspl'\n",
    "\n",
    "listd.loc[listd['property_type']=='Bus', 'ppt_condensed'] = 'auto'\n",
    "listd.loc[listd['property_type']=='Boat', 'ppt_condensed'] = 'auto'\n",
    "listd.loc[listd['property_type']=='Camper/RV', 'ppt_condensed'] = 'auto'\n",
    "\n",
    "listd.loc[listd['property_type']=='Hostel', 'ppt_condensed'] = 'hostel'\n",
    "\n",
    "listd.loc[listd['property_type']=='Boutique hotel', 'ppt_condensed'] = 'hotel'\n",
    "listd.loc[listd['property_type']=='Hotel', 'ppt_condensed'] = 'hotel'\n",
    "listd.loc[listd['property_type']=='Resort', 'ppt_condensed'] = 'hotel'\n",
    "listd.loc[listd['property_type']=='Aparthotel', 'ppt_condensed'] = 'hotel'\n",
    "\n",
    "listd.loc[listd['property_type']=='House', 'ppt_condensed'] = 'house'\n",
    "listd.loc[listd['property_type']=='Bungalow', 'ppt_condensed'] = 'house'\n",
    "listd.loc[listd['property_type']=='Cottage', 'ppt_condensed'] = 'house'\n",
    "listd.loc[listd['property_type']=='Villa', 'ppt_condensed'] = 'house'\n",
    "\n",
    "listd.loc[listd['property_type']=='Other', 'ppt_condensed'] = 'other'\n",
    "\n",
    "listd.loc[listd['property_type']=='Loft', 'ppt_condensed'] = 'room'\n",
    "\n",
    "listd=create_dummies(listd,'ppt_condensed')"
   ]
  },
  {
   "cell_type": "code",
   "execution_count": 282,
   "metadata": {},
   "outputs": [],
   "source": [
    "listd=create_dummies(listd,'zipcode')"
   ]
  },
  {
   "cell_type": "code",
   "execution_count": 283,
   "metadata": {},
   "outputs": [],
   "source": [
    "#imputing some more missing values\n",
    "\n",
    "listd['cleaning_fee'].fillna(0, inplace=True)\n",
    "listd['beds'].fillna(0, inplace=True)\n",
    "listd['bathrooms'].fillna(0, inplace=True)"
   ]
  },
  {
   "cell_type": "code",
   "execution_count": 284,
   "metadata": {},
   "outputs": [],
   "source": [
    "# lreg_cols = ['price','weekly_price','cleaning_fee','accommodates','bedrooms','beds',\\\n",
    "#              'bathrooms','guests_included','zipcode']\n",
    "\n",
    "listd_drop_cols2=['id', 'listing_url', 'name', 'summary', 'space', 'description',\\\n",
    "       'neighborhood_overview', 'notes', 'transit', 'access', 'interaction',\\\n",
    "       'house_rules', 'picture_url', 'host_id', 'host_url', 'host_since',\\\n",
    "       'host_about', 'host_response_time', 'host_response_rate',\\\n",
    "       'host_acceptance_rate', 'host_thumbnail_url',\\\n",
    "       'host_picture_url', 'host_neighbourhood', 'host_listings_count',\\\n",
    "       'host_total_listings_count', 'host_verifications',\\\n",
    "       'host_has_profile_pic', 'street',\\\n",
    "       'neighbourhood', 'neighbourhood_cleansed', 'city', 'state',\\\n",
    "       'market', 'smart_location', 'country_code', 'country', 'latitude',\\\n",
    "       'longitude', 'is_location_exact', 'property_type',\\\n",
    "       'amenities',\\\n",
    "       'weekly_price', 'monthly_price', 'security_deposit',\\\n",
    "       'extra_people', 'minimum_nights', 'calendar_updated',\\\n",
    "       'has_availability', 'availability_30', 'availability_60',\\\n",
    "       'availability_90', 'availability_365', 'calendar_last_scraped',\\\n",
    "       'number_of_reviews', 'first_review', 'last_review',\\\n",
    "       'review_scores_rating', 'review_scores_accuracy',\\\n",
    "       'review_scores_cleanliness', 'review_scores_checkin',\\\n",
    "       'review_scores_communication', 'review_scores_location',\\\n",
    "       'review_scores_value', 'requires_license', 'license',\\\n",
    "       'jurisdiction_names', 'instant_bookable', 'cancellation_policy',\\\n",
    "       'require_guest_profile_picture', 'require_guest_phone_verification',\\\n",
    "       'calculated_host_listings_count', 'reviews_per_month']\n",
    "# listd_drop_cols2=['property_type','minimum_nights']\n",
    "listd.drop(listd_drop_cols2,axis=1,inplace=True )"
   ]
  },
  {
   "cell_type": "code",
   "execution_count": 285,
   "metadata": {},
   "outputs": [
    {
     "data": {
      "text/plain": [
       "Index(['host_is_superhost', 'host_identity_verified', 'accommodates',\n",
       "       'bathrooms', 'bedrooms', 'beds', 'bed_type', 'price', 'cleaning_fee',\n",
       "       'guests_included', 'room_type_full', 'room_type_pvt', 'amentcnt',\n",
       "       'min_night_stay_long', 'min_night_stay_mid', 'ppt_condensed_apt',\n",
       "       'ppt_condensed_aptspl', 'ppt_condensed_auto', 'ppt_condensed_hostel',\n",
       "       'ppt_condensed_hotel', 'ppt_condensed_house', 'ppt_condensed_other',\n",
       "       'zipcode_94014.0', 'zipcode_94015.0', 'zipcode_94102.0',\n",
       "       'zipcode_94103.0', 'zipcode_94104.0', 'zipcode_94105.0',\n",
       "       'zipcode_94107.0', 'zipcode_94108.0', 'zipcode_94109.0',\n",
       "       'zipcode_94110.0', 'zipcode_94111.0', 'zipcode_94112.0',\n",
       "       'zipcode_94114.0', 'zipcode_94115.0', 'zipcode_94116.0',\n",
       "       'zipcode_94117.0', 'zipcode_94118.0', 'zipcode_94121.0',\n",
       "       'zipcode_94122.0', 'zipcode_94123.0', 'zipcode_94124.0',\n",
       "       'zipcode_94127.0', 'zipcode_94129.0', 'zipcode_94131.0',\n",
       "       'zipcode_94132.0', 'zipcode_94133.0', 'zipcode_94134.0',\n",
       "       'zipcode_94158.0'],\n",
       "      dtype='object')"
      ]
     },
     "execution_count": 285,
     "metadata": {},
     "output_type": "execute_result"
    }
   ],
   "source": [
    "listd.columns"
   ]
  },
  {
   "cell_type": "code",
   "execution_count": 286,
   "metadata": {},
   "outputs": [
    {
     "data": {
      "text/plain": [
       "(4669, 50)"
      ]
     },
     "execution_count": 286,
     "metadata": {},
     "output_type": "execute_result"
    }
   ],
   "source": [
    "listd.shape"
   ]
  },
  {
   "cell_type": "code",
   "execution_count": null,
   "metadata": {},
   "outputs": [],
   "source": []
  },
  {
   "cell_type": "markdown",
   "metadata": {},
   "source": [
    "# EXTRA BEGIN"
   ]
  },
  {
   "cell_type": "markdown",
   "metadata": {},
   "source": [
    "# EXTRA END"
   ]
  },
  {
   "cell_type": "code",
   "execution_count": 287,
   "metadata": {},
   "outputs": [],
   "source": [
    "dfcorr=listd.corr()\n",
    "# dfcorr.price.sort_values()\n"
   ]
  },
  {
   "cell_type": "code",
   "execution_count": 288,
   "metadata": {},
   "outputs": [
    {
     "data": {
      "text/html": [
       "<div>\n",
       "<style scoped>\n",
       "    .dataframe tbody tr th:only-of-type {\n",
       "        vertical-align: middle;\n",
       "    }\n",
       "\n",
       "    .dataframe tbody tr th {\n",
       "        vertical-align: top;\n",
       "    }\n",
       "\n",
       "    .dataframe thead th {\n",
       "        text-align: right;\n",
       "    }\n",
       "</style>\n",
       "<table border=\"1\" class=\"dataframe\">\n",
       "  <thead>\n",
       "    <tr style=\"text-align: right;\">\n",
       "      <th></th>\n",
       "      <th>host_is_superhost</th>\n",
       "      <th>host_identity_verified</th>\n",
       "      <th>accommodates</th>\n",
       "      <th>bathrooms</th>\n",
       "      <th>bedrooms</th>\n",
       "      <th>beds</th>\n",
       "      <th>bed_type</th>\n",
       "      <th>price</th>\n",
       "      <th>cleaning_fee</th>\n",
       "      <th>guests_included</th>\n",
       "      <th>...</th>\n",
       "      <th>zipcode_94122.0</th>\n",
       "      <th>zipcode_94123.0</th>\n",
       "      <th>zipcode_94124.0</th>\n",
       "      <th>zipcode_94127.0</th>\n",
       "      <th>zipcode_94129.0</th>\n",
       "      <th>zipcode_94131.0</th>\n",
       "      <th>zipcode_94132.0</th>\n",
       "      <th>zipcode_94133.0</th>\n",
       "      <th>zipcode_94134.0</th>\n",
       "      <th>zipcode_94158.0</th>\n",
       "    </tr>\n",
       "  </thead>\n",
       "  <tbody>\n",
       "    <tr>\n",
       "      <th>host_is_superhost</th>\n",
       "      <td>1.000000</td>\n",
       "      <td>0.175279</td>\n",
       "      <td>-0.066246</td>\n",
       "      <td>-0.073244</td>\n",
       "      <td>-0.068472</td>\n",
       "      <td>-0.093756</td>\n",
       "      <td>-0.021697</td>\n",
       "      <td>-0.013003</td>\n",
       "      <td>-0.035032</td>\n",
       "      <td>0.004400</td>\n",
       "      <td>...</td>\n",
       "      <td>0.047449</td>\n",
       "      <td>-0.008327</td>\n",
       "      <td>-0.000980</td>\n",
       "      <td>0.016222</td>\n",
       "      <td>-0.012798</td>\n",
       "      <td>0.017896</td>\n",
       "      <td>-0.016272</td>\n",
       "      <td>-0.024038</td>\n",
       "      <td>-0.011413</td>\n",
       "      <td>-0.018776</td>\n",
       "    </tr>\n",
       "    <tr>\n",
       "      <th>host_identity_verified</th>\n",
       "      <td>0.175279</td>\n",
       "      <td>1.000000</td>\n",
       "      <td>0.022881</td>\n",
       "      <td>0.037757</td>\n",
       "      <td>0.083777</td>\n",
       "      <td>0.009490</td>\n",
       "      <td>-0.020877</td>\n",
       "      <td>0.057496</td>\n",
       "      <td>0.062758</td>\n",
       "      <td>0.043328</td>\n",
       "      <td>...</td>\n",
       "      <td>-0.004123</td>\n",
       "      <td>-0.026080</td>\n",
       "      <td>0.009686</td>\n",
       "      <td>0.000057</td>\n",
       "      <td>0.010770</td>\n",
       "      <td>0.014712</td>\n",
       "      <td>-0.018414</td>\n",
       "      <td>-0.054392</td>\n",
       "      <td>-0.035066</td>\n",
       "      <td>-0.024679</td>\n",
       "    </tr>\n",
       "    <tr>\n",
       "      <th>accommodates</th>\n",
       "      <td>-0.066246</td>\n",
       "      <td>0.022881</td>\n",
       "      <td>1.000000</td>\n",
       "      <td>0.480117</td>\n",
       "      <td>0.769191</td>\n",
       "      <td>0.834543</td>\n",
       "      <td>0.071087</td>\n",
       "      <td>0.434465</td>\n",
       "      <td>0.549483</td>\n",
       "      <td>0.559105</td>\n",
       "      <td>...</td>\n",
       "      <td>0.009334</td>\n",
       "      <td>0.023442</td>\n",
       "      <td>-0.009602</td>\n",
       "      <td>0.008477</td>\n",
       "      <td>0.019520</td>\n",
       "      <td>0.012934</td>\n",
       "      <td>-0.023730</td>\n",
       "      <td>0.001014</td>\n",
       "      <td>0.027702</td>\n",
       "      <td>0.004085</td>\n",
       "    </tr>\n",
       "    <tr>\n",
       "      <th>bathrooms</th>\n",
       "      <td>-0.073244</td>\n",
       "      <td>0.037757</td>\n",
       "      <td>0.480117</td>\n",
       "      <td>1.000000</td>\n",
       "      <td>0.554560</td>\n",
       "      <td>0.493639</td>\n",
       "      <td>0.036346</td>\n",
       "      <td>0.334613</td>\n",
       "      <td>0.376771</td>\n",
       "      <td>0.285099</td>\n",
       "      <td>...</td>\n",
       "      <td>-0.020438</td>\n",
       "      <td>0.037669</td>\n",
       "      <td>-0.014356</td>\n",
       "      <td>0.025868</td>\n",
       "      <td>-0.006674</td>\n",
       "      <td>0.002485</td>\n",
       "      <td>0.021276</td>\n",
       "      <td>-0.040516</td>\n",
       "      <td>-0.012096</td>\n",
       "      <td>0.003848</td>\n",
       "    </tr>\n",
       "    <tr>\n",
       "      <th>bedrooms</th>\n",
       "      <td>-0.068472</td>\n",
       "      <td>0.083777</td>\n",
       "      <td>0.769191</td>\n",
       "      <td>0.554560</td>\n",
       "      <td>1.000000</td>\n",
       "      <td>0.730330</td>\n",
       "      <td>0.046203</td>\n",
       "      <td>0.434527</td>\n",
       "      <td>0.581186</td>\n",
       "      <td>0.520352</td>\n",
       "      <td>...</td>\n",
       "      <td>-0.003992</td>\n",
       "      <td>0.037804</td>\n",
       "      <td>-0.023596</td>\n",
       "      <td>0.021624</td>\n",
       "      <td>0.009492</td>\n",
       "      <td>0.034685</td>\n",
       "      <td>-0.015172</td>\n",
       "      <td>0.012337</td>\n",
       "      <td>0.007095</td>\n",
       "      <td>0.001438</td>\n",
       "    </tr>\n",
       "  </tbody>\n",
       "</table>\n",
       "<p>5 rows × 50 columns</p>\n",
       "</div>"
      ],
      "text/plain": [
       "                        host_is_superhost  host_identity_verified  \\\n",
       "host_is_superhost                1.000000                0.175279   \n",
       "host_identity_verified           0.175279                1.000000   \n",
       "accommodates                    -0.066246                0.022881   \n",
       "bathrooms                       -0.073244                0.037757   \n",
       "bedrooms                        -0.068472                0.083777   \n",
       "\n",
       "                        accommodates  bathrooms  bedrooms      beds  bed_type  \\\n",
       "host_is_superhost          -0.066246  -0.073244 -0.068472 -0.093756 -0.021697   \n",
       "host_identity_verified      0.022881   0.037757  0.083777  0.009490 -0.020877   \n",
       "accommodates                1.000000   0.480117  0.769191  0.834543  0.071087   \n",
       "bathrooms                   0.480117   1.000000  0.554560  0.493639  0.036346   \n",
       "bedrooms                    0.769191   0.554560  1.000000  0.730330  0.046203   \n",
       "\n",
       "                           price  cleaning_fee  guests_included  \\\n",
       "host_is_superhost      -0.013003     -0.035032         0.004400   \n",
       "host_identity_verified  0.057496      0.062758         0.043328   \n",
       "accommodates            0.434465      0.549483         0.559105   \n",
       "bathrooms               0.334613      0.376771         0.285099   \n",
       "bedrooms                0.434527      0.581186         0.520352   \n",
       "\n",
       "                             ...         zipcode_94122.0  zipcode_94123.0  \\\n",
       "host_is_superhost            ...                0.047449        -0.008327   \n",
       "host_identity_verified       ...               -0.004123        -0.026080   \n",
       "accommodates                 ...                0.009334         0.023442   \n",
       "bathrooms                    ...               -0.020438         0.037669   \n",
       "bedrooms                     ...               -0.003992         0.037804   \n",
       "\n",
       "                        zipcode_94124.0  zipcode_94127.0  zipcode_94129.0  \\\n",
       "host_is_superhost             -0.000980         0.016222        -0.012798   \n",
       "host_identity_verified         0.009686         0.000057         0.010770   \n",
       "accommodates                  -0.009602         0.008477         0.019520   \n",
       "bathrooms                     -0.014356         0.025868        -0.006674   \n",
       "bedrooms                      -0.023596         0.021624         0.009492   \n",
       "\n",
       "                        zipcode_94131.0  zipcode_94132.0  zipcode_94133.0  \\\n",
       "host_is_superhost              0.017896        -0.016272        -0.024038   \n",
       "host_identity_verified         0.014712        -0.018414        -0.054392   \n",
       "accommodates                   0.012934        -0.023730         0.001014   \n",
       "bathrooms                      0.002485         0.021276        -0.040516   \n",
       "bedrooms                       0.034685        -0.015172         0.012337   \n",
       "\n",
       "                        zipcode_94134.0  zipcode_94158.0  \n",
       "host_is_superhost             -0.011413        -0.018776  \n",
       "host_identity_verified        -0.035066        -0.024679  \n",
       "accommodates                   0.027702         0.004085  \n",
       "bathrooms                     -0.012096         0.003848  \n",
       "bedrooms                       0.007095         0.001438  \n",
       "\n",
       "[5 rows x 50 columns]"
      ]
     },
     "execution_count": 288,
     "metadata": {},
     "output_type": "execute_result"
    }
   ],
   "source": [
    "dfcorr.head()"
   ]
  },
  {
   "cell_type": "code",
   "execution_count": 289,
   "metadata": {},
   "outputs": [
    {
     "data": {
      "text/plain": [
       "room_type_pvt            -0.255959\n",
       "zipcode_94112.0          -0.081166\n",
       "ppt_condensed_hostel     -0.065111\n",
       "zipcode_94124.0          -0.058205\n",
       "zipcode_94122.0          -0.046702\n",
       "zipcode_94132.0          -0.043868\n",
       "zipcode_94102.0          -0.043633\n",
       "zipcode_94134.0          -0.037803\n",
       "min_night_stay_mid       -0.037199\n",
       "zipcode_94111.0          -0.027050\n",
       "ppt_condensed_hotel      -0.026284\n",
       "zipcode_94110.0          -0.025305\n",
       "ppt_condensed_apt        -0.024605\n",
       "zipcode_94014.0          -0.022688\n",
       "ppt_condensed_aptspl     -0.020042\n",
       "zipcode_94127.0          -0.018272\n",
       "zipcode_94116.0          -0.015017\n",
       "ppt_condensed_auto       -0.014007\n",
       "ppt_condensed_other      -0.013178\n",
       "host_is_superhost        -0.013003\n",
       "zipcode_94015.0          -0.009239\n",
       "zipcode_94107.0           0.001773\n",
       "zipcode_94108.0           0.002104\n",
       "zipcode_94118.0           0.002555\n",
       "zipcode_94105.0           0.002993\n",
       "zipcode_94131.0           0.003971\n",
       "zipcode_94129.0           0.004267\n",
       "zipcode_94158.0           0.006018\n",
       "zipcode_94103.0           0.010894\n",
       "zipcode_94121.0           0.016871\n",
       "zipcode_94117.0           0.023547\n",
       "min_night_stay_long       0.025025\n",
       "bed_type                  0.031357\n",
       "zipcode_94109.0           0.032578\n",
       "zipcode_94114.0           0.048424\n",
       "host_identity_verified    0.057496\n",
       "ppt_condensed_house       0.058412\n",
       "zipcode_94104.0           0.059767\n",
       "zipcode_94115.0           0.060684\n",
       "zipcode_94133.0           0.065933\n",
       "zipcode_94123.0           0.078696\n",
       "amentcnt                  0.126587\n",
       "room_type_full            0.275109\n",
       "guests_included           0.280659\n",
       "bathrooms                 0.334613\n",
       "beds                      0.368995\n",
       "cleaning_fee              0.393309\n",
       "accommodates              0.434465\n",
       "bedrooms                  0.434527\n",
       "price                     1.000000\n",
       "Name: price, dtype: float64"
      ]
     },
     "execution_count": 289,
     "metadata": {},
     "output_type": "execute_result"
    }
   ],
   "source": [
    "dfcorr.price.sort_values()"
   ]
  },
  {
   "cell_type": "markdown",
   "metadata": {},
   "source": [
    "'''\n",
    "lreg_cols_master = ['square_feet','weekly_price','cleaning_fee','accommodates','bedrooms','beds','bathrooms','guests_included','zipcode']\n",
    "lreg_cols = ['price','weekly_price','cleaning_fee','accommodates','bedrooms','beds','bathrooms','guests_included','zipcode']\n",
    "'''"
   ]
  },
  {
   "cell_type": "code",
   "execution_count": null,
   "metadata": {},
   "outputs": [],
   "source": []
  },
  {
   "cell_type": "code",
   "execution_count": 290,
   "metadata": {},
   "outputs": [],
   "source": [
    "dflreg = listd.copy()\n",
    "dflreg = sm.add_constant(dflreg)"
   ]
  },
  {
   "cell_type": "code",
   "execution_count": 291,
   "metadata": {},
   "outputs": [],
   "source": [
    "dflreg['host_is_superhost'] = (dflreg['host_is_superhost'] == True).astype(int)\n",
    "dflreg['host_identity_verified'] = (dflreg['host_identity_verified'] == True).astype(int)\n",
    "dflreg['bed_type'] = (dflreg['bed_type'] == True).astype(int)"
   ]
  },
  {
   "cell_type": "code",
   "execution_count": 292,
   "metadata": {},
   "outputs": [
    {
     "data": {
      "text/html": [
       "<div>\n",
       "<style scoped>\n",
       "    .dataframe tbody tr th:only-of-type {\n",
       "        vertical-align: middle;\n",
       "    }\n",
       "\n",
       "    .dataframe tbody tr th {\n",
       "        vertical-align: top;\n",
       "    }\n",
       "\n",
       "    .dataframe thead th {\n",
       "        text-align: right;\n",
       "    }\n",
       "</style>\n",
       "<table border=\"1\" class=\"dataframe\">\n",
       "  <thead>\n",
       "    <tr style=\"text-align: right;\">\n",
       "      <th></th>\n",
       "      <th>price</th>\n",
       "      <th>cleaning_fee</th>\n",
       "      <th>guests_included</th>\n",
       "    </tr>\n",
       "  </thead>\n",
       "  <tbody>\n",
       "    <tr>\n",
       "      <th>0</th>\n",
       "      <td>170.0</td>\n",
       "      <td>100.0</td>\n",
       "      <td>2</td>\n",
       "    </tr>\n",
       "    <tr>\n",
       "      <th>1</th>\n",
       "      <td>235.0</td>\n",
       "      <td>100.0</td>\n",
       "      <td>2</td>\n",
       "    </tr>\n",
       "    <tr>\n",
       "      <th>2</th>\n",
       "      <td>65.0</td>\n",
       "      <td>50.0</td>\n",
       "      <td>1</td>\n",
       "    </tr>\n",
       "    <tr>\n",
       "      <th>3</th>\n",
       "      <td>63.0</td>\n",
       "      <td>30.0</td>\n",
       "      <td>1</td>\n",
       "    </tr>\n",
       "    <tr>\n",
       "      <th>4</th>\n",
       "      <td>65.0</td>\n",
       "      <td>50.0</td>\n",
       "      <td>1</td>\n",
       "    </tr>\n",
       "  </tbody>\n",
       "</table>\n",
       "</div>"
      ],
      "text/plain": [
       "   price  cleaning_fee  guests_included\n",
       "0  170.0         100.0                2\n",
       "1  235.0         100.0                2\n",
       "2   65.0          50.0                1\n",
       "3   63.0          30.0                1\n",
       "4   65.0          50.0                1"
      ]
     },
     "execution_count": 292,
     "metadata": {},
     "output_type": "execute_result"
    }
   ],
   "source": [
    "dfscatter=dflreg.loc[:,'price':'guests_included']\n",
    "dfscatter.head()"
   ]
  },
  {
   "cell_type": "code",
   "execution_count": 293,
   "metadata": {},
   "outputs": [
    {
     "data": {
      "image/png": "[encoded data removed]",
      "text/plain": [
       "<Figure size 1080x720 with 9 Axes>"
      ]
     },
     "metadata": {},
     "output_type": "display_data"
    }
   ],
   "source": [
    "pd.plotting.scatter_matrix(dfscatter,figsize=(15,10));"
   ]
  },
  {
   "cell_type": "code",
   "execution_count": 294,
   "metadata": {},
   "outputs": [],
   "source": [
    "listd_insig_cols = ['host_is_superhost','host_identity_verified','bed_type','guests_included','room_type_full',\\\n",
    "                    'room_type_pvt','amentcnt','ppt_condensed_apt','ppt_condensed_aptspl','ppt_condensed_auto',\\\n",
    "                    'ppt_condensed_hotel','ppt_condensed_other',\\\n",
    "                    'zipcode_94014.0', 'zipcode_94015.0', 'zipcode_94102.0',\\\n",
    "                    'zipcode_94103.0', 'zipcode_94104.0', 'zipcode_94105.0',\\\n",
    "                    'zipcode_94107.0', 'zipcode_94108.0', 'zipcode_94109.0',\\\n",
    "                    'zipcode_94110.0', 'zipcode_94111.0', 'zipcode_94112.0',\\\n",
    "                    'zipcode_94114.0', 'zipcode_94115.0', 'zipcode_94116.0',\\\n",
    "                    'zipcode_94117.0', 'zipcode_94118.0', 'zipcode_94121.0',\\\n",
    "                    'zipcode_94122.0', 'zipcode_94123.0', 'zipcode_94124.0',\\\n",
    "                    'zipcode_94127.0', 'zipcode_94129.0', 'zipcode_94131.0',\\\n",
    "                    'zipcode_94132.0', 'zipcode_94133.0', 'zipcode_94134.0','zipcode_94158.0']\n",
    "# dflreg.head().T"
   ]
  },
  {
   "cell_type": "code",
   "execution_count": 295,
   "metadata": {},
   "outputs": [],
   "source": [
    "dfscat=dflreg.copy()\n",
    "dflreg.drop(listd_insig_cols,axis=1,inplace=True)\n",
    "y=dflreg.price\n",
    "X=dflreg.drop(['price'],axis=1)"
   ]
  },
  {
   "cell_type": "code",
   "execution_count": 296,
   "metadata": {},
   "outputs": [],
   "source": [
    "# X=dflreg.drop([listd_insig_cols],axis=1)\n",
    "# listd.drop(listd_drop_cols,axis=1,inplace=True )"
   ]
  },
  {
   "cell_type": "code",
   "execution_count": 297,
   "metadata": {},
   "outputs": [],
   "source": [
    "X_chunk, X_test, y_chunk, y_test = train_test_split(X, y, test_size=0.20, random_state=47)\n",
    "X_train, X_vald, y_train, y_vald = train_test_split(X_chunk, y_chunk, test_size=0.20, random_state=47)"
   ]
  },
  {
   "cell_type": "code",
   "execution_count": null,
   "metadata": {},
   "outputs": [],
   "source": []
  },
  {
   "cell_type": "code",
   "execution_count": 298,
   "metadata": {},
   "outputs": [],
   "source": [
    "X_train = X_chunk.copy()\n",
    "y_train = y_chunk.copy()"
   ]
  },
  {
   "cell_type": "code",
   "execution_count": 299,
   "metadata": {},
   "outputs": [
    {
     "name": "stdout",
     "output_type": "stream",
     "text": [
      "(3735, 10) (747, 10) (934, 10)\n",
      "(3735,) (747,) (934,)\n"
     ]
    }
   ],
   "source": [
    "print(X_train.shape, X_vald.shape, X_test.shape)\n",
    "print(y_train.shape, y_vald.shape, y_test.shape)"
   ]
  },
  {
   "cell_type": "code",
   "execution_count": 300,
   "metadata": {},
   "outputs": [],
   "source": [
    "lmodel = linear_model.LinearRegression()\n",
    "lmodel.fit(X_train,y_train)\n",
    "y_predsk = lmodel.predict(X_test)"
   ]
  },
  {
   "cell_type": "code",
   "execution_count": 301,
   "metadata": {
    "scrolled": true
   },
   "outputs": [
    {
     "name": "stdout",
     "output_type": "stream",
     "text": [
      "Coefficients: \n",
      " [  0.          26.5887571   54.40849812  42.59817621 -13.14382005\n",
      "   0.76645646 118.50116618 -36.30888784 -81.94329254 -24.19159245]\n"
     ]
    }
   ],
   "source": [
    "print('Coefficients: \\n', lmodel.coef_)"
   ]
  },
  {
   "cell_type": "code",
   "execution_count": 302,
   "metadata": {},
   "outputs": [
    {
     "data": {
      "text/plain": [
       "(934,)"
      ]
     },
     "execution_count": 302,
     "metadata": {},
     "output_type": "execute_result"
    }
   ],
   "source": [
    "y_predsk.shape"
   ]
  },
  {
   "cell_type": "code",
   "execution_count": 303,
   "metadata": {},
   "outputs": [],
   "source": [
    "from sklearn.utils import check_array\n",
    "import numpy as np\n",
    "def mse_prop(y_true, y_pred): \n",
    "\n",
    "\n",
    "    return (np.mean(np.abs((y_true - y_pred)**2 / (y_true+1)**2  )) * 100) **0.5\n",
    "\n"
   ]
  },
  {
   "cell_type": "code",
   "execution_count": null,
   "metadata": {},
   "outputs": [],
   "source": []
  },
  {
   "cell_type": "code",
   "execution_count": 304,
   "metadata": {},
   "outputs": [
    {
     "name": "stdout",
     "output_type": "stream",
     "text": [
      "Mean squared error: 16295.67\n",
      "Variance squared error: 0.51\n",
      "MSE Proportion: 47.69\n"
     ]
    }
   ],
   "source": [
    "print(\"Mean squared error: %.2f\" % mean_squared_error(y_test, y_predsk))\n",
    "print(\"Variance squared error: %.2f\" % r2_score(y_test, y_predsk))\n",
    "print(\"MSE Proportion: %.2f\" % mse_prop(y_test, y_predsk))"
   ]
  },
  {
   "cell_type": "code",
   "execution_count": 305,
   "metadata": {},
   "outputs": [],
   "source": [
    "#Building Residual DF\n",
    "\n",
    "dfpred= y_test.to_frame()\n",
    "dfpred['sk_preds'] = y_predsk\n",
    "dfpred['sk_resid'] = dfpred.sk_preds-dfpred.price\n",
    "dfpred['sk_residpct'] = (dfpred.sk_preds-dfpred.price)/dfpred.price\n",
    "# dfpred.head()"
   ]
  },
  {
   "cell_type": "code",
   "execution_count": 306,
   "metadata": {},
   "outputs": [
    {
     "data": {
      "text/plain": [
       "Text(0,0.5,'RESIDUAL PCT')"
      ]
     },
     "execution_count": 306,
     "metadata": {},
     "output_type": "execute_result"
    },
    {
     "data": {
      "image/png": "[encoded data removed]",
      "text/plain": [
       "<Figure size 1296x360 with 3 Axes>"
      ]
     },
     "metadata": {},
     "output_type": "display_data"
    }
   ],
   "source": [
    "fig = plt.figure(figsize=(18,5))\n",
    "ax1 = fig.add_subplot(1,3,1)\n",
    "ax2 = fig.add_subplot(1,3,2)\n",
    "ax3 = fig.add_subplot(1,3,3)\n",
    "\n",
    "ax1.scatter(y_test, y_predsk,  color='black')\n",
    "ax1.set_title('act_vs_pred')\n",
    "ax1.set_xlabel('ACT-PRICE')\n",
    "ax1.set_ylabel('PREDICT')\n",
    "\n",
    "ax2.scatter(dfpred.price,dfpred.sk_resid, color='red')\n",
    "ax2.set_title('RESIDUALS')\n",
    "ax2.set_xlabel('PRICE')\n",
    "ax2.set_ylabel('RESIDUAL')\n",
    "\n",
    "ax3.scatter(dfpred.price,dfpred.sk_residpct, color='blue')\n",
    "ax3.set_title('RESIDUAL PCT')\n",
    "ax3.set_xlabel('PRICE')\n",
    "ax3.set_ylabel('RESIDUAL PCT')"
   ]
  },
  {
   "cell_type": "code",
   "execution_count": 307,
   "metadata": {},
   "outputs": [
    {
     "data": {
      "text/plain": [
       "array([519.66430575, 264.69816537,  12.43088711,  93.73511581,\n",
       "       194.57235444, 226.94148397, 151.21935045, 475.10739943,\n",
       "       257.40196297, 115.36222619, 574.50952041, 132.0579389 ,\n",
       "       137.0881198 , 199.50610754, 109.67973701, 279.53163504,\n",
       "       290.64916184, 490.82715956, 159.63874285,  80.41992183,\n",
       "       128.98048438, 233.83959213, 601.39939451, 420.33298641,\n",
       "       240.89533696, 144.81658235, -45.01383951, 120.56109197,\n",
       "       145.13095732, 230.00730982, 223.1750468 , 151.97417823,\n",
       "       197.72606489,  96.50387885, 215.44463704,  81.85503948,\n",
       "       171.70840365,  80.59129576, 215.44463704, 172.34511705,\n",
       "       156.24953135, 171.10422246, 156.24953135, 149.4010034 ,\n",
       "       160.08181366, 231.28673874, 836.11028557,  93.73511581,\n",
       "       261.1086391 , 132.0579389 , 135.88526471, 317.85341091,\n",
       "       232.89517753, 156.24953135, 468.40951807, 195.44060711,\n",
       "       233.8512208 , 117.92670825, 197.58501106,  80.65714089,\n",
       "       423.11306021, 232.89517753, 127.09629219, 194.57235444,\n",
       "       208.01729149, 466.62784538, 148.58496673,  94.48994359,\n",
       "       306.97205594, 277.2042248 , 175.41094289, 137.0881198 ,\n",
       "       193.81662668, 481.00264935, 522.97207563, 113.65135514,\n",
       "       124.39337428, 178.42359951,  78.64320564, 283.16613788,\n",
       "       116.72880966, 476.17660219,  67.14635871, 179.2432252 ,\n",
       "       448.41116634, 153.69667796, 137.58946359, 183.07550751,\n",
       "       362.46552237, 129.42355518,  75.32853205, 156.24953135,\n",
       "       183.07550751, 328.97198494, 396.20992815, 233.83959213,\n",
       "        44.28240792,  75.32853205, 120.56109197, 156.24953135,\n",
       "       368.48311387, 104.61151428, 357.74776923, 164.29236886,\n",
       "       228.13474631, 105.4691818 , 168.12465117, 112.45021806,\n",
       "       117.92670825, 319.42322813, 829.02259135,  94.48994359,\n",
       "       303.74914053, 345.26951544, 192.90001772, 169.45724933,\n",
       "       114.33164501, 196.5862897 , 308.14459093, 192.45094319,\n",
       "       183.07550751, 186.90778982, 132.0579389 , 204.01363525,\n",
       "       447.64520397, 152.41724904, 204.01363525, 196.2832255 ,\n",
       "       250.99478782, 140.15394565, 145.13095732, 109.06424505,\n",
       "       218.6581889 , 183.45378041,  94.48994359, 156.24953135,\n",
       "       240.59227276, 253.01263235, 296.36563634, 356.00381284,\n",
       "       184.06927237, 355.65366878, 430.69087618, 450.22974259,\n",
       "       200.35272687, 112.89652735, 115.36222619, 277.2042248 ,\n",
       "       116.72880966, 196.2832255 , 120.93936487, 153.16744057,\n",
       "       132.0579389 , 383.0680553 , 127.77267512, 232.89517753,\n",
       "       133.25583749, 149.39499967, 543.61404287, 332.56704818,\n",
       "       171.57866058, 381.77294425, 246.54596632, 179.2432252 ,\n",
       "       359.83609515, 117.92670825, 253.01263235, 137.0881198 ,\n",
       "       196.2832255 , 132.0579389 , 160.66063126, 257.07222305,\n",
       "       170.44465992, 117.92670825, 155.05163276, 115.36222619,\n",
       "       137.0881198 , 138.66070226, 186.90778982, 128.22565659,\n",
       "       408.25836911, 222.1548764 ,  54.27251753,  99.8667675 ,\n",
       "       176.36698616, 533.80189066, 163.6768769 , 211.17100193,\n",
       "       124.39337428, 179.2432252 , 156.91275085, 115.36222619,\n",
       "       233.83959213, 243.13175953, 104.7828882 , 105.23196274,\n",
       "       303.4918649 , 132.0579389 , 307.42113047, 189.54217354,\n",
       "       112.89652735, 253.01263235, 119.94064351, 608.30076199,\n",
       "       132.0579389 , 183.81969531, 433.46990275,  93.73511581,\n",
       "       150.08998604, 119.94064351, 148.82218579, 277.2042248 ,\n",
       "       414.00101995, 182.83828845, 346.94185216, 440.25094375,\n",
       "       178.10922454, 175.41094289, 137.0881198 , 370.50835989,\n",
       "       157.99348773, 117.92670825, 277.2042248 , 563.07657141,\n",
       "       144.17027779, 136.645049  , 369.93554601, 167.74637828,\n",
       "        94.48994359, 132.0579389 , 187.42076229, 137.0881198 ,\n",
       "       217.4585723 , 207.25083503, 234.66994652, 279.63911104,\n",
       "       201.62224513, 505.02147011, 310.39469803,  99.00251577,\n",
       "       690.20145015, 156.24953135, 821.16114724,  75.32853205,\n",
       "       217.32882923, 116.72880966, 199.36068002, 104.7828882 ,\n",
       "        94.48994359,  93.73511581, 178.8018724 , 137.0881198 ,\n",
       "        97.80461718, 234.60604859, 144.75268442, 172.84646083,\n",
       "       168.24772206, 283.16613788, 162.26712284, 115.36222619,\n",
       "       171.57866058, 436.48174134, 152.41724904, 353.40851818,\n",
       "       517.02528577, 513.06430762, 157.9604024 , 148.58496673,\n",
       "       200.55857861, 133.25583749, 132.81276669, 140.92040211,\n",
       "        59.92314689,  97.56739812, 493.90289608, 113.65135514,\n",
       "       121.75899056, 240.32252309, 290.92491524, 398.15891825,\n",
       "       194.57235444, 142.86849223, 309.13200153, 249.69795876,\n",
       "       104.7828882 , 184.60842044, 389.09695756, 706.44744071,\n",
       "       414.24459328, 148.58496673, 132.0579389 , 277.19431413,\n",
       "       156.24953135, 188.85587994, 369.93554601, 200.55857861,\n",
       "       594.96499578, 486.96869563, 252.24617589,  63.51821013,\n",
       "       143.55478583, 148.58496673, 826.2934971 , 232.14580403,\n",
       "       140.92040211, 284.63157035, 128.22565659, 188.48037228,\n",
       "       102.83479808,  58.18105576, 128.22565659, 657.76221568,\n",
       "        88.08448645,  94.48994359, 144.67657575, 140.92040211,\n",
       "        55.02906332, 116.72880966, 126.07229521, 400.15245169,\n",
       "       111.24955423, 200.55857861, 276.96700573, 117.34430162,\n",
       "       217.32882923, 175.41094289, 425.97865927, 331.61272292,\n",
       "       118.74274492, 133.25583749, 110.4993627 , 117.92670825,\n",
       "       156.24953135, 201.5459892 ,  67.14635871, 194.57235444,\n",
       "       234.60604859,  94.48994359, 121.75899056,  94.48994359,\n",
       "       337.32284315, 210.41445614, 109.06424505, 164.04383903,\n",
       "       724.66572736, 122.95330013,  90.14005256, 173.59259584,\n",
       "       115.36222619, 322.75025971, 120.56109197,  45.83328952,\n",
       "       146.91263001, 241.51578542, 139.72250352, 226.94148397,\n",
       "       479.9965265 , 647.71422874, 173.96982151, 292.29613497,\n",
       "       369.93554601, 260.05674851, 465.4947447 , 144.75268442,\n",
       "       140.92040211, 295.61626284,  93.35188641, 140.92040211,\n",
       "       204.25085432, 117.92670825, 190.50285307, 266.1564524 ,\n",
       "       390.05300083, 209.90148368, 335.1513576 , 169.6944684 ,\n",
       "       373.9673258 ,  81.34612354, 277.2042248 , 134.76085681,\n",
       "       128.22565659, 181.48942536, 140.10077642, 221.76529274,\n",
       "       318.5397045 , 253.01263235, 290.64916184, 156.24953135,\n",
       "       117.92670825,  93.73511581,  54.27251753, 154.36533916,\n",
       "        84.25220414, 177.57088848, 132.0579389 , 100.77923197,\n",
       "       483.75928593, 550.24712633, 141.15762117, 355.55083137,\n",
       "       140.92040211, 138.95604706, 319.86734616, 128.60392949,\n",
       "       335.0135631 , 194.57235444, 121.31591976,  92.68322522,\n",
       "       178.8018724 , 165.86218609, 377.00583851, 259.24671557,\n",
       "       278.36454905, 132.0579389 , 205.59476324,  94.48994359,\n",
       "       357.27161309, 144.17027779, 169.6944684 , 304.40847386,\n",
       "       230.01893849, 171.57866058, 120.55613547, 175.41094289,\n",
       "       370.87996061, 157.9604024 , 277.2042248 , 148.58496673,\n",
       "       656.84572806, 355.56074204,  94.48994359,  80.59129576,\n",
       "       196.5862897 , 466.69864702, 338.73895148, 143.31756676,\n",
       "       592.24216857, 133.57922315, 109.06424505, 140.15394565,\n",
       "       382.24738238, 132.0579389 , 148.58496673, 159.97433766,\n",
       "       208.92098281, 233.8512208 , 102.15450821, 252.05658908,\n",
       "       187.72913352,  99.7527073 , 341.90566753, 234.60604859,\n",
       "       133.87132945, 116.72880966, 231.60111371, 164.29236886,\n",
       "       296.36563634, 145.50287595, 171.13730779, 333.24733805,\n",
       "       137.0881198 , 128.50604625,  27.4942689 , 132.48938103,\n",
       "       137.0881198 , 299.82069298, 262.34953369, 117.92670825,\n",
       "        82.60523101,  81.61782042,  60.95372807, 202.61519196,\n",
       "       117.92670825, 115.36222619, 304.19923638, 212.36890053,\n",
       "       107.66107519, 179.2432252 , 156.24953135, 148.14189592,\n",
       "       272.92887168, 287.78356279,  88.25586037, 179.2432252 ,\n",
       "       242.71368401, 122.1259527 , 179.07185128, 213.73376599,\n",
       "       369.93554601, 281.57484317, 178.03932288, 109.88387074,\n",
       "       290.64916184, 190.50285307,  71.10838408, 139.72250352,\n",
       "       332.56704818, 273.23193588, 246.91292846, 196.5862897 ,\n",
       "       148.58496673, 269.53966018, 456.67545208, 283.67089082,\n",
       "       171.13730779,  67.14635871, 133.25583749, 457.906436  ,\n",
       "       180.95409626, 181.48942536, 112.89652735, 125.14820207,\n",
       "       203.94779011, 343.92455929, 100.33616116, 109.06424505,\n",
       "       342.73129695, 140.92040211, 236.03652999,  34.75243179,\n",
       "       117.92670825, 148.58496673, 117.92670825, 137.0881198 ,\n",
       "       138.45380329,  99.7527073 , 240.89533696, 223.10920166,\n",
       "       124.39337428, 457.29094404, 139.72250352, 220.02305436,\n",
       "       248.98085256, 112.89652735, 337.59894709, 282.1713258 ,\n",
       "       341.6620942 , 132.0579389 , 142.18820236, 123.19051919,\n",
       "       163.91409597,  99.00251577, 133.57922315, 233.46799141,\n",
       "       622.98009581, 276.61110206, 115.19589674, 115.36222619,\n",
       "       -81.32272734, 413.47813681, 593.19649383, -10.4272072 ,\n",
       "       353.40851818, 144.75268442, 139.72250352, 208.01729149,\n",
       "        88.08448645, 120.56109197, 137.32533887,  92.42779327,\n",
       "        75.32853205, 109.06424505, 162.64539574, 160.08181366,\n",
       "       162.02990378,  78.64320564, 753.48678456, 172.39469725,\n",
       "       139.10205506, 219.65519225, 146.25770373, 132.48938103,\n",
       "       436.48174134, 125.59127287, 317.54098315, 375.8974591 ,\n",
       "       291.33545544, 137.0881198 , 324.51461791, 223.10920166,\n",
       "       112.89652735, 117.92670825, 343.34678891, 362.76663937,\n",
       "        90.26979563, 206.06920137, 373.35728812, 246.54596632,\n",
       "       244.8989932 , 178.42359951, 120.11201744, 171.57866058,\n",
       "       113.95247213, 156.24953135, 115.36222619, 259.91074051,\n",
       "       151.21935045, 195.4635998 , 179.2432252 , 156.24953135,\n",
       "       202.61519196, 287.26595407,  81.61782042, 213.73376599,\n",
       "       230.77376628, 140.24011224, 132.81276669, 294.78450836,\n",
       "       109.06424505, 273.75021538, 170.38076199,  77.26426417,\n",
       "       154.4311843 , 175.41094289, 115.6652904 , 133.25583749,\n",
       "       118.54220022, 214.13926246, 140.92040211, 641.29366412,\n",
       "       293.91210908, 109.06424505, 855.3243894 , 171.57866058,\n",
       "       175.41094289, 148.82218579, 198.29716075, 384.79023712,\n",
       "       179.2432252 , 372.69862557, 163.91409597, 249.18035004,\n",
       "       156.24953135, 605.98912259,  97.55576944,  39.32661769,\n",
       "       105.4691818 , 451.23391823, 305.2234633 , 434.15619635,\n",
       "       142.93433737, 200.7968449 , 183.07550751, 175.78921579,\n",
       "       137.70361176, 247.74986864, 523.1210804 , 378.9975067 ,\n",
       "       681.58800928, 158.26346661, 170.94194719, 283.67634511,\n",
       "       279.21816005,  94.48994359, 142.73020363,  94.48994359,\n",
       "       519.42708668, 453.55482696, 169.6944684 , 342.41692199,\n",
       "       140.92040211, 201.99969999,  89.0765333 , 230.15999233,\n",
       "       369.48183522, 581.80298443,  67.14635871, 167.87612134,\n",
       "       173.76396977, 140.92040211, 230.94790544, 167.74637828,\n",
       "       133.25583749, 490.89023946, 372.63382766, 217.4585723 ,\n",
       "       128.98048438, 359.83609515, 168.24772206, 157.9604024 ,\n",
       "       271.25053123, 198.29716075,  81.61782042, 139.72250352,\n",
       "        44.28240792, 115.08183654,  93.73511581, 573.45902992,\n",
       "       158.88391507, 345.12846161, 151.21935045, 350.77413447,\n",
       "       124.39337428, 140.92040211,  75.32853205, 284.63157035,\n",
       "       533.38093967, 309.57335433, 109.21025305, 433.46990275,\n",
       "       242.71368401, 130.99441963, 137.0881198 , 279.21816005,\n",
       "        93.73511581, 481.85445512, 181.46706872, 117.92670825,\n",
       "       115.36222619, 314.76059143, 117.92670825,  57.42622797,\n",
       "       196.2832255 , 408.42015028, 139.48528445, 125.82849194,\n",
       "       164.04383903, 140.92040211, 156.24953135, 230.66629028,\n",
       "       188.41452714, 117.92670825,  96.94694966, 376.90918078,\n",
       "       476.29057441, 368.67675645, 336.39933049, 300.71089112,\n",
       "       117.92670825, 129.66077425, 287.11799653, 250.6154677 ,\n",
       "       233.8512208 , 518.09448852, 170.38076199,  82.47548794,\n",
       "       119.46709712, 124.39337428, 139.72250352, 137.0881198 ,\n",
       "       188.85587994,  76.96314718, 187.27475195, 147.51681121,\n",
       "       656.84572806,  77.26426417,  93.73511581, 168.24772206,\n",
       "       177.42487815, 493.14139378, 125.82849194, 143.10571129,\n",
       "       179.2432252 , 117.92670825,  81.61782042, 196.2832255 ,\n",
       "       256.2244662 , 222.49475693, 531.30911021, 231.21683709,\n",
       "       498.93307698, 177.35903301, 163.91409597, 160.58315744,\n",
       "       497.86387423, 140.15394565, 148.58496673, -81.32272734,\n",
       "       145.13095732, 500.35860188, 145.13095732, 117.92670825,\n",
       "       158.26346661,  93.35188641,  57.42622797, 152.41724904,\n",
       "       123.62691782, 109.06424505, 121.75899056, 169.61430553,\n",
       "       267.18102986, 893.75630138, 209.42704555, 408.25836911,\n",
       "       144.75268442, 308.96395407, 137.0881198 , 187.27475195,\n",
       "        75.32853205, 423.11306021, 117.92670825, 197.93019862,\n",
       "       237.06305465, 131.6747095 , 287.0237785 , 304.40847386,\n",
       "       490.89023946, 168.12465117, 132.0579389 , 208.46140952,\n",
       "       378.9975067 , 144.67657575, 191.6961154 , 519.08189912,\n",
       "       197.58501106, 109.06424505, 116.72880966,  57.66344704,\n",
       "       183.83205331, 276.4099627 , 486.37938529, 203.48439785,\n",
       "       358.81697198,  94.48994359, 115.36222619, 577.45137539,\n",
       "       161.99958368,  84.25220414, 185.46771567, 277.2042248 ,\n",
       "       105.23196274,  78.64320564, 173.5267507 ,  12.54665105,\n",
       "       405.38213007, 163.91409597, 256.2244662 , 155.05163276,\n",
       "       417.25724989, 148.58496673, 109.06424505, 141.15762117,\n",
       "       238.52549803, 253.76746014, 183.44246965, 106.7166606 ,\n",
       "       169.6944684 , 112.27607889, 442.43625293, 341.84086962,\n",
       "       405.51187313, 181.87160519, 293.28989983,  93.73511581,\n",
       "       233.65172333, 233.40214627, 228.61982442, 231.74712171,\n",
       "        91.33795115, 140.92040211,  96.26665979, 115.36222619,\n",
       "       233.65172333, 403.49793788, 220.41845533, 623.5789989 ,\n",
       "       128.22565659, 269.24765444, 433.40600482, 109.06424505,\n",
       "        57.42622797,  92.08814268, 226.17502751, 273.23193588,\n",
       "       129.42355518, 175.41094289, 156.24953135, 240.89533696,\n",
       "       258.04281325, 150.59890199, 172.09163305, 247.96481905,\n",
       "       246.09330276, 167.81027621, 128.89431779, 113.65135514,\n",
       "        90.65766128, 243.47451553, 269.63687264, 228.48602557,\n",
       "       208.01729149, 170.38076199, 170.38076199, 225.73758165,\n",
       "       140.10077642, 261.81029765, 132.0579389 , 234.90911279,\n",
       "       117.92670825, 283.16613788, 163.91409597, 483.36672868,\n",
       "       206.06920137,  63.44381947, 229.39849003, 169.6944684 ,\n",
       "       426.27977626,  67.14635871, 187.24938836, 260.67719697,\n",
       "       144.75268442, 113.65135514, 243.29250162,  84.42357806,\n",
       "       117.92670825, 275.86748289, 378.79337297, 144.75268442,\n",
       "       106.8676251 , 160.08181366, 504.95066847, 186.14133336,\n",
       "       137.0881198 , 139.10205506, 160.08181366, 109.06424505,\n",
       "       462.86636471, 132.81276669, 151.21935045, 174.9695901 ,\n",
       "       234.90911279, 232.20424768, 273.23193588, 232.89517753,\n",
       "       137.0881198 , 212.67196473, 168.12465117,  82.47548794,\n",
       "       259.54783256, 303.4918649 , 112.51329796, 132.0579389 ,\n",
       "       179.2432252 ,  97.12432731])"
      ]
     },
     "execution_count": 307,
     "metadata": {},
     "output_type": "execute_result"
    }
   ],
   "source": [
    "y_predsk"
   ]
  },
  {
   "cell_type": "code",
   "execution_count": 308,
   "metadata": {},
   "outputs": [
    {
     "data": {
      "text/plain": [
       "2162    587.0\n",
       "4313    275.0\n",
       "3889    115.0\n",
       "1532    300.0\n",
       "2498    250.0\n",
       "Name: price, dtype: float64"
      ]
     },
     "execution_count": 308,
     "metadata": {},
     "output_type": "execute_result"
    }
   ],
   "source": [
    "y_test.head()"
   ]
  },
  {
   "cell_type": "code",
   "execution_count": 309,
   "metadata": {},
   "outputs": [
    {
     "name": "stdout",
     "output_type": "stream",
     "text": [
      "(3735,) (3735, 10)\n"
     ]
    }
   ],
   "source": [
    "print( y_train.shape, X_train.shape)"
   ]
  },
  {
   "cell_type": "code",
   "execution_count": null,
   "metadata": {},
   "outputs": [],
   "source": []
  },
  {
   "cell_type": "code",
   "execution_count": 310,
   "metadata": {},
   "outputs": [
    {
     "name": "stdout",
     "output_type": "stream",
     "text": [
      "                            OLS Regression Results                            \n",
      "==============================================================================\n",
      "Dep. Variable:                  price   R-squared:                       0.223\n",
      "Model:                            OLS   Adj. R-squared:                  0.221\n",
      "Method:                 Least Squares   F-statistic:                     118.6\n",
      "Date:                Tue, 07 Aug 2018   Prob (F-statistic):          2.29e-196\n",
      "Time:                        00:17:59   Log-Likelihood:                -25899.\n",
      "No. Observations:                3735   AIC:                         5.182e+04\n",
      "Df Residuals:                    3725   BIC:                         5.188e+04\n",
      "Df Model:                           9                                         \n",
      "Covariance Type:            nonrobust                                         \n",
      "========================================================================================\n",
      "                           coef    std err          t      P>|t|      [0.025      0.975]\n",
      "----------------------------------------------------------------------------------------\n",
      "const                  -19.1137     10.273     -1.861      0.063     -39.254       1.027\n",
      "accommodates            26.5888      4.203      6.326      0.000      18.348      34.829\n",
      "bathrooms               54.4085      8.081      6.733      0.000      38.564      70.253\n",
      "bedrooms                42.5982      7.677      5.549      0.000      27.546      57.650\n",
      "beds                   -13.1438      6.196     -2.121      0.034     -25.291      -0.996\n",
      "cleaning_fee             0.7665      0.078      9.787      0.000       0.613       0.920\n",
      "min_night_stay_long    118.5012     55.906      2.120      0.034       8.892     228.111\n",
      "min_night_stay_mid     -36.3089     11.151     -3.256      0.001     -58.172     -14.446\n",
      "ppt_condensed_hostel   -81.9433     36.826     -2.225      0.026    -154.144      -9.743\n",
      "ppt_condensed_house    -24.1916      9.063     -2.669      0.008     -41.960      -6.423\n",
      "==============================================================================\n",
      "Omnibus:                     8599.657   Durbin-Watson:                   2.008\n",
      "Prob(Omnibus):                  0.000   Jarque-Bera (JB):         73585513.019\n",
      "Skew:                          21.984   Prob(JB):                         0.00\n",
      "Kurtosis:                     689.226   Cond. No.                     1.42e+03\n",
      "==============================================================================\n",
      "\n",
      "Warnings:\n",
      "[1] Standard Errors assume that the covariance matrix of the errors is correctly specified.\n",
      "[2] The condition number is large, 1.42e+03. This might indicate that there are\n",
      "strong multicollinearity or other numerical problems.\n"
     ]
    }
   ],
   "source": [
    "import statsmodels.api as sm\n",
    "import numpy as np\n",
    "model = sm.OLS(y_train, X_train)\n",
    "results = model.fit()\n",
    "print(results.summary())"
   ]
  },
  {
   "cell_type": "code",
   "execution_count": 311,
   "metadata": {},
   "outputs": [
    {
     "name": "stdout",
     "output_type": "stream",
     "text": [
      "507.7622156776299\n"
     ]
    },
    {
     "data": {
      "text/plain": [
       "<matplotlib.axes._subplots.AxesSubplot at 0x7f06447d3588>"
      ]
     },
     "execution_count": 311,
     "metadata": {},
     "output_type": "execute_result"
    },
    {
     "data": {
      "image/png": "[encoded data removed]",
      "text/plain": [
       "<Figure size 432x288 with 1 Axes>"
      ]
     },
     "metadata": {},
     "output_type": "display_data"
    }
   ],
   "source": [
    "y_resdsk=(y_predsk-y_test)\n",
    "print(y_resdsk.max())\n",
    "y_resdsk.hist(bins =200)"
   ]
  },
  {
   "cell_type": "code",
   "execution_count": 312,
   "metadata": {},
   "outputs": [
    {
     "name": "stdout",
     "output_type": "stream",
     "text": [
      "12966.077424695268\n"
     ]
    },
    {
     "data": {
      "text/plain": [
       "<matplotlib.axes._subplots.AxesSubplot at 0x7f064fdef8d0>"
      ]
     },
     "execution_count": 312,
     "metadata": {},
     "output_type": "execute_result"
    },
    {
     "data": {
      "image/png": "[encoded data removed]",
      "text/plain": [
       "<Figure size 432x288 with 1 Axes>"
      ]
     },
     "metadata": {},
     "output_type": "display_data"
    }
   ],
   "source": [
    "y_resdpct=(y_predsk-y_test)*100/(y_test+1)\n",
    "print(y_resdpct.max())\n",
    "y_resdpct.hist(bins =200)"
   ]
  },
  {
   "cell_type": "code",
   "execution_count": 313,
   "metadata": {},
   "outputs": [
    {
     "data": {
      "text/html": [
       "<div>\n",
       "<style scoped>\n",
       "    .dataframe tbody tr th:only-of-type {\n",
       "        vertical-align: middle;\n",
       "    }\n",
       "\n",
       "    .dataframe tbody tr th {\n",
       "        vertical-align: top;\n",
       "    }\n",
       "\n",
       "    .dataframe thead th {\n",
       "        text-align: right;\n",
       "    }\n",
       "</style>\n",
       "<table border=\"1\" class=\"dataframe\">\n",
       "  <thead>\n",
       "    <tr style=\"text-align: right;\">\n",
       "      <th></th>\n",
       "      <th>const</th>\n",
       "      <th>accommodates</th>\n",
       "      <th>bathrooms</th>\n",
       "      <th>bedrooms</th>\n",
       "      <th>beds</th>\n",
       "      <th>price</th>\n",
       "      <th>cleaning_fee</th>\n",
       "      <th>min_night_stay_long</th>\n",
       "      <th>min_night_stay_mid</th>\n",
       "      <th>ppt_condensed_hostel</th>\n",
       "      <th>ppt_condensed_house</th>\n",
       "    </tr>\n",
       "  </thead>\n",
       "  <tbody>\n",
       "    <tr>\n",
       "      <th>count</th>\n",
       "      <td>4669.0</td>\n",
       "      <td>4669.000000</td>\n",
       "      <td>4669.000000</td>\n",
       "      <td>4669.000000</td>\n",
       "      <td>4669.000000</td>\n",
       "      <td>4669.000000</td>\n",
       "      <td>4669.000000</td>\n",
       "      <td>4669.000000</td>\n",
       "      <td>4669.000000</td>\n",
       "      <td>4669.000000</td>\n",
       "      <td>4669.000000</td>\n",
       "    </tr>\n",
       "    <tr>\n",
       "      <th>mean</th>\n",
       "      <td>1.0</td>\n",
       "      <td>3.339473</td>\n",
       "      <td>1.285821</td>\n",
       "      <td>1.390019</td>\n",
       "      <td>1.828015</td>\n",
       "      <td>217.754337</td>\n",
       "      <td>78.177982</td>\n",
       "      <td>0.005140</td>\n",
       "      <td>0.174984</td>\n",
       "      <td>0.012851</td>\n",
       "      <td>0.333690</td>\n",
       "    </tr>\n",
       "    <tr>\n",
       "      <th>std</th>\n",
       "      <td>0.0</td>\n",
       "      <td>1.995117</td>\n",
       "      <td>0.626862</td>\n",
       "      <td>0.940698</td>\n",
       "      <td>1.226746</td>\n",
       "      <td>264.990406</td>\n",
       "      <td>67.459155</td>\n",
       "      <td>0.071519</td>\n",
       "      <td>0.379994</td>\n",
       "      <td>0.112642</td>\n",
       "      <td>0.471581</td>\n",
       "    </tr>\n",
       "    <tr>\n",
       "      <th>min</th>\n",
       "      <td>1.0</td>\n",
       "      <td>1.000000</td>\n",
       "      <td>0.000000</td>\n",
       "      <td>0.000000</td>\n",
       "      <td>0.000000</td>\n",
       "      <td>0.000000</td>\n",
       "      <td>0.000000</td>\n",
       "      <td>0.000000</td>\n",
       "      <td>0.000000</td>\n",
       "      <td>0.000000</td>\n",
       "      <td>0.000000</td>\n",
       "    </tr>\n",
       "    <tr>\n",
       "      <th>25%</th>\n",
       "      <td>1.0</td>\n",
       "      <td>2.000000</td>\n",
       "      <td>1.000000</td>\n",
       "      <td>1.000000</td>\n",
       "      <td>1.000000</td>\n",
       "      <td>100.000000</td>\n",
       "      <td>30.000000</td>\n",
       "      <td>0.000000</td>\n",
       "      <td>0.000000</td>\n",
       "      <td>0.000000</td>\n",
       "      <td>0.000000</td>\n",
       "    </tr>\n",
       "    <tr>\n",
       "      <th>50%</th>\n",
       "      <td>1.0</td>\n",
       "      <td>2.000000</td>\n",
       "      <td>1.000000</td>\n",
       "      <td>1.000000</td>\n",
       "      <td>1.000000</td>\n",
       "      <td>155.000000</td>\n",
       "      <td>65.000000</td>\n",
       "      <td>0.000000</td>\n",
       "      <td>0.000000</td>\n",
       "      <td>0.000000</td>\n",
       "      <td>0.000000</td>\n",
       "    </tr>\n",
       "    <tr>\n",
       "      <th>75%</th>\n",
       "      <td>1.0</td>\n",
       "      <td>4.000000</td>\n",
       "      <td>1.500000</td>\n",
       "      <td>2.000000</td>\n",
       "      <td>2.000000</td>\n",
       "      <td>250.000000</td>\n",
       "      <td>100.000000</td>\n",
       "      <td>0.000000</td>\n",
       "      <td>0.000000</td>\n",
       "      <td>0.000000</td>\n",
       "      <td>1.000000</td>\n",
       "    </tr>\n",
       "    <tr>\n",
       "      <th>max</th>\n",
       "      <td>1.0</td>\n",
       "      <td>16.000000</td>\n",
       "      <td>7.000000</td>\n",
       "      <td>7.000000</td>\n",
       "      <td>14.000000</td>\n",
       "      <td>9000.000000</td>\n",
       "      <td>700.000000</td>\n",
       "      <td>1.000000</td>\n",
       "      <td>1.000000</td>\n",
       "      <td>1.000000</td>\n",
       "      <td>1.000000</td>\n",
       "    </tr>\n",
       "  </tbody>\n",
       "</table>\n",
       "</div>"
      ],
      "text/plain": [
       "        const  accommodates    bathrooms     bedrooms         beds  \\\n",
       "count  4669.0   4669.000000  4669.000000  4669.000000  4669.000000   \n",
       "mean      1.0      3.339473     1.285821     1.390019     1.828015   \n",
       "std       0.0      1.995117     0.626862     0.940698     1.226746   \n",
       "min       1.0      1.000000     0.000000     0.000000     0.000000   \n",
       "25%       1.0      2.000000     1.000000     1.000000     1.000000   \n",
       "50%       1.0      2.000000     1.000000     1.000000     1.000000   \n",
       "75%       1.0      4.000000     1.500000     2.000000     2.000000   \n",
       "max       1.0     16.000000     7.000000     7.000000    14.000000   \n",
       "\n",
       "             price  cleaning_fee  min_night_stay_long  min_night_stay_mid  \\\n",
       "count  4669.000000   4669.000000          4669.000000         4669.000000   \n",
       "mean    217.754337     78.177982             0.005140            0.174984   \n",
       "std     264.990406     67.459155             0.071519            0.379994   \n",
       "min       0.000000      0.000000             0.000000            0.000000   \n",
       "25%     100.000000     30.000000             0.000000            0.000000   \n",
       "50%     155.000000     65.000000             0.000000            0.000000   \n",
       "75%     250.000000    100.000000             0.000000            0.000000   \n",
       "max    9000.000000    700.000000             1.000000            1.000000   \n",
       "\n",
       "       ppt_condensed_hostel  ppt_condensed_house  \n",
       "count           4669.000000          4669.000000  \n",
       "mean               0.012851             0.333690  \n",
       "std                0.112642             0.471581  \n",
       "min                0.000000             0.000000  \n",
       "25%                0.000000             0.000000  \n",
       "50%                0.000000             0.000000  \n",
       "75%                0.000000             1.000000  \n",
       "max                1.000000             1.000000  "
      ]
     },
     "execution_count": 313,
     "metadata": {},
     "output_type": "execute_result"
    }
   ],
   "source": [
    "dflreg.describe()"
   ]
  },
  {
   "cell_type": "code",
   "execution_count": null,
   "metadata": {},
   "outputs": [],
   "source": []
  },
  {
   "cell_type": "code",
   "execution_count": 314,
   "metadata": {},
   "outputs": [
    {
     "data": {
      "image/png": "[encoded data removed]",
      "text/plain": [
       "<Figure size 432x288 with 1 Axes>"
      ]
     },
     "metadata": {},
     "output_type": "display_data"
    }
   ],
   "source": [
    "dflreg['price'][dflreg['price']<500].hist(bins=20);"
   ]
  },
  {
   "cell_type": "code",
   "execution_count": 315,
   "metadata": {},
   "outputs": [],
   "source": [
    "# dflreg['price'][[dflreg['price']>500 & dflreg['price']<2000]].hist(bins=20);"
   ]
  },
  {
   "cell_type": "code",
   "execution_count": 316,
   "metadata": {},
   "outputs": [
    {
     "data": {
      "text/html": [
       "<div>\n",
       "<style scoped>\n",
       "    .dataframe tbody tr th:only-of-type {\n",
       "        vertical-align: middle;\n",
       "    }\n",
       "\n",
       "    .dataframe tbody tr th {\n",
       "        vertical-align: top;\n",
       "    }\n",
       "\n",
       "    .dataframe thead th {\n",
       "        text-align: right;\n",
       "    }\n",
       "</style>\n",
       "<table border=\"1\" class=\"dataframe\">\n",
       "  <thead>\n",
       "    <tr style=\"text-align: right;\">\n",
       "      <th>beds</th>\n",
       "      <th>0.0</th>\n",
       "      <th>1.0</th>\n",
       "      <th>2.0</th>\n",
       "      <th>3.0</th>\n",
       "      <th>4.0</th>\n",
       "      <th>5.0</th>\n",
       "      <th>6.0</th>\n",
       "      <th>7.0</th>\n",
       "      <th>8.0</th>\n",
       "      <th>10.0</th>\n",
       "      <th>12.0</th>\n",
       "      <th>14.0</th>\n",
       "    </tr>\n",
       "    <tr>\n",
       "      <th>bedrooms</th>\n",
       "      <th></th>\n",
       "      <th></th>\n",
       "      <th></th>\n",
       "      <th></th>\n",
       "      <th></th>\n",
       "      <th></th>\n",
       "      <th></th>\n",
       "      <th></th>\n",
       "      <th></th>\n",
       "      <th></th>\n",
       "      <th></th>\n",
       "      <th></th>\n",
       "    </tr>\n",
       "  </thead>\n",
       "  <tbody>\n",
       "    <tr>\n",
       "      <th>0</th>\n",
       "      <td>5</td>\n",
       "      <td>317</td>\n",
       "      <td>128</td>\n",
       "      <td>8</td>\n",
       "      <td>3</td>\n",
       "      <td>0</td>\n",
       "      <td>0</td>\n",
       "      <td>0</td>\n",
       "      <td>0</td>\n",
       "      <td>0</td>\n",
       "      <td>0</td>\n",
       "      <td>0</td>\n",
       "    </tr>\n",
       "    <tr>\n",
       "      <th>1</th>\n",
       "      <td>30</td>\n",
       "      <td>2074</td>\n",
       "      <td>531</td>\n",
       "      <td>68</td>\n",
       "      <td>24</td>\n",
       "      <td>6</td>\n",
       "      <td>0</td>\n",
       "      <td>0</td>\n",
       "      <td>1</td>\n",
       "      <td>0</td>\n",
       "      <td>0</td>\n",
       "      <td>1</td>\n",
       "    </tr>\n",
       "    <tr>\n",
       "      <th>2</th>\n",
       "      <td>13</td>\n",
       "      <td>11</td>\n",
       "      <td>560</td>\n",
       "      <td>193</td>\n",
       "      <td>66</td>\n",
       "      <td>8</td>\n",
       "      <td>4</td>\n",
       "      <td>2</td>\n",
       "      <td>0</td>\n",
       "      <td>0</td>\n",
       "      <td>0</td>\n",
       "      <td>0</td>\n",
       "    </tr>\n",
       "    <tr>\n",
       "      <th>3</th>\n",
       "      <td>8</td>\n",
       "      <td>5</td>\n",
       "      <td>17</td>\n",
       "      <td>236</td>\n",
       "      <td>135</td>\n",
       "      <td>38</td>\n",
       "      <td>17</td>\n",
       "      <td>3</td>\n",
       "      <td>0</td>\n",
       "      <td>0</td>\n",
       "      <td>0</td>\n",
       "      <td>0</td>\n",
       "    </tr>\n",
       "    <tr>\n",
       "      <th>4</th>\n",
       "      <td>7</td>\n",
       "      <td>1</td>\n",
       "      <td>0</td>\n",
       "      <td>0</td>\n",
       "      <td>51</td>\n",
       "      <td>44</td>\n",
       "      <td>14</td>\n",
       "      <td>8</td>\n",
       "      <td>5</td>\n",
       "      <td>0</td>\n",
       "      <td>0</td>\n",
       "      <td>0</td>\n",
       "    </tr>\n",
       "    <tr>\n",
       "      <th>5</th>\n",
       "      <td>1</td>\n",
       "      <td>0</td>\n",
       "      <td>0</td>\n",
       "      <td>0</td>\n",
       "      <td>0</td>\n",
       "      <td>9</td>\n",
       "      <td>2</td>\n",
       "      <td>2</td>\n",
       "      <td>5</td>\n",
       "      <td>1</td>\n",
       "      <td>0</td>\n",
       "      <td>0</td>\n",
       "    </tr>\n",
       "    <tr>\n",
       "      <th>6</th>\n",
       "      <td>0</td>\n",
       "      <td>0</td>\n",
       "      <td>0</td>\n",
       "      <td>0</td>\n",
       "      <td>0</td>\n",
       "      <td>0</td>\n",
       "      <td>2</td>\n",
       "      <td>1</td>\n",
       "      <td>1</td>\n",
       "      <td>0</td>\n",
       "      <td>1</td>\n",
       "      <td>0</td>\n",
       "    </tr>\n",
       "    <tr>\n",
       "      <th>7</th>\n",
       "      <td>0</td>\n",
       "      <td>0</td>\n",
       "      <td>0</td>\n",
       "      <td>0</td>\n",
       "      <td>0</td>\n",
       "      <td>0</td>\n",
       "      <td>0</td>\n",
       "      <td>1</td>\n",
       "      <td>0</td>\n",
       "      <td>0</td>\n",
       "      <td>0</td>\n",
       "      <td>1</td>\n",
       "    </tr>\n",
       "  </tbody>\n",
       "</table>\n",
       "</div>"
      ],
      "text/plain": [
       "beds      0.0   1.0   2.0   3.0   4.0   5.0   6.0   7.0   8.0   10.0  12.0  \\\n",
       "bedrooms                                                                     \n",
       "0            5   317   128     8     3     0     0     0     0     0     0   \n",
       "1           30  2074   531    68    24     6     0     0     1     0     0   \n",
       "2           13    11   560   193    66     8     4     2     0     0     0   \n",
       "3            8     5    17   236   135    38    17     3     0     0     0   \n",
       "4            7     1     0     0    51    44    14     8     5     0     0   \n",
       "5            1     0     0     0     0     9     2     2     5     1     0   \n",
       "6            0     0     0     0     0     0     2     1     1     0     1   \n",
       "7            0     0     0     0     0     0     0     1     0     0     0   \n",
       "\n",
       "beds      14.0  \n",
       "bedrooms        \n",
       "0            0  \n",
       "1            1  \n",
       "2            0  \n",
       "3            0  \n",
       "4            0  \n",
       "5            0  \n",
       "6            0  \n",
       "7            1  "
      ]
     },
     "execution_count": 316,
     "metadata": {},
     "output_type": "execute_result"
    }
   ],
   "source": [
    "pd.crosstab(dflreg['bedrooms'], dflreg['beds'])"
   ]
  },
  {
   "cell_type": "code",
   "execution_count": 317,
   "metadata": {},
   "outputs": [
    {
     "data": {
      "text/plain": [
       "Index(['const', 'accommodates', 'bathrooms', 'bedrooms', 'beds',\n",
       "       'cleaning_fee', 'min_night_stay_long', 'min_night_stay_mid',\n",
       "       'ppt_condensed_hostel', 'ppt_condensed_house'],\n",
       "      dtype='object')"
      ]
     },
     "execution_count": 317,
     "metadata": {},
     "output_type": "execute_result"
    }
   ],
   "source": [
    "all_columns = X_train.columns\n",
    "all_columns"
   ]
  },
  {
   "cell_type": "code",
   "execution_count": 318,
   "metadata": {},
   "outputs": [
    {
     "data": {
      "image/png": "[encoded data removed]",
      "text/plain": [
       "<Figure size 864x360 with 1 Axes>"
      ]
     },
     "metadata": {},
     "output_type": "display_data"
    },
    {
     "data": {
      "image/png": "[encoded data removed]",
      "text/plain": [
       "<Figure size 864x360 with 1 Axes>"
      ]
     },
     "metadata": {},
     "output_type": "display_data"
    },
    {
     "data": {
      "image/png": "[encoded data removed]",
      "text/plain": [
       "<Figure size 864x360 with 1 Axes>"
      ]
     },
     "metadata": {},
     "output_type": "display_data"
    },
    {
     "data": {
      "image/png": "[encoded data removed]",
      "text/plain": [
       "<Figure size 864x360 with 1 Axes>"
      ]
     },
     "metadata": {},
     "output_type": "display_data"
    },
    {
     "data": {
      "image/png": "[encoded data removed]",
      "text/plain": [
       "<Figure size 864x360 with 1 Axes>"
      ]
     },
     "metadata": {},
     "output_type": "display_data"
    },
    {
     "data": {
      "image/png": "[encoded data removed]",
      "text/plain": [
       "<Figure size 864x360 with 1 Axes>"
      ]
     },
     "metadata": {},
     "output_type": "display_data"
    },
    {
     "data": {
      "image/png": "[encoded data removed]",
      "text/plain": [
       "<Figure size 864x360 with 1 Axes>"
      ]
     },
     "metadata": {},
     "output_type": "display_data"
    },
    {
     "data": {
      "image/png": "[encoded data removed]",
      "text/plain": [
       "<Figure size 864x360 with 1 Axes>"
      ]
     },
     "metadata": {},
     "output_type": "display_data"
    },
    {
     "data": {
      "image/png": "[encoded data removed]",
      "text/plain": [
       "<Figure size 864x360 with 1 Axes>"
      ]
     },
     "metadata": {},
     "output_type": "display_data"
    },
    {
     "data": {
      "image/png": "[encoded data removed]",
      "text/plain": [
       "<Figure size 864x360 with 1 Axes>"
      ]
     },
     "metadata": {},
     "output_type": "display_data"
    }
   ],
   "source": [
    "for col in all_columns:\n",
    "    dfscat.plot(kind='scatter', y='price', x=col, edgecolor='none', figsize=(12, 5))\n",
    "    plt.xlabel(col)\n",
    "    plt.ylabel('Price')\n",
    "    plt.show()"
   ]
  },
  {
   "cell_type": "code",
   "execution_count": null,
   "metadata": {},
   "outputs": [],
   "source": []
  }
 ],
 "metadata": {
  "kernelspec": {
   "display_name": "Python 3",
   "language": "python",
   "name": "python3"
  },
  "language_info": {
   "codemirror_mode": {
    "name": "ipython",
    "version": 3
   },
   "file_extension": ".py",
   "mimetype": "text/x-python",
   "name": "python",
   "nbconvert_exporter": "python",
   "pygments_lexer": "ipython3",
   "version": "3.5.2"
  }
 },
 "nbformat": 4,
 "nbformat_minor": 2
}
