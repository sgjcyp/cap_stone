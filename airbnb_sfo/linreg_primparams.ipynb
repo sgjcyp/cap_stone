{
 "cells": [
  {
   "cell_type": "code",
   "execution_count": 57,
   "metadata": {},
   "outputs": [],
   "source": [
    "import numpy as np\n",
    "import pandas as pd\n",
    "import matplotlib.pyplot as plt\n",
    "%matplotlib inline\n",
    "\n",
    "from sklearn.model_selection import train_test_split\n",
    "from sklearn import datasets, linear_model\n",
    "from sklearn.metrics import  mean_squared_error, r2_score\n",
    "\n",
    "import statsmodels.api as sm"
   ]
  },
  {
   "cell_type": "code",
   "execution_count": 58,
   "metadata": {},
   "outputs": [],
   "source": [
    "cal = pd.read_csv('calendar.csv.gz')\n",
    "listd = pd.read_csv('listings.csv.gz')\n",
    "lists = pd.read_csv('listings.csv')\n",
    "revs = pd.read_csv('reviews.csv.gz')\n",
    "nhood = pd.read_csv('neighbourhoods.csv')\n",
    "purelst = pd.read_csv('listings.csv.gz')"
   ]
  },
  {
   "cell_type": "code",
   "execution_count": 59,
   "metadata": {},
   "outputs": [],
   "source": [
    "# pd.set_option('display.max_colu?mns', 96)\n",
    "pd.set_option('display.max_rows', 96)"
   ]
  },
  {
   "cell_type": "code",
   "execution_count": 60,
   "metadata": {},
   "outputs": [
    {
     "name": "stdout",
     "output_type": "stream",
     "text": [
      "96 12\n",
      "84 12\n"
     ]
    }
   ],
   "source": [
    "#CLEANUP incoming dataframes\n",
    "\n",
    "listd_drop_cols = ['scrape_id','last_scraped','experiences_offered','thumbnail_url','medium_url','xl_picture_url',\\\n",
    "                   'host_name','host_location','neighbourhood_group_cleansed','square_feet',\\\n",
    "                   'maximum_nights','is_business_travel_ready']\n",
    "\n",
    "# listd_numc_cols\n",
    "# listd_catz_cols\n",
    "\n",
    "print(len(listd.columns), len(listd_drop_cols))\n",
    "listd.drop(listd_drop_cols,axis=1,inplace=True )\n",
    "print(len(listd.columns), len(listd_drop_cols))"
   ]
  },
  {
   "cell_type": "markdown",
   "metadata": {},
   "source": [
    "# ALL TRANSFORMATIONS FUNCTIONS  : "
   ]
  },
  {
   "cell_type": "code",
   "execution_count": 61,
   "metadata": {},
   "outputs": [
    {
     "name": "stdout",
     "output_type": "stream",
     "text": [
      "2018-07-05 2019-07-04\n",
      "2009-05-03 2018-07-05\n"
     ]
    }
   ],
   "source": [
    "print(cal.date.min(),cal.date.max())\n",
    "print(revs.date.min(),revs.date.max())\n",
    "# print(lists.last_review.min(),lists.last_review.max())"
   ]
  },
  {
   "cell_type": "code",
   "execution_count": 62,
   "metadata": {},
   "outputs": [],
   "source": [
    "# tmp=listd.copy() # Create a new copy of the existing dataframe otherwise it is only by reference\n",
    "# tmp.head().T"
   ]
  },
  {
   "cell_type": "code",
   "execution_count": 63,
   "metadata": {},
   "outputs": [],
   "source": [
    "def price_xform(dframe,colname):\n",
    "    dframe[colname]=dframe[colname].str.replace('$','')\n",
    "    dframe[colname]=dframe[colname].str.replace(',','')\n",
    "    dframe[colname]=pd.to_numeric(dframe[colname])\n",
    "#     return(dframe)"
   ]
  },
  {
   "cell_type": "code",
   "execution_count": 64,
   "metadata": {},
   "outputs": [],
   "source": [
    "def cat_rename(dframe,colname,src,tgt):\n",
    "    dframe[colname]=dframe[colname].str.replace(src,tgt)\n",
    "#     dframe[colname]=dframe[colname].str.replace(',','')\n",
    "#     dframe[colname]=pd.to_numeric(dframe[colname])\n",
    "#     return(dframe)"
   ]
  },
  {
   "cell_type": "code",
   "execution_count": 65,
   "metadata": {},
   "outputs": [],
   "source": [
    "def create_dummies(dframe,colname):\n",
    "#     dfnew=dframe.copy()\n",
    "    dframe=pd.get_dummies(data=dframe, columns=[colname])# create dummies and drop the parent column\n",
    "    dframe.drop(columns=[dframe.columns[-1]],inplace=True) #dropped the last column from the add dummies\n",
    "    return dframe"
   ]
  },
  {
   "cell_type": "code",
   "execution_count": 66,
   "metadata": {},
   "outputs": [],
   "source": [
    "#Impute Null Rows based on the specified column\n",
    "def impute_nullrows(dframe,colname):\n",
    "    print(dframe[colname].isnull().sum())\n",
    "    dftmp=dframe[~dframe[colname].isnull()]   # remove nulls from one column\n",
    "    print(dftmp[colname].isnull().sum())\n",
    "    return dftmp\n"
   ]
  },
  {
   "cell_type": "markdown",
   "metadata": {},
   "source": [
    "# TRANSFORM ACTIONS"
   ]
  },
  {
   "cell_type": "code",
   "execution_count": 67,
   "metadata": {},
   "outputs": [],
   "source": [
    "# Convert to Booleans\n",
    "listd['host_is_superhost'] = listd.apply(lambda x:  x.host_is_superhost=='t', axis= 1)\n",
    "listd['host_has_profile_pic'] = listd.apply(lambda x:  x.host_has_profile_pic=='t', axis= 1)\n",
    "listd['host_identity_verified'] = listd.apply(lambda x:  x.host_identity_verified=='t', axis= 1)\n",
    "listd['instant_bookable'] = listd.apply(lambda x:  x.instant_bookable=='t', axis= 1)"
   ]
  },
  {
   "cell_type": "code",
   "execution_count": 68,
   "metadata": {},
   "outputs": [],
   "source": [
    "#Transform all the price columns to remove \"$\" and \",\"\n",
    "\n",
    "price_xform(listd,'price')\n",
    "price_xform(listd,'weekly_price')\n",
    "price_xform(listd,'monthly_price')\n",
    "price_xform(listd,'security_deposit')\n",
    "price_xform(listd,'cleaning_fee')\n",
    "price_xform(listd,'extra_people')"
   ]
  },
  {
   "cell_type": "code",
   "execution_count": 69,
   "metadata": {},
   "outputs": [],
   "source": [
    "#Transform the room_type . to create a meaningful name and create dummies\n",
    "\n",
    "cat_rename(listd,'room_type','Entire home/apt','full')\n",
    "cat_rename(listd,'room_type','Private room','pvt')\n",
    "cat_rename(listd,'room_type','Shared room','shared')\n",
    "\n",
    "listd=create_dummies(listd,'room_type')\n",
    "# listd=pd.get_dummies(data=listd, columns=['room_type'])  # create dummies and drop the parent column\n",
    "# listd.drop(columns=[listd.columns[-1]],inplace=True)  #dropped the last column from the add dummies"
   ]
  },
  {
   "cell_type": "code",
   "execution_count": 70,
   "metadata": {},
   "outputs": [],
   "source": [
    "#Transform the bed_type . to create a meaningful name and create dummies\n",
    "listd['bed_type'] = listd.apply(lambda x: x.bed_type=='Real Bed', axis=1)"
   ]
  },
  {
   "cell_type": "code",
   "execution_count": 71,
   "metadata": {},
   "outputs": [],
   "source": [
    "#Put a count on amenities,   IF it does not work, pick the most important feature\n",
    "listd['amentcnt'] =   listd.apply(lambda x: len(x.amenities.split(\",\")), axis=1)"
   ]
  },
  {
   "cell_type": "code",
   "execution_count": 72,
   "metadata": {},
   "outputs": [],
   "source": [
    "#!!! APPLY the same for the test data also\n",
    "#Impute the to remove the rows with no zipcode.  !!! APPLY the same for the test data also\n",
    "listd=listd[~listd['zipcode'].isnull()]   # remove nulls from one column\n",
    "\n",
    "\n"
   ]
  },
  {
   "cell_type": "code",
   "execution_count": 73,
   "metadata": {},
   "outputs": [],
   "source": [
    "#Impute the null values with meaningful data\n",
    "\n",
    "listd['cleaning_fee']=listd['cleaning_fee'].fillna(0)\n",
    "listd['review_scores_cleanliness'] = listd['review_scores_cleanliness'].fillna(listd.review_scores_cleanliness.mean())\n",
    "\n",
    "listd['review_scores_location'] = listd['review_scores_location'].fillna(listd.review_scores_location.mean())\n",
    "listd['review_scores_value'] = listd['review_scores_value'].fillna(listd.review_scores_value.mean())\n",
    "\n",
    "\n"
   ]
  },
  {
   "cell_type": "code",
   "execution_count": 74,
   "metadata": {},
   "outputs": [],
   "source": [
    "# mask1 = listd['minimum_nights']>7 \n",
    "# mask2 = listd['minimum_nights']<=32\n",
    "# maskmid=mask1 & mask2 \n",
    "# maskmid = (listd['minimum_nights']>7) & (listd['minimum_nights']<=32)\n",
    "# mask2\n",
    "# maskmid\n",
    "listd.loc[listd['minimum_nights']<=7,'min_night_stay'] = 'short'\n",
    "listd.loc[(listd['minimum_nights']>7) & (listd['minimum_nights']<=32),'min_night_stay'] = 'mid'\n",
    "listd.loc[listd['minimum_nights']>32,'min_night_stay'] = 'long'\n",
    "listd=create_dummies(listd,'min_night_stay')"
   ]
  },
  {
   "cell_type": "code",
   "execution_count": 75,
   "metadata": {},
   "outputs": [],
   "source": [
    "#Condensing the property_type to sub categories\n",
    "\n",
    "listd.loc[listd['property_type']=='Apartment', 'ppt_condensed'] = 'apt'\n",
    "listd.loc[listd['property_type']=='Condominium', 'ppt_condensed'] = 'apt'\n",
    "listd.loc[listd['property_type']=='Guest suite', 'ppt_condensed'] = 'apt'\n",
    "listd.loc[listd['property_type']=='Townhouse', 'ppt_condensed'] = 'apt'\n",
    "listd.loc[listd['property_type']=='Guesthouse', 'ppt_condensed'] = 'apt'\n",
    "listd.loc[listd['property_type']=='Tiny house', 'ppt_condensed'] = 'apt'\n",
    "listd.loc[listd['property_type']=='Timeshare', 'ppt_condensed'] = 'apt'\n",
    "\n",
    "listd.loc[listd['property_type']=='Serviced apartment', 'ppt_condensed'] = 'aptspl'\n",
    "listd.loc[listd['property_type']=='Bed and breakfast', 'ppt_condensed'] = 'aptspl'\n",
    "listd.loc[listd['property_type']=='Treehouse', 'ppt_condensed'] = 'aptspl'\n",
    "listd.loc[listd['property_type']=='Cabin', 'ppt_condensed'] = 'aptspl'\n",
    "\n",
    "listd.loc[listd['property_type']=='Bus', 'ppt_condensed'] = 'auto'\n",
    "listd.loc[listd['property_type']=='Boat', 'ppt_condensed'] = 'auto'\n",
    "listd.loc[listd['property_type']=='Camper/RV', 'ppt_condensed'] = 'auto'\n",
    "\n",
    "listd.loc[listd['property_type']=='Hostel', 'ppt_condensed'] = 'hostel'\n",
    "\n",
    "listd.loc[listd['property_type']=='Boutique hotel', 'ppt_condensed'] = 'hotel'\n",
    "listd.loc[listd['property_type']=='Hotel', 'ppt_condensed'] = 'hotel'\n",
    "listd.loc[listd['property_type']=='Resort', 'ppt_condensed'] = 'hotel'\n",
    "listd.loc[listd['property_type']=='Aparthotel', 'ppt_condensed'] = 'hotel'\n",
    "\n",
    "listd.loc[listd['property_type']=='House', 'ppt_condensed'] = 'house'\n",
    "listd.loc[listd['property_type']=='Bungalow', 'ppt_condensed'] = 'house'\n",
    "listd.loc[listd['property_type']=='Cottage', 'ppt_condensed'] = 'house'\n",
    "listd.loc[listd['property_type']=='Villa', 'ppt_condensed'] = 'house'\n",
    "\n",
    "listd.loc[listd['property_type']=='Other', 'ppt_condensed'] = 'other'\n",
    "\n",
    "listd.loc[listd['property_type']=='Loft', 'ppt_condensed'] = 'room'\n",
    "\n",
    "listd=create_dummies(listd,'ppt_condensed')"
   ]
  },
  {
   "cell_type": "code",
   "execution_count": 76,
   "metadata": {},
   "outputs": [],
   "source": [
    "listd=create_dummies(listd,'zipcode')"
   ]
  },
  {
   "cell_type": "code",
   "execution_count": 77,
   "metadata": {},
   "outputs": [
    {
     "data": {
      "text/plain": [
       "(4662, 122)"
      ]
     },
     "execution_count": 77,
     "metadata": {},
     "output_type": "execute_result"
    }
   ],
   "source": [
    "#Removed the rows with price is equal to zero\n",
    "listd=listd[listd.price>0]\n",
    "listd.shape"
   ]
  },
  {
   "cell_type": "code",
   "execution_count": 78,
   "metadata": {},
   "outputs": [],
   "source": [
    "#imputing some more missing values\n",
    "\n",
    "listd['cleaning_fee'].fillna(0, inplace=True)\n",
    "listd['beds'].fillna(0, inplace=True)\n",
    "listd['bathrooms'].fillna(0, inplace=True)"
   ]
  },
  {
   "cell_type": "code",
   "execution_count": 79,
   "metadata": {},
   "outputs": [],
   "source": [
    "# lreg_cols = ['price','weekly_price','cleaning_fee','accommodates','bedrooms','beds',\\\n",
    "#              'bathrooms','guests_included','zipcode']\n",
    "\n",
    "listd_drop_cols2=['id', 'listing_url', 'name', 'summary', 'space', 'description',\\\n",
    "       'neighborhood_overview', 'notes', 'transit', 'access', 'interaction',\\\n",
    "       'house_rules', 'picture_url', 'host_id', 'host_url', 'host_since',\\\n",
    "       'host_about', 'host_response_time', 'host_response_rate',\\\n",
    "       'host_acceptance_rate', 'host_thumbnail_url',\\\n",
    "       'host_picture_url', 'host_neighbourhood', 'host_listings_count',\\\n",
    "       'host_total_listings_count', 'host_verifications',\\\n",
    "       'host_has_profile_pic', 'street',\\\n",
    "       'neighbourhood', 'neighbourhood_cleansed', 'city', 'state',\\\n",
    "       'market', 'smart_location', 'country_code', 'country', 'latitude',\\\n",
    "       'longitude', 'is_location_exact', 'property_type',\\\n",
    "       'amenities',\\\n",
    "       'weekly_price', 'monthly_price', 'security_deposit',\\\n",
    "       'extra_people', 'minimum_nights', 'calendar_updated',\\\n",
    "       'has_availability', 'availability_30', 'availability_60',\\\n",
    "       'availability_90', 'availability_365', 'calendar_last_scraped',\\\n",
    "       'number_of_reviews', 'first_review', 'last_review',\\\n",
    "       'review_scores_rating', 'review_scores_accuracy',\\\n",
    "       'review_scores_cleanliness', 'review_scores_checkin',\\\n",
    "       'review_scores_communication', 'review_scores_location',\\\n",
    "       'review_scores_value', 'requires_license', 'license',\\\n",
    "       'jurisdiction_names', 'instant_bookable', 'cancellation_policy',\\\n",
    "       'require_guest_profile_picture', 'require_guest_phone_verification',\\\n",
    "       'calculated_host_listings_count', 'reviews_per_month']\n",
    "# listd_drop_cols2=['property_type','minimum_nights']\n",
    "listd.drop(listd_drop_cols2,axis=1,inplace=True )"
   ]
  },
  {
   "cell_type": "code",
   "execution_count": 80,
   "metadata": {},
   "outputs": [
    {
     "data": {
      "text/plain": [
       "Index(['host_is_superhost', 'host_identity_verified', 'accommodates',\n",
       "       'bathrooms', 'bedrooms', 'beds', 'bed_type', 'price', 'cleaning_fee',\n",
       "       'guests_included', 'room_type_full', 'room_type_pvt', 'amentcnt',\n",
       "       'min_night_stay_long', 'min_night_stay_mid', 'ppt_condensed_apt',\n",
       "       'ppt_condensed_aptspl', 'ppt_condensed_auto', 'ppt_condensed_hostel',\n",
       "       'ppt_condensed_hotel', 'ppt_condensed_house', 'ppt_condensed_other',\n",
       "       'zipcode_94014.0', 'zipcode_94015.0', 'zipcode_94102.0',\n",
       "       'zipcode_94103.0', 'zipcode_94104.0', 'zipcode_94105.0',\n",
       "       'zipcode_94107.0', 'zipcode_94108.0', 'zipcode_94109.0',\n",
       "       'zipcode_94110.0', 'zipcode_94111.0', 'zipcode_94112.0',\n",
       "       'zipcode_94114.0', 'zipcode_94115.0', 'zipcode_94116.0',\n",
       "       'zipcode_94117.0', 'zipcode_94118.0', 'zipcode_94121.0',\n",
       "       'zipcode_94122.0', 'zipcode_94123.0', 'zipcode_94124.0',\n",
       "       'zipcode_94127.0', 'zipcode_94129.0', 'zipcode_94131.0',\n",
       "       'zipcode_94132.0', 'zipcode_94133.0', 'zipcode_94134.0',\n",
       "       'zipcode_94158.0'],\n",
       "      dtype='object')"
      ]
     },
     "execution_count": 80,
     "metadata": {},
     "output_type": "execute_result"
    }
   ],
   "source": [
    "listd.columns"
   ]
  },
  {
   "cell_type": "code",
   "execution_count": 81,
   "metadata": {},
   "outputs": [
    {
     "data": {
      "text/plain": [
       "(4662, 50)"
      ]
     },
     "execution_count": 81,
     "metadata": {},
     "output_type": "execute_result"
    }
   ],
   "source": [
    "listd.shape"
   ]
  },
  {
   "cell_type": "code",
   "execution_count": null,
   "metadata": {},
   "outputs": [],
   "source": []
  },
  {
   "cell_type": "markdown",
   "metadata": {},
   "source": [
    "# EXTRA BEGIN"
   ]
  },
  {
   "cell_type": "markdown",
   "metadata": {},
   "source": [
    "# EXTRA END"
   ]
  },
  {
   "cell_type": "code",
   "execution_count": 82,
   "metadata": {},
   "outputs": [],
   "source": [
    "dfcorr=listd.corr()\n",
    "# dfcorr.price.sort_values()\n"
   ]
  },
  {
   "cell_type": "code",
   "execution_count": 83,
   "metadata": {},
   "outputs": [
    {
     "data": {
      "text/html": [
       "<div>\n",
       "<style scoped>\n",
       "    .dataframe tbody tr th:only-of-type {\n",
       "        vertical-align: middle;\n",
       "    }\n",
       "\n",
       "    .dataframe tbody tr th {\n",
       "        vertical-align: top;\n",
       "    }\n",
       "\n",
       "    .dataframe thead th {\n",
       "        text-align: right;\n",
       "    }\n",
       "</style>\n",
       "<table border=\"1\" class=\"dataframe\">\n",
       "  <thead>\n",
       "    <tr style=\"text-align: right;\">\n",
       "      <th></th>\n",
       "      <th>host_is_superhost</th>\n",
       "      <th>host_identity_verified</th>\n",
       "      <th>accommodates</th>\n",
       "      <th>bathrooms</th>\n",
       "      <th>bedrooms</th>\n",
       "      <th>beds</th>\n",
       "      <th>bed_type</th>\n",
       "      <th>price</th>\n",
       "      <th>cleaning_fee</th>\n",
       "      <th>guests_included</th>\n",
       "      <th>...</th>\n",
       "      <th>zipcode_94122.0</th>\n",
       "      <th>zipcode_94123.0</th>\n",
       "      <th>zipcode_94124.0</th>\n",
       "      <th>zipcode_94127.0</th>\n",
       "      <th>zipcode_94129.0</th>\n",
       "      <th>zipcode_94131.0</th>\n",
       "      <th>zipcode_94132.0</th>\n",
       "      <th>zipcode_94133.0</th>\n",
       "      <th>zipcode_94134.0</th>\n",
       "      <th>zipcode_94158.0</th>\n",
       "    </tr>\n",
       "  </thead>\n",
       "  <tbody>\n",
       "    <tr>\n",
       "      <th>host_is_superhost</th>\n",
       "      <td>1.000000</td>\n",
       "      <td>0.176110</td>\n",
       "      <td>-0.066785</td>\n",
       "      <td>-0.073704</td>\n",
       "      <td>-0.068890</td>\n",
       "      <td>-0.093498</td>\n",
       "      <td>-0.021605</td>\n",
       "      <td>-0.013742</td>\n",
       "      <td>-0.036288</td>\n",
       "      <td>0.003894</td>\n",
       "      <td>...</td>\n",
       "      <td>0.047283</td>\n",
       "      <td>-0.008483</td>\n",
       "      <td>-0.001111</td>\n",
       "      <td>0.016106</td>\n",
       "      <td>-0.012819</td>\n",
       "      <td>0.017711</td>\n",
       "      <td>-0.016373</td>\n",
       "      <td>-0.024218</td>\n",
       "      <td>-0.011534</td>\n",
       "      <td>-0.018832</td>\n",
       "    </tr>\n",
       "    <tr>\n",
       "      <th>host_identity_verified</th>\n",
       "      <td>0.176110</td>\n",
       "      <td>1.000000</td>\n",
       "      <td>0.023722</td>\n",
       "      <td>0.038283</td>\n",
       "      <td>0.084281</td>\n",
       "      <td>0.009468</td>\n",
       "      <td>-0.021019</td>\n",
       "      <td>0.058457</td>\n",
       "      <td>0.064004</td>\n",
       "      <td>0.043997</td>\n",
       "      <td>...</td>\n",
       "      <td>-0.003876</td>\n",
       "      <td>-0.025903</td>\n",
       "      <td>0.009853</td>\n",
       "      <td>0.000215</td>\n",
       "      <td>0.010790</td>\n",
       "      <td>0.014966</td>\n",
       "      <td>-0.018309</td>\n",
       "      <td>-0.054209</td>\n",
       "      <td>-0.034937</td>\n",
       "      <td>-0.024633</td>\n",
       "    </tr>\n",
       "    <tr>\n",
       "      <th>accommodates</th>\n",
       "      <td>-0.066785</td>\n",
       "      <td>0.023722</td>\n",
       "      <td>1.000000</td>\n",
       "      <td>0.479894</td>\n",
       "      <td>0.769164</td>\n",
       "      <td>0.834911</td>\n",
       "      <td>0.071253</td>\n",
       "      <td>0.433958</td>\n",
       "      <td>0.549102</td>\n",
       "      <td>0.558845</td>\n",
       "      <td>...</td>\n",
       "      <td>0.009087</td>\n",
       "      <td>0.023262</td>\n",
       "      <td>-0.009771</td>\n",
       "      <td>0.008321</td>\n",
       "      <td>0.019512</td>\n",
       "      <td>0.012691</td>\n",
       "      <td>-0.023854</td>\n",
       "      <td>0.000806</td>\n",
       "      <td>0.027570</td>\n",
       "      <td>0.004030</td>\n",
       "    </tr>\n",
       "    <tr>\n",
       "      <th>bathrooms</th>\n",
       "      <td>-0.073704</td>\n",
       "      <td>0.038283</td>\n",
       "      <td>0.479894</td>\n",
       "      <td>1.000000</td>\n",
       "      <td>0.554435</td>\n",
       "      <td>0.493763</td>\n",
       "      <td>0.036435</td>\n",
       "      <td>0.334272</td>\n",
       "      <td>0.376441</td>\n",
       "      <td>0.284819</td>\n",
       "      <td>...</td>\n",
       "      <td>-0.020596</td>\n",
       "      <td>0.037558</td>\n",
       "      <td>-0.014459</td>\n",
       "      <td>0.025774</td>\n",
       "      <td>-0.006685</td>\n",
       "      <td>0.002333</td>\n",
       "      <td>0.021209</td>\n",
       "      <td>-0.040651</td>\n",
       "      <td>-0.012187</td>\n",
       "      <td>0.003814</td>\n",
       "    </tr>\n",
       "    <tr>\n",
       "      <th>bedrooms</th>\n",
       "      <td>-0.068890</td>\n",
       "      <td>0.084281</td>\n",
       "      <td>0.769164</td>\n",
       "      <td>0.554435</td>\n",
       "      <td>1.000000</td>\n",
       "      <td>0.730484</td>\n",
       "      <td>0.046284</td>\n",
       "      <td>0.434292</td>\n",
       "      <td>0.581118</td>\n",
       "      <td>0.520190</td>\n",
       "      <td>...</td>\n",
       "      <td>-0.004132</td>\n",
       "      <td>0.037703</td>\n",
       "      <td>-0.023691</td>\n",
       "      <td>0.021538</td>\n",
       "      <td>0.009484</td>\n",
       "      <td>0.034552</td>\n",
       "      <td>-0.015237</td>\n",
       "      <td>0.012223</td>\n",
       "      <td>0.007016</td>\n",
       "      <td>0.001407</td>\n",
       "    </tr>\n",
       "  </tbody>\n",
       "</table>\n",
       "<p>5 rows × 50 columns</p>\n",
       "</div>"
      ],
      "text/plain": [
       "                        host_is_superhost  host_identity_verified  \\\n",
       "host_is_superhost                1.000000                0.176110   \n",
       "host_identity_verified           0.176110                1.000000   \n",
       "accommodates                    -0.066785                0.023722   \n",
       "bathrooms                       -0.073704                0.038283   \n",
       "bedrooms                        -0.068890                0.084281   \n",
       "\n",
       "                        accommodates  bathrooms  bedrooms      beds  bed_type  \\\n",
       "host_is_superhost          -0.066785  -0.073704 -0.068890 -0.093498 -0.021605   \n",
       "host_identity_verified      0.023722   0.038283  0.084281  0.009468 -0.021019   \n",
       "accommodates                1.000000   0.479894  0.769164  0.834911  0.071253   \n",
       "bathrooms                   0.479894   1.000000  0.554435  0.493763  0.036435   \n",
       "bedrooms                    0.769164   0.554435  1.000000  0.730484  0.046284   \n",
       "\n",
       "                           price  cleaning_fee  guests_included  \\\n",
       "host_is_superhost      -0.013742     -0.036288         0.003894   \n",
       "host_identity_verified  0.058457      0.064004         0.043997   \n",
       "accommodates            0.433958      0.549102         0.558845   \n",
       "bathrooms               0.334272      0.376441         0.284819   \n",
       "bedrooms                0.434292      0.581118         0.520190   \n",
       "\n",
       "                             ...         zipcode_94122.0  zipcode_94123.0  \\\n",
       "host_is_superhost            ...                0.047283        -0.008483   \n",
       "host_identity_verified       ...               -0.003876        -0.025903   \n",
       "accommodates                 ...                0.009087         0.023262   \n",
       "bathrooms                    ...               -0.020596         0.037558   \n",
       "bedrooms                     ...               -0.004132         0.037703   \n",
       "\n",
       "                        zipcode_94124.0  zipcode_94127.0  zipcode_94129.0  \\\n",
       "host_is_superhost             -0.001111         0.016106        -0.012819   \n",
       "host_identity_verified         0.009853         0.000215         0.010790   \n",
       "accommodates                  -0.009771         0.008321         0.019512   \n",
       "bathrooms                     -0.014459         0.025774        -0.006685   \n",
       "bedrooms                      -0.023691         0.021538         0.009484   \n",
       "\n",
       "                        zipcode_94131.0  zipcode_94132.0  zipcode_94133.0  \\\n",
       "host_is_superhost              0.017711        -0.016373        -0.024218   \n",
       "host_identity_verified         0.014966        -0.018309        -0.054209   \n",
       "accommodates                   0.012691        -0.023854         0.000806   \n",
       "bathrooms                      0.002333         0.021209        -0.040651   \n",
       "bedrooms                       0.034552        -0.015237         0.012223   \n",
       "\n",
       "                        zipcode_94134.0  zipcode_94158.0  \n",
       "host_is_superhost             -0.011534        -0.018832  \n",
       "host_identity_verified        -0.034937        -0.024633  \n",
       "accommodates                   0.027570         0.004030  \n",
       "bathrooms                     -0.012187         0.003814  \n",
       "bedrooms                       0.007016         0.001407  \n",
       "\n",
       "[5 rows x 50 columns]"
      ]
     },
     "execution_count": 83,
     "metadata": {},
     "output_type": "execute_result"
    }
   ],
   "source": [
    "dfcorr.head()"
   ]
  },
  {
   "cell_type": "code",
   "execution_count": 84,
   "metadata": {},
   "outputs": [
    {
     "data": {
      "text/plain": [
       "room_type_pvt            -0.256935\n",
       "zipcode_94112.0          -0.077826\n",
       "ppt_condensed_hostel     -0.065285\n",
       "zipcode_94124.0          -0.058418\n",
       "zipcode_94122.0          -0.047006\n",
       "zipcode_94132.0          -0.044017\n",
       "zipcode_94102.0          -0.043951\n",
       "zipcode_94134.0          -0.037983\n",
       "min_night_stay_mid       -0.035109\n",
       "zipcode_94111.0          -0.027142\n",
       "ppt_condensed_hotel      -0.026607\n",
       "ppt_condensed_apt        -0.025683\n",
       "zipcode_94110.0          -0.025396\n",
       "zipcode_94014.0          -0.022799\n",
       "ppt_condensed_aptspl     -0.020199\n",
       "zipcode_94127.0          -0.018459\n",
       "zipcode_94116.0          -0.015249\n",
       "ppt_condensed_auto       -0.014055\n",
       "host_is_superhost        -0.013742\n",
       "ppt_condensed_other      -0.013267\n",
       "zipcode_94015.0          -0.009269\n",
       "zipcode_94107.0           0.001506\n",
       "zipcode_94108.0           0.001901\n",
       "zipcode_94118.0           0.002310\n",
       "zipcode_94105.0           0.002917\n",
       "zipcode_94131.0           0.003698\n",
       "zipcode_94129.0           0.004251\n",
       "zipcode_94158.0           0.005958\n",
       "zipcode_94103.0           0.010641\n",
       "zipcode_94121.0           0.016670\n",
       "zipcode_94117.0           0.023188\n",
       "min_night_stay_long       0.024949\n",
       "bed_type                  0.031523\n",
       "zipcode_94109.0           0.032321\n",
       "zipcode_94114.0           0.048053\n",
       "host_identity_verified    0.058457\n",
       "zipcode_94104.0           0.059747\n",
       "ppt_condensed_house       0.059892\n",
       "zipcode_94115.0           0.060454\n",
       "zipcode_94133.0           0.065738\n",
       "zipcode_94123.0           0.078527\n",
       "amentcnt                  0.125452\n",
       "room_type_full            0.274114\n",
       "guests_included           0.280157\n",
       "bathrooms                 0.334272\n",
       "beds                      0.369234\n",
       "cleaning_fee              0.392555\n",
       "accommodates              0.433958\n",
       "bedrooms                  0.434292\n",
       "price                     1.000000\n",
       "Name: price, dtype: float64"
      ]
     },
     "execution_count": 84,
     "metadata": {},
     "output_type": "execute_result"
    }
   ],
   "source": [
    "dfcorr.price.sort_values()"
   ]
  },
  {
   "cell_type": "markdown",
   "metadata": {},
   "source": [
    "'''\n",
    "lreg_cols_master = ['square_feet','weekly_price','cleaning_fee','accommodates','bedrooms','beds','bathrooms','guests_included','zipcode']\n",
    "lreg_cols = ['price','weekly_price','cleaning_fee','accommodates','bedrooms','beds','bathrooms','guests_included','zipcode']\n",
    "'''"
   ]
  },
  {
   "cell_type": "code",
   "execution_count": null,
   "metadata": {},
   "outputs": [],
   "source": []
  },
  {
   "cell_type": "code",
   "execution_count": 85,
   "metadata": {},
   "outputs": [],
   "source": [
    "dflreg = listd.copy()\n",
    "dflreg = sm.add_constant(dflreg)"
   ]
  },
  {
   "cell_type": "code",
   "execution_count": 86,
   "metadata": {},
   "outputs": [],
   "source": [
    "dflreg['host_is_superhost'] = (dflreg['host_is_superhost'] == True).astype(int)\n",
    "dflreg['host_identity_verified'] = (dflreg['host_identity_verified'] == True).astype(int)\n",
    "dflreg['bed_type'] = (dflreg['bed_type'] == True).astype(int)"
   ]
  },
  {
   "cell_type": "code",
   "execution_count": 87,
   "metadata": {},
   "outputs": [
    {
     "data": {
      "text/html": [
       "<div>\n",
       "<style scoped>\n",
       "    .dataframe tbody tr th:only-of-type {\n",
       "        vertical-align: middle;\n",
       "    }\n",
       "\n",
       "    .dataframe tbody tr th {\n",
       "        vertical-align: top;\n",
       "    }\n",
       "\n",
       "    .dataframe thead th {\n",
       "        text-align: right;\n",
       "    }\n",
       "</style>\n",
       "<table border=\"1\" class=\"dataframe\">\n",
       "  <thead>\n",
       "    <tr style=\"text-align: right;\">\n",
       "      <th></th>\n",
       "      <th>price</th>\n",
       "      <th>cleaning_fee</th>\n",
       "      <th>guests_included</th>\n",
       "    </tr>\n",
       "  </thead>\n",
       "  <tbody>\n",
       "    <tr>\n",
       "      <th>0</th>\n",
       "      <td>170.0</td>\n",
       "      <td>100.0</td>\n",
       "      <td>2</td>\n",
       "    </tr>\n",
       "    <tr>\n",
       "      <th>1</th>\n",
       "      <td>235.0</td>\n",
       "      <td>100.0</td>\n",
       "      <td>2</td>\n",
       "    </tr>\n",
       "    <tr>\n",
       "      <th>2</th>\n",
       "      <td>65.0</td>\n",
       "      <td>50.0</td>\n",
       "      <td>1</td>\n",
       "    </tr>\n",
       "    <tr>\n",
       "      <th>3</th>\n",
       "      <td>63.0</td>\n",
       "      <td>30.0</td>\n",
       "      <td>1</td>\n",
       "    </tr>\n",
       "    <tr>\n",
       "      <th>4</th>\n",
       "      <td>65.0</td>\n",
       "      <td>50.0</td>\n",
       "      <td>1</td>\n",
       "    </tr>\n",
       "  </tbody>\n",
       "</table>\n",
       "</div>"
      ],
      "text/plain": [
       "   price  cleaning_fee  guests_included\n",
       "0  170.0         100.0                2\n",
       "1  235.0         100.0                2\n",
       "2   65.0          50.0                1\n",
       "3   63.0          30.0                1\n",
       "4   65.0          50.0                1"
      ]
     },
     "execution_count": 87,
     "metadata": {},
     "output_type": "execute_result"
    }
   ],
   "source": [
    "dfscatter=dflreg.loc[:,'price':'guests_included']\n",
    "dfscatter.head()"
   ]
  },
  {
   "cell_type": "code",
   "execution_count": 88,
   "metadata": {},
   "outputs": [
    {
     "data": {
      "image/png": "[encoded data removed]",
      "text/plain": [
       "<Figure size 1080x720 with 9 Axes>"
      ]
     },
     "metadata": {},
     "output_type": "display_data"
    }
   ],
   "source": [
    "pd.plotting.scatter_matrix(dfscatter,figsize=(15,10));"
   ]
  },
  {
   "cell_type": "code",
   "execution_count": 89,
   "metadata": {},
   "outputs": [],
   "source": [
    "y=dflreg.price\n",
    "X=dflreg.drop(['price'],axis=1)"
   ]
  },
  {
   "cell_type": "code",
   "execution_count": 90,
   "metadata": {},
   "outputs": [],
   "source": [
    "X_chunk, X_test, y_chunk, y_test = train_test_split(X, y, test_size=0.20, random_state=47)\n",
    "X_train, X_vald, y_train, y_vald = train_test_split(X_chunk, y_chunk, test_size=0.20, random_state=47)"
   ]
  },
  {
   "cell_type": "code",
   "execution_count": 91,
   "metadata": {},
   "outputs": [],
   "source": [
    "X_train = X_chunk.copy()\n",
    "y_train = y_chunk.copy()"
   ]
  },
  {
   "cell_type": "code",
   "execution_count": 92,
   "metadata": {},
   "outputs": [
    {
     "name": "stdout",
     "output_type": "stream",
     "text": [
      "(3729, 50) (746, 50) (933, 50)\n",
      "(3729,) (746,) (933,)\n"
     ]
    }
   ],
   "source": [
    "print(X_train.shape, X_vald.shape, X_test.shape)\n",
    "print(y_train.shape, y_vald.shape, y_test.shape)"
   ]
  },
  {
   "cell_type": "code",
   "execution_count": 93,
   "metadata": {},
   "outputs": [],
   "source": [
    "lmodel = linear_model.LinearRegression()\n",
    "lmodel.fit(X_train,y_train)\n",
    "y_predsk = lmodel.predict(X_test)"
   ]
  },
  {
   "cell_type": "code",
   "execution_count": 94,
   "metadata": {
    "scrolled": true
   },
   "outputs": [
    {
     "name": "stdout",
     "output_type": "stream",
     "text": [
      "Coefficients: \n",
      " [-1.89941430e-13  1.41184521e+01  1.80920910e+01  2.01090408e+01\n",
      "  5.10654309e+01  4.92445288e+01 -9.94020873e+00 -7.08888519e+00\n",
      "  5.68332612e-01  3.07191347e+00  6.96077836e+01  3.35076911e+01\n",
      " -1.55309033e-01  1.20251141e+02 -4.64731820e+01 -4.30685410e+01\n",
      " -5.77370611e+01 -5.51636346e+01 -8.70795420e+01 -4.87780277e+00\n",
      " -2.55707278e+01 -4.54948305e+01 -5.43849738e+01  9.84599223e-01\n",
      "  4.99665973e+01  4.45147022e+01  3.52434388e+02  6.18436737e+01\n",
      "  9.17021941e-01  9.68915230e+01  7.39656438e+01 -2.46448001e+01\n",
      "  7.07438235e+01 -6.18323776e+01  2.44117724e+01  5.43618946e+01\n",
      "  7.83515098e+00  4.81768227e+00 -1.21774756e+01 -3.17904921e+01\n",
      " -4.88235055e+01  8.16474410e+01 -7.36046259e+01 -4.17244061e+01\n",
      "  3.16833538e+00 -1.28502468e+01 -6.22321133e+01  1.39605570e+02\n",
      " -6.49503696e+01  6.17251986e+01]\n"
     ]
    }
   ],
   "source": [
    "print('Coefficients: \\n', lmodel.coef_)"
   ]
  },
  {
   "cell_type": "code",
   "execution_count": 95,
   "metadata": {},
   "outputs": [
    {
     "data": {
      "text/plain": [
       "(933,)"
      ]
     },
     "execution_count": 95,
     "metadata": {},
     "output_type": "execute_result"
    }
   ],
   "source": [
    "y_predsk.shape"
   ]
  },
  {
   "cell_type": "code",
   "execution_count": 96,
   "metadata": {},
   "outputs": [],
   "source": [
    "from sklearn.utils import check_array\n",
    "import numpy as np\n",
    "def mse_prop(y_true, y_pred): \n",
    "\n",
    "\n",
    "    return (np.mean(np.abs((y_true - y_pred)**2 / (y_true+1)**2  )) * 100) **0.5\n",
    "\n"
   ]
  },
  {
   "cell_type": "code",
   "execution_count": null,
   "metadata": {},
   "outputs": [],
   "source": []
  },
  {
   "cell_type": "code",
   "execution_count": 97,
   "metadata": {},
   "outputs": [
    {
     "name": "stdout",
     "output_type": "stream",
     "text": [
      "Mean squared error: 29373.96\n",
      "Variance squared error: 0.38\n",
      "MSE Proportion: 6.49\n"
     ]
    }
   ],
   "source": [
    "print(\"Mean squared error: %.2f\" % mean_squared_error(y_test, y_predsk))\n",
    "print(\"Variance squared error: %.2f\" % r2_score(y_test, y_predsk))\n",
    "print(\"MSE Proportion: %.2f\" % mse_prop(y_test, y_predsk))"
   ]
  },
  {
   "cell_type": "code",
   "execution_count": 98,
   "metadata": {},
   "outputs": [],
   "source": [
    "#Building Residual DF\n",
    "\n",
    "dfpred= y_test.to_frame()\n",
    "dfpred['sk_preds'] = y_predsk\n",
    "dfpred['sk_resid'] = dfpred.sk_preds-dfpred.price\n",
    "dfpred['sk_residpct'] = (dfpred.sk_preds-dfpred.price)/dfpred.price\n",
    "# dfpred.head()"
   ]
  },
  {
   "cell_type": "code",
   "execution_count": 99,
   "metadata": {},
   "outputs": [
    {
     "data": {
      "text/plain": [
       "Text(0,0.5,'RESIDUAL PCT')"
      ]
     },
     "execution_count": 99,
     "metadata": {},
     "output_type": "execute_result"
    },
    {
     "data": {
      "image/png": "[encoded data removed]",
      "text/plain": [
       "<Figure size 1296x360 with 3 Axes>"
      ]
     },
     "metadata": {},
     "output_type": "display_data"
    }
   ],
   "source": [
    "fig = plt.figure(figsize=(18,5))\n",
    "ax1 = fig.add_subplot(1,3,1)\n",
    "ax2 = fig.add_subplot(1,3,2)\n",
    "ax3 = fig.add_subplot(1,3,3)\n",
    "\n",
    "ax1.scatter(y_test, y_predsk,  color='black')\n",
    "ax1.set_title('act_vs_pred')\n",
    "ax1.set_xlabel('ACT-PRICE')\n",
    "ax1.set_ylabel('PREDICT')\n",
    "\n",
    "ax2.scatter(dfpred.price,dfpred.sk_resid, color='red')\n",
    "ax2.set_title('RESIDUALS')\n",
    "ax2.set_xlabel('PRICE')\n",
    "ax2.set_ylabel('RESIDUAL')\n",
    "\n",
    "ax3.scatter(dfpred.price,dfpred.sk_residpct, color='blue')\n",
    "ax3.set_title('RESIDUAL PCT')\n",
    "ax3.set_xlabel('PRICE')\n",
    "ax3.set_ylabel('RESIDUAL PCT')"
   ]
  },
  {
   "cell_type": "code",
   "execution_count": 100,
   "metadata": {},
   "outputs": [
    {
     "data": {
      "text/plain": [
       "array([ 69.51625907, 175.46952149, 520.46988994, 631.15885178,\n",
       "       114.59473344, 352.1947233 , 247.79583993, 213.15334624,\n",
       "       234.48569486, 158.18684482, 558.63735537, 228.19420279,\n",
       "       545.72655725,  76.79854413,  37.39440325, 342.7481994 ,\n",
       "       295.9177308 , 211.11883021,  74.69503897,  95.56845323,\n",
       "       267.6334068 , 423.7594246 , 109.64349459,  75.4036055 ,\n",
       "       116.48883686, 388.25005434,  -3.95825597, 119.62397545,\n",
       "       239.37721523,  60.34486038,  50.81177453, 680.73090523,\n",
       "       170.49837614, 129.59715097, 108.23131457, 288.56950001,\n",
       "       216.69532152, 208.49956916, 206.31521462, 223.04655936,\n",
       "       129.59715097, 403.16593696, 111.34795508, 189.78795979,\n",
       "       239.37578724, 388.1880137 , 196.91388567,  17.16360263,\n",
       "        98.24086071, 209.2755799 , 451.15482651,  51.07431536,\n",
       "       133.33285433, 200.09592581, 320.83811451,  83.60233392,\n",
       "       284.98747082, 301.935228  , 206.23328253, 128.04406064,\n",
       "       294.82691049, 243.90988468, 120.79449349, 357.75760887,\n",
       "       296.35299858, 267.87550731, 250.15869769, 118.41446998,\n",
       "       255.16384298, 385.89445632, 135.69058911, 199.06705075,\n",
       "        62.63932762, 251.21070498,  43.49172851, 216.08292015,\n",
       "       268.53465406, 481.84378967, 224.41775442, 232.97245331,\n",
       "       321.92961266, 125.06308601, 466.73199423, 396.269209  ,\n",
       "       130.82183468, 217.52070979, 149.09659768, 201.64116753,\n",
       "       102.43838158, 331.56040141, 226.72906343, 163.11110214,\n",
       "       128.50998774,  72.68273266,  97.88765452, 390.40111981,\n",
       "        68.29312411, 463.66113643, 139.04777306, 140.79548649,\n",
       "       443.23723069,  89.64366241, 370.09612099, 396.0604407 ,\n",
       "       595.99040042, 155.48694886, 478.67566399, 165.97581636,\n",
       "       103.84908582, 510.52408916,  38.83611811, 165.42201655,\n",
       "       254.08160102, 153.09959735, 225.46254193, 170.30272529,\n",
       "       245.4842379 , 102.91650199, 117.55670549, 289.79109592,\n",
       "       137.02488735, 326.32774282,  36.54668369,  94.79190806,\n",
       "       250.65476493,  81.59841234, 317.86782252, 484.73730683,\n",
       "       137.98257878, 227.67652581,  71.26178168, 347.5894026 ,\n",
       "       156.12416503, 184.09681893,  54.09775618, 425.26216044,\n",
       "       545.60910031,  91.3729462 , 443.72831811, 380.01545813,\n",
       "        99.31790511, 294.46313485, 220.04384957, 419.8844756 ,\n",
       "       157.14490695, 107.98818558, 134.53288394, 159.48714715,\n",
       "       533.20880256,  46.47503594, 117.28313173, 179.01796651,\n",
       "       334.73967506, 118.72508804,  89.91684705,  99.55075638,\n",
       "       575.394727  , 162.94028195,  87.6938299 , 128.50998774,\n",
       "       522.41540854, 385.29229513, 157.14490695, 318.223501  ,\n",
       "        42.4057506 , 417.02153838,  98.90379189,  85.62135135,\n",
       "       223.5603426 , 199.4070712 , 120.04219455,   2.96320205,\n",
       "       268.81388939, 163.22474257, 107.98059466, 226.14591688,\n",
       "       123.80334733, 110.66698258,  41.25498225, 270.94814867,\n",
       "       419.50927378, 185.12441456,  84.83204551, 852.74782013,\n",
       "        96.99864971, 137.48002566, 209.93193057, 217.10633877,\n",
       "       148.28483179, 155.19124482, 644.96299891, 303.46286116,\n",
       "       146.39173099, 144.39243522, 122.85188913, 244.07623486,\n",
       "       302.88474874, 249.6907721 , 147.04238401, 165.25976435,\n",
       "       158.96338998, 211.55089236,  99.43431758, 300.73951968,\n",
       "       212.49071946,  74.81029494, 129.59715097, 305.09546689,\n",
       "       103.93341513, 579.7970467 , 448.71221454, 139.09785116,\n",
       "       252.42931136, 186.41115219, 100.34169423, 419.01159871,\n",
       "        32.95933463, 175.29972644, 301.55137892, 198.44328272,\n",
       "       225.8608561 , 353.21604331, 102.58173251, 572.61584184,\n",
       "       298.77626898,  56.36886628, 367.65097054, 157.14490695,\n",
       "        97.65685932, 147.35276025, 194.13988165, 167.4483524 ,\n",
       "       129.13122387, 255.35305857, 255.26085561, 219.00746378,\n",
       "       140.32617997, 491.08907745, 120.8362387 , 209.41337971,\n",
       "       481.30768946, 213.44846571,  88.91174285, 253.00245627,\n",
       "       220.82295423, 264.84720797, 101.03787174,  73.32474175,\n",
       "       342.13798316, 217.67476815, 163.12200971,  78.69440502,\n",
       "       183.76988902,  12.26785532,  82.80254302, 146.74333837,\n",
       "       153.09959735, 233.12776234, 245.78344572, 329.0328092 ,\n",
       "       171.6915042 , 191.25673651, 126.44990611, 290.26100562,\n",
       "       334.49259598, 543.02864302, 123.54739169, 155.90202581,\n",
       "       332.42035914,  51.41627532, 267.40745776, 330.77446454,\n",
       "       146.7247031 , 130.73754995, 332.54966998, 209.37041052,\n",
       "       132.94383544, 144.11033013, 471.36072885, 359.00074313,\n",
       "       216.69532152, 108.56432301, 153.97730351,  75.72314059,\n",
       "       152.85363801, 207.06010453, 320.88893099, 162.28956531,\n",
       "        92.92053178,  90.48229786, 199.7873715 , 193.32853103,\n",
       "       164.7937556 , 176.23494425, 168.39300775, 265.28762151,\n",
       "       112.55440927, 166.66050838, 500.27643743, 190.01344379,\n",
       "       286.07034138, 153.6573225 , 411.65077707, 359.35309608,\n",
       "       555.66937483,  85.72434762, 400.04985399, 371.69424857,\n",
       "       123.72428628, 223.71887464, 147.70739473, 157.14490695,\n",
       "        32.1414646 , 423.2131921 , 464.88073232, 136.11269709,\n",
       "        70.45348195, 670.91059143, 216.50036418, 138.14723683,\n",
       "       129.59715097, 165.70637167, 433.95694331,  91.06232813,\n",
       "       349.9225113 ,  80.94221071, 166.94535631, 205.82822712,\n",
       "       288.28542674, 617.27101532, 124.55736547, 150.83546708,\n",
       "       249.17214638, 139.13539608, 245.88107411, 234.09791658,\n",
       "       232.08248703, 129.59715097,  31.34874447, 272.83065234,\n",
       "       635.06433647, 714.97606181, 131.38606563, 276.53020034,\n",
       "       178.07848637, 282.04727192, 129.59715097, 229.36517689,\n",
       "       134.56588772, 152.64193027, 522.41135302, 139.49367355,\n",
       "       250.11552357, 423.00899879, 385.37845695, 103.98440542,\n",
       "       358.45962974, 671.56873484, 189.58903914,  97.96747739,\n",
       "       149.1230342 , 135.88402366, 231.20536349,  80.06778023,\n",
       "       163.47554756, 391.6363222 , 206.55444251,  49.03534445,\n",
       "       226.22865325, 477.92029967, 170.00220894, 266.14440278,\n",
       "        76.20982454, 338.12881105, 275.87857451, 121.66111316,\n",
       "        22.78118186, 189.80619801, 240.0129997 ,  51.77643347,\n",
       "       133.78390797, 189.03775364,  87.33433286, 134.81457834,\n",
       "       311.65190793, 616.83934966, 279.57251298, 144.36515109,\n",
       "       270.66361153, 377.55715484,  86.07451778, 167.35432276,\n",
       "       110.59422242, 117.76625418,  93.81494404,  90.66506261,\n",
       "       135.60747258, 550.55927714, 226.72921568, 163.82442263,\n",
       "        95.96655218, 408.37572163, 218.11250802, 217.27737691,\n",
       "       317.7905743 , 157.14490695, 607.56265262, 113.09791911,\n",
       "       177.647727  , 413.86055628, 317.82783345, 308.97466748,\n",
       "       236.33470696, 157.45552501, 369.43980426, 948.98796176,\n",
       "       173.63844096, 251.42960087, 175.20583877, 194.58898283,\n",
       "       148.48357442, 113.04163414,  56.04797087, 531.10889225,\n",
       "        62.65310393, 204.44719678, 177.38291419,  28.8799749 ,\n",
       "       261.92654847, 209.98684207, 184.3419912 , 192.20460017,\n",
       "       267.22077791, 109.77683752, 323.12521501, 135.60747258,\n",
       "       279.19506466, 128.6533734 , 181.53357732, 150.71131707,\n",
       "       351.78172435, 358.45464408, 249.41110977, 247.64105542,\n",
       "       130.01582529, 330.70600013, 325.72168356, 373.44269333,\n",
       "       200.84990643,  38.08370336, 201.21547246, 150.39583281,\n",
       "        47.97503634, 102.43665256, 177.05399846, 314.69060915,\n",
       "       342.83211479, 197.11783721, 149.4755513 , 332.22134541,\n",
       "        74.1892533 , 150.49582296, 155.90990063, 138.19229814,\n",
       "       167.08511568, 174.70284635, 256.47140588, 346.49865451,\n",
       "        99.97465649,  92.0706636 , 142.57213477, 311.13191482,\n",
       "       130.43145975, 226.3641037 , 492.06575787,  72.77135816,\n",
       "       369.85984442, 197.27761213, 134.49489225, 115.3350984 ,\n",
       "       228.43085044, 124.31820063, 164.66224341,  52.13953756,\n",
       "       279.47056816,  98.50376175, 325.97443244, 204.81907188,\n",
       "       110.49623425, 245.78466385, 173.8000617 , 139.41716007,\n",
       "       261.23377845,  78.96800822,  13.24587921, 135.44996567,\n",
       "       185.95231149, 205.74612215, 228.54759708, 179.73031507,\n",
       "       180.00084157, 121.32721088, 257.33921934, 232.39900331,\n",
       "       183.44593446,  65.4599911 , 151.42146078,  72.05157423,\n",
       "       545.94081895, 150.27951712, 397.61358004, 331.69027363,\n",
       "       219.29840455, 310.22796396,  98.10182423,  74.73041231,\n",
       "       362.23047401, 236.39834092, 231.53989012,  83.826621  ,\n",
       "        69.88658272, 501.45951334, 267.28526402, 138.00462706,\n",
       "       153.23030794,  50.61893639, 213.23400974, 306.80447753,\n",
       "       213.49897741, 178.64469549, 127.09133349, 263.2353318 ,\n",
       "       214.41694379, 152.23213277, 326.83529964,  97.417237  ,\n",
       "       399.47005003,  78.34948529, 427.45911068, 305.692095  ,\n",
       "       249.85237977, 117.27484855, 479.46160473, 295.57124244,\n",
       "       158.37452724, 138.86721059, 354.05927331, 361.20502112,\n",
       "       -22.57533914,  70.01009678, 615.09855968,  48.87368387,\n",
       "        78.50479433, 164.55091883, 282.37309501, 128.66529677,\n",
       "       133.5356284 , 615.98723205, 106.07134915, 173.43157665,\n",
       "       272.47129214, 191.16422915, 129.59715097, 268.33732096,\n",
       "       142.64835614, 105.39704297, 149.07073016,  39.4737845 ,\n",
       "       174.13805897, 157.14490695, 110.2884703 ,  91.37085704,\n",
       "       195.1113137 , 149.65710535, 217.57149131, 147.93037268,\n",
       "       141.7232589 , 160.77974316, 132.86877912, 370.52695777,\n",
       "       405.78164434, 185.95231149, 153.09959735, 117.91159616,\n",
       "       197.46724505, -50.98959047, 367.8673039 , 133.21504067,\n",
       "       308.33540895, 251.19190389, 119.26202785, 166.65874959,\n",
       "       110.78374818, 252.73203691,  83.73876684, 210.37316177,\n",
       "       159.88828169, 108.21196702, 160.40290761, 186.25790951,\n",
       "       188.69905355,  90.30020253, 125.06308601,  30.61703649,\n",
       "       283.17969241, 315.22866377, 264.89999179,  63.00389671,\n",
       "       209.74484513, 431.21343923, 173.00531657, 302.59880579,\n",
       "       174.52709647, 128.43305094, 101.61185232, 115.5111303 ,\n",
       "       126.73582294, 127.91397912, 466.6131053 , 218.35192561,\n",
       "       433.69380085, 121.49287985, 120.71887411, 265.55596892,\n",
       "       144.39243522, 353.49838502, 100.96293036,  66.39594089,\n",
       "       346.92680408,  96.32222081, 145.86388149, 486.46824476,\n",
       "       148.96917255, 211.42944828, 171.65890287, 454.22119504,\n",
       "       307.41078947, 190.87002995, 405.90709741, 156.95678772,\n",
       "       261.86466099, 257.58624724, 181.64071531, 181.5056861 ,\n",
       "       289.64229208,  65.79248348, 189.66309731, 216.629192  ,\n",
       "       237.57487988,  99.05464062, 170.12164879,  92.93109262,\n",
       "       150.07414776, 351.7051318 , 171.38724122, 416.80458944,\n",
       "       211.67327638, 103.10309502, 337.54968872, 209.5836106 ,\n",
       "       518.65804365,  94.99933132, 109.13272014,  40.04517165,\n",
       "       115.32807383, 264.91626444, 198.1890005 ,  78.21254108,\n",
       "       171.6147667 , 339.27822787, 137.68347507, 435.60560271,\n",
       "       129.59715097, 333.66326569, 124.54548172,  56.57598607,\n",
       "        60.62459092, 226.27979   , 191.41812385,  99.73106951,\n",
       "       125.21839504, 208.75325069, 133.81061471, 222.20895072,\n",
       "       398.72519236, 160.23726766, 261.75514772, 471.89771762,\n",
       "       241.63218938, 161.40108355, 316.12486145, 107.10126686,\n",
       "       402.49514294,  50.56776155, 392.85072247, 223.64120926,\n",
       "       337.19006031, 239.99195246, 393.1612529 , 245.08683539,\n",
       "       309.95689869, 175.56127437, 300.84427382, 308.93011378,\n",
       "        85.15655148, 166.79004727, 100.39845061, 157.30021598,\n",
       "       329.55548178, 290.05466561,  83.46267921, 129.13122387,\n",
       "       301.64756961, 146.90304467, 101.53914813, 287.98627747,\n",
       "        48.55887837,  87.1105866 , 180.70088925, 128.56389744,\n",
       "       115.84071332,  77.1591402 , 364.85640934, 473.59272273,\n",
       "        31.75947498, 193.68417354, 587.70538673, 193.85330319,\n",
       "       262.68880012, 267.14444155, 429.96809248,  94.37812683,\n",
       "       462.81569933, 102.21803692, 131.779764  , 365.97216001,\n",
       "       379.68155297, 169.25629029, 126.81855662, 185.79245549,\n",
       "       147.86270376, 136.26952796, 321.60990509, 365.41428411,\n",
       "       139.2531602 , 153.09959735, 223.34067319, 236.77464804,\n",
       "       272.51542916, 264.30971069, 183.26255939, 146.23964287,\n",
       "       129.59715097, 504.78490327, 150.38468459, 216.69745917,\n",
       "       422.71233048, 362.3098529 , 768.32689842, 259.96708087,\n",
       "       107.62730413, 120.39590059, 239.37029049, 162.36101817,\n",
       "       176.33023881, 502.13978718, -22.57533914, 222.48241769,\n",
       "       129.59715097, 116.14966956, 279.10396975, 165.84001872,\n",
       "       174.99154812, 105.99350759,  58.5853298 , 326.67132339,\n",
       "        71.68062511, 133.88370251, 199.16252403, 204.0140405 ,\n",
       "        66.08564456, 212.40251501,  52.41740115, 128.50998774,\n",
       "       228.24592096, 335.39630347, 136.58014603, 202.3042207 ,\n",
       "       231.05322261, 173.53386401, 273.08514159,  98.44356354,\n",
       "       161.08017049,  94.50332508, 166.84046425, 103.47927934,\n",
       "       187.66179787, 182.98371224, 231.09263821, 114.16531236,\n",
       "        87.18030824, 304.10521505, 175.55910786,  63.94387244,\n",
       "       123.18573672, 139.81194555,   3.07704719, 320.74874676,\n",
       "       148.23138516, 388.20803983,  70.32742662, 298.4001859 ,\n",
       "       127.29477748, 418.26555826, 214.55200647, 105.81073139,\n",
       "       141.66644107, 238.74468542, 391.97342103, 139.09785116,\n",
       "        -3.02640177, 392.56637438, 159.33118211, 158.87259111,\n",
       "       184.59431919, 225.7457943 , 184.98489245, 242.408081  ,\n",
       "       103.66889574, 320.30025791, 190.40788642, 162.82438677,\n",
       "       175.9189726 , 161.33725697, 197.99501481, 191.51888046,\n",
       "       166.54248648, 413.5862045 , 513.84911594, 156.29696576,\n",
       "       108.3101092 , 195.65488448, 121.9482009 , 230.92985824,\n",
       "       187.06809639, 118.99739477, 303.79745026,  35.35682584,\n",
       "       104.52344646, 109.6058342 , 270.94978442, 198.54579004,\n",
       "       230.92985824, 157.31436746, 231.02481451, 132.7116182 ,\n",
       "       181.28802182,  59.98455952,  79.48807607, 193.26365063,\n",
       "       212.78287855, 163.7844999 , 317.24115569, 396.4785587 ,\n",
       "       307.11095908, 203.49445362, 216.96772185, 147.65350335,\n",
       "       199.80020452,   4.04089635, 509.09963675, 253.65924243,\n",
       "       315.3003023 , 295.06939872, 643.55171204,  38.70874007,\n",
       "       208.9137767 , 412.00207103,  58.80464529,  96.11115916,\n",
       "       234.19788146, 262.02305686, 100.13491767, 188.77890618,\n",
       "       144.29952863,  97.55609643, 202.45267542, 231.17443743,\n",
       "       232.50652621, 335.69640307, 158.32298331, 295.86137314,\n",
       "       415.08861663, 217.9277065 , 237.38913646, 305.86848681,\n",
       "        82.04971281, 105.7136184 ,  92.24715448,  62.86311008,\n",
       "       132.50942016, 232.85310522, 106.02383794, 272.20481109,\n",
       "       359.89814354,  88.22214574,  89.9720477 , 283.84631952,\n",
       "       153.09959735, 345.9465154 , 170.69493646, 328.01886406,\n",
       "       294.52560117, 226.23073053, 353.44265523, 423.02806008,\n",
       "       101.8545068 ,  85.10311149, 197.91975266, 166.66050838,\n",
       "       109.09257046, 175.92432618, 345.34073258, 274.73776387,\n",
       "       181.3965348 , 140.41540574,  73.20775155, 157.14490695,\n",
       "       200.18732945, 151.59925066,  21.22523702, 284.80898724,\n",
       "       194.9617472 ])"
      ]
     },
     "execution_count": 100,
     "metadata": {},
     "output_type": "execute_result"
    }
   ],
   "source": [
    "y_predsk"
   ]
  },
  {
   "cell_type": "code",
   "execution_count": 101,
   "metadata": {},
   "outputs": [
    {
     "data": {
      "text/plain": [
       "4327    200.0\n",
       "2326    140.0\n",
       "3190    780.0\n",
       "1900    499.0\n",
       "1622     93.0\n",
       "Name: price, dtype: float64"
      ]
     },
     "execution_count": 101,
     "metadata": {},
     "output_type": "execute_result"
    }
   ],
   "source": [
    "y_test.head()"
   ]
  },
  {
   "cell_type": "code",
   "execution_count": 102,
   "metadata": {},
   "outputs": [
    {
     "name": "stdout",
     "output_type": "stream",
     "text": [
      "(3729,) (3729, 50)\n"
     ]
    }
   ],
   "source": [
    "print( y_train.shape, X_train.shape)"
   ]
  },
  {
   "cell_type": "code",
   "execution_count": 103,
   "metadata": {},
   "outputs": [],
   "source": [
    "listd_insig_cols = ['host_identity_verified','bed_type','guests_included','room_type_pvt','amentcnt',]"
   ]
  },
  {
   "cell_type": "code",
   "execution_count": 104,
   "metadata": {},
   "outputs": [
    {
     "name": "stdout",
     "output_type": "stream",
     "text": [
      "                            OLS Regression Results                            \n",
      "==============================================================================\n",
      "Dep. Variable:                  price   R-squared:                       0.267\n",
      "Model:                            OLS   Adj. R-squared:                  0.257\n",
      "Method:                 Least Squares   F-statistic:                     27.34\n",
      "Date:                Tue, 07 Aug 2018   Prob (F-statistic):          1.32e-208\n",
      "Time:                        04:26:02   Log-Likelihood:                -25663.\n",
      "No. Observations:                3729   AIC:                         5.143e+04\n",
      "Df Residuals:                    3679   BIC:                         5.174e+04\n",
      "Df Model:                          49                                         \n",
      "Covariance Type:            nonrobust                                         \n",
      "==========================================================================================\n",
      "                             coef    std err          t      P>|t|      [0.025      0.975]\n",
      "------------------------------------------------------------------------------------------\n",
      "const                    -39.7574    245.507     -0.162      0.871    -521.100     441.585\n",
      "host_is_superhost         14.1185      8.547      1.652      0.099      -2.640      30.876\n",
      "host_identity_verified    18.0921      8.618      2.099      0.036       1.195      34.989\n",
      "accommodates              20.1090      4.329      4.646      0.000      11.622      28.596\n",
      "bathrooms                 51.0654      8.116      6.292      0.000      35.153      66.978\n",
      "bedrooms                  49.2445      7.837      6.283      0.000      33.878      64.611\n",
      "beds                      -9.9402      6.117     -1.625      0.104     -21.934       2.054\n",
      "bed_type                  -7.0889     32.301     -0.219      0.826     -70.419      56.241\n",
      "cleaning_fee               0.5683      0.082      6.959      0.000       0.408       0.728\n",
      "guests_included            3.0719      3.393      0.905      0.365      -3.581       9.725\n",
      "room_type_full            69.6078     38.749      1.796      0.073      -6.364     145.580\n",
      "room_type_pvt             33.5077     38.045      0.881      0.379     -41.083     108.099\n",
      "amentcnt                  -0.1553      0.402     -0.386      0.700      -0.944       0.634\n",
      "min_night_stay_long      120.2511     56.715      2.120      0.034       9.055     231.447\n",
      "min_night_stay_mid       -46.4732     11.042     -4.209      0.000     -68.122     -24.824\n",
      "ppt_condensed_apt        -43.0685     34.118     -1.262      0.207    -109.960      23.823\n",
      "ppt_condensed_aptspl     -57.7371     48.630     -1.187      0.235    -153.082      37.608\n",
      "ppt_condensed_auto       -55.1636    126.201     -0.437      0.662    -302.595     192.268\n",
      "ppt_condensed_hostel     -87.0795     55.246     -1.576      0.115    -195.396      21.237\n",
      "ppt_condensed_hotel       -4.8778     41.193     -0.118      0.906     -85.642      75.886\n",
      "ppt_condensed_house      -25.5707     34.898     -0.733      0.464     -93.992      42.850\n",
      "ppt_condensed_other      -45.4948     67.561     -0.673      0.501    -177.955      86.965\n",
      "zipcode_94014.0          -54.3850    242.371     -0.224      0.822    -529.580     420.810\n",
      "zipcode_94015.0            0.9846    291.126      0.003      0.997    -569.800     571.769\n",
      "zipcode_94102.0           49.9666    238.873      0.209      0.834    -418.369     518.303\n",
      "zipcode_94103.0           44.5147    238.614      0.187      0.852    -423.314     512.344\n",
      "zipcode_94104.0          352.4344    254.688      1.384      0.167    -146.908     851.777\n",
      "zipcode_94105.0           61.8437    247.640      0.250      0.803    -423.682     547.369\n",
      "zipcode_94107.0            0.9170    238.594      0.004      0.997    -466.873     468.707\n",
      "zipcode_94108.0           96.8915    239.554      0.404      0.686    -372.780     566.563\n",
      "zipcode_94109.0           73.9656    238.543      0.310      0.757    -393.724     541.655\n",
      "zipcode_94110.0          -24.6448    238.074     -0.104      0.918    -491.415     442.126\n",
      "zipcode_94111.0           70.7438    248.613      0.285      0.776    -416.689     558.177\n",
      "zipcode_94112.0          -61.8324    238.464     -0.259      0.795    -529.368     405.703\n",
      "zipcode_94114.0           24.4118    238.229      0.102      0.918    -442.661     491.485\n",
      "zipcode_94115.0           54.3619    238.604      0.228      0.820    -413.448     522.172\n",
      "zipcode_94116.0            7.8352    238.976      0.033      0.974    -460.703     476.373\n",
      "zipcode_94117.0            4.8177    238.267      0.020      0.984    -462.331     471.967\n",
      "zipcode_94118.0          -12.1775    238.633     -0.051      0.959    -480.044     455.689\n",
      "zipcode_94121.0          -31.7905    238.978     -0.133      0.894    -500.333     436.752\n",
      "zipcode_94122.0          -48.8235    238.539     -0.205      0.838    -516.506     418.859\n",
      "zipcode_94123.0           81.6474    238.997      0.342      0.733    -386.931     550.226\n",
      "zipcode_94124.0          -73.6046    239.326     -0.308      0.758    -542.829     395.619\n",
      "zipcode_94127.0          -41.7244    239.472     -0.174      0.862    -511.235     427.786\n",
      "zipcode_94129.0            3.1683    336.079      0.009      0.992    -655.751     662.087\n",
      "zipcode_94131.0          -12.8502    238.536     -0.054      0.957    -480.526     454.826\n",
      "zipcode_94132.0          -62.2321    240.956     -0.258      0.796    -534.654     410.189\n",
      "zipcode_94133.0          139.6056    238.886      0.584      0.559    -328.756     607.967\n",
      "zipcode_94134.0          -64.9504    239.785     -0.271      0.787    -535.076     405.175\n",
      "zipcode_94158.0           61.7252    252.186      0.245      0.807    -432.713     556.163\n",
      "==============================================================================\n",
      "Omnibus:                     8903.100   Durbin-Watson:                   1.989\n",
      "Prob(Omnibus):                  0.000   Jarque-Bera (JB):         99064003.365\n",
      "Skew:                          23.961   Prob(JB):                         0.00\n",
      "Kurtosis:                     800.047   Cond. No.                     3.51e+04\n",
      "==============================================================================\n",
      "\n",
      "Warnings:\n",
      "[1] Standard Errors assume that the covariance matrix of the errors is correctly specified.\n",
      "[2] The condition number is large, 3.51e+04. This might indicate that there are\n",
      "strong multicollinearity or other numerical problems.\n"
     ]
    }
   ],
   "source": [
    "import statsmodels.api as sm\n",
    "import numpy as np\n",
    "model = sm.OLS(y_train, X_train)\n",
    "results = model.fit()\n",
    "print(results.summary())"
   ]
  },
  {
   "cell_type": "code",
   "execution_count": 105,
   "metadata": {},
   "outputs": [
    {
     "name": "stdout",
     "output_type": "stream",
     "text": [
      "354.88073232206807\n"
     ]
    },
    {
     "data": {
      "text/plain": [
       "<matplotlib.axes._subplots.AxesSubplot at 0x7f5f66c42748>"
      ]
     },
     "execution_count": 105,
     "metadata": {},
     "output_type": "execute_result"
    },
    {
     "data": {
      "image/png": "[encoded data removed]",
      "text/plain": [
       "<Figure size 432x288 with 1 Axes>"
      ]
     },
     "metadata": {},
     "output_type": "display_data"
    }
   ],
   "source": [
    "y_resdsk=(y_predsk-y_test)\n",
    "print(y_resdsk.max())\n",
    "y_resdsk.hist(bins =200)"
   ]
  },
  {
   "cell_type": "code",
   "execution_count": 106,
   "metadata": {},
   "outputs": [
    {
     "name": "stdout",
     "output_type": "stream",
     "text": [
      "548.1480034878823\n"
     ]
    },
    {
     "data": {
      "text/plain": [
       "<matplotlib.axes._subplots.AxesSubplot at 0x7f5f66e9b240>"
      ]
     },
     "execution_count": 106,
     "metadata": {},
     "output_type": "execute_result"
    },
    {
     "data": {
      "image/png": "[encoded data removed]",
      "text/plain": [
       "<Figure size 432x288 with 1 Axes>"
      ]
     },
     "metadata": {},
     "output_type": "display_data"
    }
   ],
   "source": [
    "y_resdpct=(y_predsk-y_test)*100/(y_test+1)\n",
    "print(y_resdpct.max())\n",
    "y_resdpct.hist(bins =200)"
   ]
  },
  {
   "cell_type": "code",
   "execution_count": 107,
   "metadata": {},
   "outputs": [
    {
     "data": {
      "text/html": [
       "<div>\n",
       "<style scoped>\n",
       "    .dataframe tbody tr th:only-of-type {\n",
       "        vertical-align: middle;\n",
       "    }\n",
       "\n",
       "    .dataframe tbody tr th {\n",
       "        vertical-align: top;\n",
       "    }\n",
       "\n",
       "    .dataframe thead th {\n",
       "        text-align: right;\n",
       "    }\n",
       "</style>\n",
       "<table border=\"1\" class=\"dataframe\">\n",
       "  <thead>\n",
       "    <tr style=\"text-align: right;\">\n",
       "      <th></th>\n",
       "      <th>const</th>\n",
       "      <th>host_is_superhost</th>\n",
       "      <th>host_identity_verified</th>\n",
       "      <th>accommodates</th>\n",
       "      <th>bathrooms</th>\n",
       "      <th>bedrooms</th>\n",
       "      <th>beds</th>\n",
       "      <th>bed_type</th>\n",
       "      <th>price</th>\n",
       "      <th>cleaning_fee</th>\n",
       "      <th>...</th>\n",
       "      <th>zipcode_94122.0</th>\n",
       "      <th>zipcode_94123.0</th>\n",
       "      <th>zipcode_94124.0</th>\n",
       "      <th>zipcode_94127.0</th>\n",
       "      <th>zipcode_94129.0</th>\n",
       "      <th>zipcode_94131.0</th>\n",
       "      <th>zipcode_94132.0</th>\n",
       "      <th>zipcode_94133.0</th>\n",
       "      <th>zipcode_94134.0</th>\n",
       "      <th>zipcode_94158.0</th>\n",
       "    </tr>\n",
       "  </thead>\n",
       "  <tbody>\n",
       "    <tr>\n",
       "      <th>count</th>\n",
       "      <td>4662.0</td>\n",
       "      <td>4662.000000</td>\n",
       "      <td>4662.000000</td>\n",
       "      <td>4662.000000</td>\n",
       "      <td>4662.000000</td>\n",
       "      <td>4662.000000</td>\n",
       "      <td>4662.000000</td>\n",
       "      <td>4662.000000</td>\n",
       "      <td>4662.000000</td>\n",
       "      <td>4662.000000</td>\n",
       "      <td>...</td>\n",
       "      <td>4662.000000</td>\n",
       "      <td>4662.000000</td>\n",
       "      <td>4662.000000</td>\n",
       "      <td>4662.000000</td>\n",
       "      <td>4662.000000</td>\n",
       "      <td>4662.000000</td>\n",
       "      <td>4662.000000</td>\n",
       "      <td>4662.000000</td>\n",
       "      <td>4662.000000</td>\n",
       "      <td>4662.000000</td>\n",
       "    </tr>\n",
       "    <tr>\n",
       "      <th>mean</th>\n",
       "      <td>1.0</td>\n",
       "      <td>0.433719</td>\n",
       "      <td>0.648220</td>\n",
       "      <td>3.341699</td>\n",
       "      <td>1.286251</td>\n",
       "      <td>1.390605</td>\n",
       "      <td>1.827971</td>\n",
       "      <td>0.985628</td>\n",
       "      <td>218.081296</td>\n",
       "      <td>78.284642</td>\n",
       "      <td>...</td>\n",
       "      <td>0.048263</td>\n",
       "      <td>0.028314</td>\n",
       "      <td>0.021450</td>\n",
       "      <td>0.020163</td>\n",
       "      <td>0.000215</td>\n",
       "      <td>0.047619</td>\n",
       "      <td>0.010296</td>\n",
       "      <td>0.033677</td>\n",
       "      <td>0.016517</td>\n",
       "      <td>0.002574</td>\n",
       "    </tr>\n",
       "    <tr>\n",
       "      <th>std</th>\n",
       "      <td>0.0</td>\n",
       "      <td>0.495641</td>\n",
       "      <td>0.477577</td>\n",
       "      <td>1.995741</td>\n",
       "      <td>0.627235</td>\n",
       "      <td>0.941283</td>\n",
       "      <td>1.227591</td>\n",
       "      <td>0.119029</td>\n",
       "      <td>265.054814</td>\n",
       "      <td>67.450150</td>\n",
       "      <td>...</td>\n",
       "      <td>0.214343</td>\n",
       "      <td>0.165886</td>\n",
       "      <td>0.144895</td>\n",
       "      <td>0.140573</td>\n",
       "      <td>0.014646</td>\n",
       "      <td>0.212982</td>\n",
       "      <td>0.100956</td>\n",
       "      <td>0.180415</td>\n",
       "      <td>0.127465</td>\n",
       "      <td>0.050675</td>\n",
       "    </tr>\n",
       "    <tr>\n",
       "      <th>min</th>\n",
       "      <td>1.0</td>\n",
       "      <td>0.000000</td>\n",
       "      <td>0.000000</td>\n",
       "      <td>1.000000</td>\n",
       "      <td>0.000000</td>\n",
       "      <td>0.000000</td>\n",
       "      <td>0.000000</td>\n",
       "      <td>0.000000</td>\n",
       "      <td>10.000000</td>\n",
       "      <td>0.000000</td>\n",
       "      <td>...</td>\n",
       "      <td>0.000000</td>\n",
       "      <td>0.000000</td>\n",
       "      <td>0.000000</td>\n",
       "      <td>0.000000</td>\n",
       "      <td>0.000000</td>\n",
       "      <td>0.000000</td>\n",
       "      <td>0.000000</td>\n",
       "      <td>0.000000</td>\n",
       "      <td>0.000000</td>\n",
       "      <td>0.000000</td>\n",
       "    </tr>\n",
       "    <tr>\n",
       "      <th>25%</th>\n",
       "      <td>1.0</td>\n",
       "      <td>0.000000</td>\n",
       "      <td>0.000000</td>\n",
       "      <td>2.000000</td>\n",
       "      <td>1.000000</td>\n",
       "      <td>1.000000</td>\n",
       "      <td>1.000000</td>\n",
       "      <td>1.000000</td>\n",
       "      <td>100.000000</td>\n",
       "      <td>30.000000</td>\n",
       "      <td>...</td>\n",
       "      <td>0.000000</td>\n",
       "      <td>0.000000</td>\n",
       "      <td>0.000000</td>\n",
       "      <td>0.000000</td>\n",
       "      <td>0.000000</td>\n",
       "      <td>0.000000</td>\n",
       "      <td>0.000000</td>\n",
       "      <td>0.000000</td>\n",
       "      <td>0.000000</td>\n",
       "      <td>0.000000</td>\n",
       "    </tr>\n",
       "    <tr>\n",
       "      <th>50%</th>\n",
       "      <td>1.0</td>\n",
       "      <td>0.000000</td>\n",
       "      <td>1.000000</td>\n",
       "      <td>2.000000</td>\n",
       "      <td>1.000000</td>\n",
       "      <td>1.000000</td>\n",
       "      <td>1.000000</td>\n",
       "      <td>1.000000</td>\n",
       "      <td>155.000000</td>\n",
       "      <td>67.500000</td>\n",
       "      <td>...</td>\n",
       "      <td>0.000000</td>\n",
       "      <td>0.000000</td>\n",
       "      <td>0.000000</td>\n",
       "      <td>0.000000</td>\n",
       "      <td>0.000000</td>\n",
       "      <td>0.000000</td>\n",
       "      <td>0.000000</td>\n",
       "      <td>0.000000</td>\n",
       "      <td>0.000000</td>\n",
       "      <td>0.000000</td>\n",
       "    </tr>\n",
       "    <tr>\n",
       "      <th>75%</th>\n",
       "      <td>1.0</td>\n",
       "      <td>1.000000</td>\n",
       "      <td>1.000000</td>\n",
       "      <td>4.000000</td>\n",
       "      <td>1.500000</td>\n",
       "      <td>2.000000</td>\n",
       "      <td>2.000000</td>\n",
       "      <td>1.000000</td>\n",
       "      <td>250.000000</td>\n",
       "      <td>100.000000</td>\n",
       "      <td>...</td>\n",
       "      <td>0.000000</td>\n",
       "      <td>0.000000</td>\n",
       "      <td>0.000000</td>\n",
       "      <td>0.000000</td>\n",
       "      <td>0.000000</td>\n",
       "      <td>0.000000</td>\n",
       "      <td>0.000000</td>\n",
       "      <td>0.000000</td>\n",
       "      <td>0.000000</td>\n",
       "      <td>0.000000</td>\n",
       "    </tr>\n",
       "    <tr>\n",
       "      <th>max</th>\n",
       "      <td>1.0</td>\n",
       "      <td>1.000000</td>\n",
       "      <td>1.000000</td>\n",
       "      <td>16.000000</td>\n",
       "      <td>7.000000</td>\n",
       "      <td>7.000000</td>\n",
       "      <td>14.000000</td>\n",
       "      <td>1.000000</td>\n",
       "      <td>9000.000000</td>\n",
       "      <td>700.000000</td>\n",
       "      <td>...</td>\n",
       "      <td>1.000000</td>\n",
       "      <td>1.000000</td>\n",
       "      <td>1.000000</td>\n",
       "      <td>1.000000</td>\n",
       "      <td>1.000000</td>\n",
       "      <td>1.000000</td>\n",
       "      <td>1.000000</td>\n",
       "      <td>1.000000</td>\n",
       "      <td>1.000000</td>\n",
       "      <td>1.000000</td>\n",
       "    </tr>\n",
       "  </tbody>\n",
       "</table>\n",
       "<p>8 rows × 51 columns</p>\n",
       "</div>"
      ],
      "text/plain": [
       "        const  host_is_superhost  host_identity_verified  accommodates  \\\n",
       "count  4662.0        4662.000000             4662.000000   4662.000000   \n",
       "mean      1.0           0.433719                0.648220      3.341699   \n",
       "std       0.0           0.495641                0.477577      1.995741   \n",
       "min       1.0           0.000000                0.000000      1.000000   \n",
       "25%       1.0           0.000000                0.000000      2.000000   \n",
       "50%       1.0           0.000000                1.000000      2.000000   \n",
       "75%       1.0           1.000000                1.000000      4.000000   \n",
       "max       1.0           1.000000                1.000000     16.000000   \n",
       "\n",
       "         bathrooms     bedrooms         beds     bed_type        price  \\\n",
       "count  4662.000000  4662.000000  4662.000000  4662.000000  4662.000000   \n",
       "mean      1.286251     1.390605     1.827971     0.985628   218.081296   \n",
       "std       0.627235     0.941283     1.227591     0.119029   265.054814   \n",
       "min       0.000000     0.000000     0.000000     0.000000    10.000000   \n",
       "25%       1.000000     1.000000     1.000000     1.000000   100.000000   \n",
       "50%       1.000000     1.000000     1.000000     1.000000   155.000000   \n",
       "75%       1.500000     2.000000     2.000000     1.000000   250.000000   \n",
       "max       7.000000     7.000000    14.000000     1.000000  9000.000000   \n",
       "\n",
       "       cleaning_fee       ...         zipcode_94122.0  zipcode_94123.0  \\\n",
       "count   4662.000000       ...             4662.000000      4662.000000   \n",
       "mean      78.284642       ...                0.048263         0.028314   \n",
       "std       67.450150       ...                0.214343         0.165886   \n",
       "min        0.000000       ...                0.000000         0.000000   \n",
       "25%       30.000000       ...                0.000000         0.000000   \n",
       "50%       67.500000       ...                0.000000         0.000000   \n",
       "75%      100.000000       ...                0.000000         0.000000   \n",
       "max      700.000000       ...                1.000000         1.000000   \n",
       "\n",
       "       zipcode_94124.0  zipcode_94127.0  zipcode_94129.0  zipcode_94131.0  \\\n",
       "count      4662.000000      4662.000000      4662.000000      4662.000000   \n",
       "mean          0.021450         0.020163         0.000215         0.047619   \n",
       "std           0.144895         0.140573         0.014646         0.212982   \n",
       "min           0.000000         0.000000         0.000000         0.000000   \n",
       "25%           0.000000         0.000000         0.000000         0.000000   \n",
       "50%           0.000000         0.000000         0.000000         0.000000   \n",
       "75%           0.000000         0.000000         0.000000         0.000000   \n",
       "max           1.000000         1.000000         1.000000         1.000000   \n",
       "\n",
       "       zipcode_94132.0  zipcode_94133.0  zipcode_94134.0  zipcode_94158.0  \n",
       "count      4662.000000      4662.000000      4662.000000      4662.000000  \n",
       "mean          0.010296         0.033677         0.016517         0.002574  \n",
       "std           0.100956         0.180415         0.127465         0.050675  \n",
       "min           0.000000         0.000000         0.000000         0.000000  \n",
       "25%           0.000000         0.000000         0.000000         0.000000  \n",
       "50%           0.000000         0.000000         0.000000         0.000000  \n",
       "75%           0.000000         0.000000         0.000000         0.000000  \n",
       "max           1.000000         1.000000         1.000000         1.000000  \n",
       "\n",
       "[8 rows x 51 columns]"
      ]
     },
     "execution_count": 107,
     "metadata": {},
     "output_type": "execute_result"
    }
   ],
   "source": [
    "dflreg.describe()"
   ]
  },
  {
   "cell_type": "code",
   "execution_count": 108,
   "metadata": {},
   "outputs": [
    {
     "data": {
      "image/png": "[encoded data removed]",
      "text/plain": [
       "<Figure size 432x288 with 56 Axes>"
      ]
     },
     "metadata": {},
     "output_type": "display_data"
    }
   ],
   "source": [
    "plt_cols = dflreg.columns\n",
    "ax = dflreg[plt_cols].hist(bins=10)\n",
    "plt.plot();"
   ]
  },
  {
   "cell_type": "code",
   "execution_count": 109,
   "metadata": {},
   "outputs": [
    {
     "data": {
      "image/png": "[encoded data removed]",
      "text/plain": [
       "<Figure size 432x288 with 1 Axes>"
      ]
     },
     "metadata": {},
     "output_type": "display_data"
    }
   ],
   "source": [
    "dflreg['price'][dflreg['price']<500].hist(bins=20);"
   ]
  },
  {
   "cell_type": "code",
   "execution_count": 110,
   "metadata": {},
   "outputs": [],
   "source": [
    "# dflreg['price'][[dflreg['price']>500 & dflreg['price']<2000]].hist(bins=20);"
   ]
  },
  {
   "cell_type": "code",
   "execution_count": 111,
   "metadata": {},
   "outputs": [
    {
     "data": {
      "text/html": [
       "<div>\n",
       "<style scoped>\n",
       "    .dataframe tbody tr th:only-of-type {\n",
       "        vertical-align: middle;\n",
       "    }\n",
       "\n",
       "    .dataframe tbody tr th {\n",
       "        vertical-align: top;\n",
       "    }\n",
       "\n",
       "    .dataframe thead th {\n",
       "        text-align: right;\n",
       "    }\n",
       "</style>\n",
       "<table border=\"1\" class=\"dataframe\">\n",
       "  <thead>\n",
       "    <tr style=\"text-align: right;\">\n",
       "      <th>beds</th>\n",
       "      <th>0.0</th>\n",
       "      <th>1.0</th>\n",
       "      <th>2.0</th>\n",
       "      <th>3.0</th>\n",
       "      <th>4.0</th>\n",
       "      <th>5.0</th>\n",
       "      <th>6.0</th>\n",
       "      <th>7.0</th>\n",
       "      <th>8.0</th>\n",
       "      <th>10.0</th>\n",
       "      <th>12.0</th>\n",
       "      <th>14.0</th>\n",
       "    </tr>\n",
       "    <tr>\n",
       "      <th>bedrooms</th>\n",
       "      <th></th>\n",
       "      <th></th>\n",
       "      <th></th>\n",
       "      <th></th>\n",
       "      <th></th>\n",
       "      <th></th>\n",
       "      <th></th>\n",
       "      <th></th>\n",
       "      <th></th>\n",
       "      <th></th>\n",
       "      <th></th>\n",
       "      <th></th>\n",
       "    </tr>\n",
       "  </thead>\n",
       "  <tbody>\n",
       "    <tr>\n",
       "      <th>0</th>\n",
       "      <td>5</td>\n",
       "      <td>317</td>\n",
       "      <td>128</td>\n",
       "      <td>8</td>\n",
       "      <td>3</td>\n",
       "      <td>0</td>\n",
       "      <td>0</td>\n",
       "      <td>0</td>\n",
       "      <td>0</td>\n",
       "      <td>0</td>\n",
       "      <td>0</td>\n",
       "      <td>0</td>\n",
       "    </tr>\n",
       "    <tr>\n",
       "      <th>1</th>\n",
       "      <td>30</td>\n",
       "      <td>2073</td>\n",
       "      <td>525</td>\n",
       "      <td>68</td>\n",
       "      <td>24</td>\n",
       "      <td>6</td>\n",
       "      <td>0</td>\n",
       "      <td>0</td>\n",
       "      <td>1</td>\n",
       "      <td>0</td>\n",
       "      <td>0</td>\n",
       "      <td>1</td>\n",
       "    </tr>\n",
       "    <tr>\n",
       "      <th>2</th>\n",
       "      <td>13</td>\n",
       "      <td>11</td>\n",
       "      <td>560</td>\n",
       "      <td>193</td>\n",
       "      <td>66</td>\n",
       "      <td>8</td>\n",
       "      <td>4</td>\n",
       "      <td>2</td>\n",
       "      <td>0</td>\n",
       "      <td>0</td>\n",
       "      <td>0</td>\n",
       "      <td>0</td>\n",
       "    </tr>\n",
       "    <tr>\n",
       "      <th>3</th>\n",
       "      <td>8</td>\n",
       "      <td>5</td>\n",
       "      <td>17</td>\n",
       "      <td>236</td>\n",
       "      <td>135</td>\n",
       "      <td>38</td>\n",
       "      <td>17</td>\n",
       "      <td>3</td>\n",
       "      <td>0</td>\n",
       "      <td>0</td>\n",
       "      <td>0</td>\n",
       "      <td>0</td>\n",
       "    </tr>\n",
       "    <tr>\n",
       "      <th>4</th>\n",
       "      <td>7</td>\n",
       "      <td>1</td>\n",
       "      <td>0</td>\n",
       "      <td>0</td>\n",
       "      <td>51</td>\n",
       "      <td>44</td>\n",
       "      <td>14</td>\n",
       "      <td>8</td>\n",
       "      <td>5</td>\n",
       "      <td>0</td>\n",
       "      <td>0</td>\n",
       "      <td>0</td>\n",
       "    </tr>\n",
       "    <tr>\n",
       "      <th>5</th>\n",
       "      <td>1</td>\n",
       "      <td>0</td>\n",
       "      <td>0</td>\n",
       "      <td>0</td>\n",
       "      <td>0</td>\n",
       "      <td>9</td>\n",
       "      <td>2</td>\n",
       "      <td>2</td>\n",
       "      <td>5</td>\n",
       "      <td>1</td>\n",
       "      <td>0</td>\n",
       "      <td>0</td>\n",
       "    </tr>\n",
       "    <tr>\n",
       "      <th>6</th>\n",
       "      <td>0</td>\n",
       "      <td>0</td>\n",
       "      <td>0</td>\n",
       "      <td>0</td>\n",
       "      <td>0</td>\n",
       "      <td>0</td>\n",
       "      <td>2</td>\n",
       "      <td>1</td>\n",
       "      <td>1</td>\n",
       "      <td>0</td>\n",
       "      <td>1</td>\n",
       "      <td>0</td>\n",
       "    </tr>\n",
       "    <tr>\n",
       "      <th>7</th>\n",
       "      <td>0</td>\n",
       "      <td>0</td>\n",
       "      <td>0</td>\n",
       "      <td>0</td>\n",
       "      <td>0</td>\n",
       "      <td>0</td>\n",
       "      <td>0</td>\n",
       "      <td>1</td>\n",
       "      <td>0</td>\n",
       "      <td>0</td>\n",
       "      <td>0</td>\n",
       "      <td>1</td>\n",
       "    </tr>\n",
       "  </tbody>\n",
       "</table>\n",
       "</div>"
      ],
      "text/plain": [
       "beds      0.0   1.0   2.0   3.0   4.0   5.0   6.0   7.0   8.0   10.0  12.0  \\\n",
       "bedrooms                                                                     \n",
       "0            5   317   128     8     3     0     0     0     0     0     0   \n",
       "1           30  2073   525    68    24     6     0     0     1     0     0   \n",
       "2           13    11   560   193    66     8     4     2     0     0     0   \n",
       "3            8     5    17   236   135    38    17     3     0     0     0   \n",
       "4            7     1     0     0    51    44    14     8     5     0     0   \n",
       "5            1     0     0     0     0     9     2     2     5     1     0   \n",
       "6            0     0     0     0     0     0     2     1     1     0     1   \n",
       "7            0     0     0     0     0     0     0     1     0     0     0   \n",
       "\n",
       "beds      14.0  \n",
       "bedrooms        \n",
       "0            0  \n",
       "1            1  \n",
       "2            0  \n",
       "3            0  \n",
       "4            0  \n",
       "5            0  \n",
       "6            0  \n",
       "7            1  "
      ]
     },
     "execution_count": 111,
     "metadata": {},
     "output_type": "execute_result"
    }
   ],
   "source": [
    "pd.crosstab(dflreg['bedrooms'], dflreg['beds'])"
   ]
  },
  {
   "cell_type": "code",
   "execution_count": 112,
   "metadata": {},
   "outputs": [],
   "source": [
    "from sklearn.tree import DecisionTreeRegressor, DecisionTreeClassifier\n",
    "from sklearn.metrics import accuracy_score, mean_squared_error\n",
    "from sklearn.metrics import accuracy_score, mean_squared_error\n",
    "from collections import Counter"
   ]
  },
  {
   "cell_type": "code",
   "execution_count": null,
   "metadata": {},
   "outputs": [],
   "source": []
  }
 ],
 "metadata": {
  "kernelspec": {
   "display_name": "Python 3",
   "language": "python",
   "name": "python3"
  },
  "language_info": {
   "codemirror_mode": {
    "name": "ipython",
    "version": 3
   },
   "file_extension": ".py",
   "mimetype": "text/x-python",
   "name": "python",
   "nbconvert_exporter": "python",
   "pygments_lexer": "ipython3",
   "version": "3.5.2"
  }
 },
 "nbformat": 4,
 "nbformat_minor": 2
}
