{
 "cells": [
  {
   "cell_type": "code",
   "execution_count": 1,
   "metadata": {},
   "outputs": [],
   "source": [
    "import numpy as np\n",
    "import pandas as pd\n",
    "import matplotlib.pyplot as plt\n",
    "%matplotlib inline\n",
    "\n",
    "from sklearn.model_selection import train_test_split\n",
    "from sklearn import datasets, linear_model\n",
    "from sklearn.metrics import  mean_squared_error, r2_score\n",
    "\n",
    "import statsmodels.api as sm"
   ]
  },
  {
   "cell_type": "code",
   "execution_count": 3,
   "metadata": {},
   "outputs": [],
   "source": [
    "cal = pd.read_csv('calendar.csv.gz')\n",
    "listd = pd.read_csv('listings.csv.gz')\n",
    "lists = pd.read_csv('listings.csv')\n",
    "revs = pd.read_csv('reviews.csv.gz')\n",
    "nhood = pd.read_csv('neighbourhoods.csv')\n",
    "purelst = pd.read_csv('listings.csv.gz')"
   ]
  },
  {
   "cell_type": "code",
   "execution_count": 4,
   "metadata": {},
   "outputs": [],
   "source": [
    "# pd.set_option('display.max_colu?mns', 96)\n",
    "pd.set_option('display.max_rows', 96)"
   ]
  },
  {
   "cell_type": "code",
   "execution_count": 5,
   "metadata": {},
   "outputs": [
    {
     "name": "stdout",
     "output_type": "stream",
     "text": [
      "96 12\n",
      "84 12\n"
     ]
    }
   ],
   "source": [
    "#CLEANUP incoming dataframes\n",
    "\n",
    "listd_drop_cols = ['scrape_id','last_scraped','experiences_offered','thumbnail_url','medium_url','xl_picture_url',\\\n",
    "                   'host_name','host_location','neighbourhood_group_cleansed','square_feet',\\\n",
    "                   'maximum_nights','is_business_travel_ready']\n",
    "\n",
    "# listd_numc_cols\n",
    "# listd_catz_cols\n",
    "\n",
    "print(len(listd.columns), len(listd_drop_cols))\n",
    "listd.drop(listd_drop_cols,axis=1,inplace=True )\n",
    "print(len(listd.columns), len(listd_drop_cols))"
   ]
  },
  {
   "cell_type": "markdown",
   "metadata": {},
   "source": [
    "# ALL TRANSFORMATIONS FUNCTIONS  : "
   ]
  },
  {
   "cell_type": "code",
   "execution_count": 6,
   "metadata": {},
   "outputs": [
    {
     "name": "stdout",
     "output_type": "stream",
     "text": [
      "2018-07-05 2019-07-04\n",
      "2009-05-03 2018-07-05\n"
     ]
    }
   ],
   "source": [
    "print(cal.date.min(),cal.date.max())\n",
    "print(revs.date.min(),revs.date.max())\n",
    "# print(lists.last_review.min(),lists.last_review.max())"
   ]
  },
  {
   "cell_type": "code",
   "execution_count": 7,
   "metadata": {},
   "outputs": [],
   "source": [
    "# tmp=listd.copy() # Create a new copy of the existing dataframe otherwise it is only by reference\n",
    "# tmp.head().T"
   ]
  },
  {
   "cell_type": "code",
   "execution_count": 8,
   "metadata": {},
   "outputs": [],
   "source": [
    "def price_xform(dframe,colname):\n",
    "    dframe[colname]=dframe[colname].str.replace('$','')\n",
    "    dframe[colname]=dframe[colname].str.replace(',','')\n",
    "    dframe[colname]=pd.to_numeric(dframe[colname])\n",
    "#     return(dframe)"
   ]
  },
  {
   "cell_type": "code",
   "execution_count": 9,
   "metadata": {},
   "outputs": [],
   "source": [
    "def cat_rename(dframe,colname,src,tgt):\n",
    "    dframe[colname]=dframe[colname].str.replace(src,tgt)\n",
    "#     dframe[colname]=dframe[colname].str.replace(',','')\n",
    "#     dframe[colname]=pd.to_numeric(dframe[colname])\n",
    "#     return(dframe)"
   ]
  },
  {
   "cell_type": "code",
   "execution_count": 10,
   "metadata": {},
   "outputs": [],
   "source": [
    "def create_dummies(dframe,colname):\n",
    "#     dfnew=dframe.copy()\n",
    "    dframe=pd.get_dummies(data=dframe, columns=[colname])# create dummies and drop the parent column\n",
    "    dframe.drop(columns=[dframe.columns[-1]],inplace=True) #dropped the last column from the add dummies\n",
    "    return dframe"
   ]
  },
  {
   "cell_type": "code",
   "execution_count": 11,
   "metadata": {},
   "outputs": [],
   "source": [
    "#Impute Null Rows based on the specified column\n",
    "def impute_nullrows(dframe,colname):\n",
    "    print(dframe[colname].isnull().sum())\n",
    "    dftmp=dframe[~dframe[colname].isnull()]   # remove nulls from one column\n",
    "    print(dftmp[colname].isnull().sum())\n",
    "    return dftmp\n"
   ]
  },
  {
   "cell_type": "markdown",
   "metadata": {},
   "source": [
    "# TRANSFORM ACTIONS"
   ]
  },
  {
   "cell_type": "code",
   "execution_count": 12,
   "metadata": {},
   "outputs": [],
   "source": [
    "# Convert to Booleans\n",
    "listd['host_is_superhost'] = listd.apply(lambda x:  x.host_is_superhost=='t', axis= 1)\n",
    "listd['host_has_profile_pic'] = listd.apply(lambda x:  x.host_has_profile_pic=='t', axis= 1)\n",
    "listd['host_identity_verified'] = listd.apply(lambda x:  x.host_identity_verified=='t', axis= 1)\n",
    "listd['instant_bookable'] = listd.apply(lambda x:  x.instant_bookable=='t', axis= 1)"
   ]
  },
  {
   "cell_type": "code",
   "execution_count": 13,
   "metadata": {},
   "outputs": [],
   "source": [
    "#Transform all the price columns to remove \"$\" and \",\"\n",
    "\n",
    "price_xform(listd,'price')\n",
    "price_xform(listd,'weekly_price')\n",
    "price_xform(listd,'monthly_price')\n",
    "price_xform(listd,'security_deposit')\n",
    "price_xform(listd,'cleaning_fee')\n",
    "price_xform(listd,'extra_people')"
   ]
  },
  {
   "cell_type": "code",
   "execution_count": 14,
   "metadata": {},
   "outputs": [],
   "source": [
    "#Transform the room_type . to create a meaningful name and create dummies\n",
    "\n",
    "cat_rename(listd,'room_type','Entire home/apt','full')\n",
    "cat_rename(listd,'room_type','Private room','pvt')\n",
    "cat_rename(listd,'room_type','Shared room','shared')\n",
    "\n",
    "listd=create_dummies(listd,'room_type')\n",
    "# listd=pd.get_dummies(data=listd, columns=['room_type'])  # create dummies and drop the parent column\n",
    "# listd.drop(columns=[listd.columns[-1]],inplace=True)  #dropped the last column from the add dummies"
   ]
  },
  {
   "cell_type": "code",
   "execution_count": 15,
   "metadata": {},
   "outputs": [],
   "source": [
    "#Transform the bed_type . to create a meaningful name and create dummies\n",
    "listd['bed_type'] = listd.apply(lambda x: x.bed_type=='Real Bed', axis=1)"
   ]
  },
  {
   "cell_type": "code",
   "execution_count": 16,
   "metadata": {},
   "outputs": [],
   "source": [
    "#Put a count on amenities,   IF it does not work, pick the most important feature\n",
    "listd['amentcnt'] =   listd.apply(lambda x: len(x.amenities.split(\",\")), axis=1)"
   ]
  },
  {
   "cell_type": "code",
   "execution_count": 17,
   "metadata": {},
   "outputs": [],
   "source": [
    "#!!! APPLY the same for the test data also\n",
    "#Impute the to remove the rows with no zipcode.  !!! APPLY the same for the test data also\n",
    "listd=listd[~listd['zipcode'].isnull()]   # remove nulls from one column\n",
    "\n",
    "\n"
   ]
  },
  {
   "cell_type": "code",
   "execution_count": 18,
   "metadata": {},
   "outputs": [],
   "source": [
    "#Impute the null values with meaningful data\n",
    "\n",
    "listd['cleaning_fee']=listd['cleaning_fee'].fillna(0)\n",
    "listd['review_scores_cleanliness'] = listd['review_scores_cleanliness'].fillna(listd.review_scores_cleanliness.mean())\n",
    "\n",
    "listd['review_scores_location'] = listd['review_scores_location'].fillna(listd.review_scores_location.mean())\n",
    "listd['review_scores_value'] = listd['review_scores_value'].fillna(listd.review_scores_value.mean())\n",
    "\n",
    "\n"
   ]
  },
  {
   "cell_type": "code",
   "execution_count": 19,
   "metadata": {},
   "outputs": [],
   "source": [
    "# mask1 = listd['minimum_nights']>7 \n",
    "# mask2 = listd['minimum_nights']<=32\n",
    "# maskmid=mask1 & mask2 \n",
    "# maskmid = (listd['minimum_nights']>7) & (listd['minimum_nights']<=32)\n",
    "# mask2\n",
    "# maskmid\n",
    "listd.loc[listd['minimum_nights']<=7,'min_night_stay'] = 'short'\n",
    "listd.loc[(listd['minimum_nights']>7) & (listd['minimum_nights']<=32),'min_night_stay'] = 'mid'\n",
    "listd.loc[listd['minimum_nights']>32,'min_night_stay'] = 'long'\n",
    "listd=create_dummies(listd,'min_night_stay')"
   ]
  },
  {
   "cell_type": "code",
   "execution_count": 20,
   "metadata": {},
   "outputs": [],
   "source": [
    "#Condensing the property_type to sub categories\n",
    "\n",
    "listd.loc[listd['property_type']=='Apartment', 'ppt_condensed'] = 'apt'\n",
    "listd.loc[listd['property_type']=='Condominium', 'ppt_condensed'] = 'apt'\n",
    "listd.loc[listd['property_type']=='Guest suite', 'ppt_condensed'] = 'apt'\n",
    "listd.loc[listd['property_type']=='Townhouse', 'ppt_condensed'] = 'apt'\n",
    "listd.loc[listd['property_type']=='Guesthouse', 'ppt_condensed'] = 'apt'\n",
    "listd.loc[listd['property_type']=='Tiny house', 'ppt_condensed'] = 'apt'\n",
    "listd.loc[listd['property_type']=='Timeshare', 'ppt_condensed'] = 'apt'\n",
    "\n",
    "listd.loc[listd['property_type']=='Serviced apartment', 'ppt_condensed'] = 'aptspl'\n",
    "listd.loc[listd['property_type']=='Bed and breakfast', 'ppt_condensed'] = 'aptspl'\n",
    "listd.loc[listd['property_type']=='Treehouse', 'ppt_condensed'] = 'aptspl'\n",
    "listd.loc[listd['property_type']=='Cabin', 'ppt_condensed'] = 'aptspl'\n",
    "\n",
    "listd.loc[listd['property_type']=='Bus', 'ppt_condensed'] = 'auto'\n",
    "listd.loc[listd['property_type']=='Boat', 'ppt_condensed'] = 'auto'\n",
    "listd.loc[listd['property_type']=='Camper/RV', 'ppt_condensed'] = 'auto'\n",
    "\n",
    "listd.loc[listd['property_type']=='Hostel', 'ppt_condensed'] = 'hostel'\n",
    "\n",
    "listd.loc[listd['property_type']=='Boutique hotel', 'ppt_condensed'] = 'hotel'\n",
    "listd.loc[listd['property_type']=='Hotel', 'ppt_condensed'] = 'hotel'\n",
    "listd.loc[listd['property_type']=='Resort', 'ppt_condensed'] = 'hotel'\n",
    "listd.loc[listd['property_type']=='Aparthotel', 'ppt_condensed'] = 'hotel'\n",
    "\n",
    "listd.loc[listd['property_type']=='House', 'ppt_condensed'] = 'house'\n",
    "listd.loc[listd['property_type']=='Bungalow', 'ppt_condensed'] = 'house'\n",
    "listd.loc[listd['property_type']=='Cottage', 'ppt_condensed'] = 'house'\n",
    "listd.loc[listd['property_type']=='Villa', 'ppt_condensed'] = 'house'\n",
    "\n",
    "listd.loc[listd['property_type']=='Other', 'ppt_condensed'] = 'other'\n",
    "\n",
    "listd.loc[listd['property_type']=='Loft', 'ppt_condensed'] = 'room'\n",
    "\n",
    "listd=create_dummies(listd,'ppt_condensed')"
   ]
  },
  {
   "cell_type": "code",
   "execution_count": 21,
   "metadata": {},
   "outputs": [],
   "source": [
    "listd=create_dummies(listd,'zipcode')"
   ]
  },
  {
   "cell_type": "code",
   "execution_count": 22,
   "metadata": {},
   "outputs": [],
   "source": [
    "#imputing some more missing values\n",
    "\n",
    "listd['cleaning_fee'].fillna(0, inplace=True)\n",
    "listd['beds'].fillna(0, inplace=True)\n",
    "listd['bathrooms'].fillna(0, inplace=True)"
   ]
  },
  {
   "cell_type": "code",
   "execution_count": 23,
   "metadata": {},
   "outputs": [],
   "source": [
    "# lreg_cols = ['price','weekly_price','cleaning_fee','accommodates','bedrooms','beds',\\\n",
    "#              'bathrooms','guests_included','zipcode']\n",
    "\n",
    "listd_drop_cols2=['id', 'listing_url', 'name', 'summary', 'space', 'description',\\\n",
    "       'neighborhood_overview', 'notes', 'transit', 'access', 'interaction',\\\n",
    "       'house_rules', 'picture_url', 'host_id', 'host_url', 'host_since',\\\n",
    "       'host_about', 'host_response_time', 'host_response_rate',\\\n",
    "       'host_acceptance_rate', 'host_thumbnail_url',\\\n",
    "       'host_picture_url', 'host_neighbourhood', 'host_listings_count',\\\n",
    "       'host_total_listings_count', 'host_verifications',\\\n",
    "       'host_has_profile_pic', 'street',\\\n",
    "       'neighbourhood', 'neighbourhood_cleansed', 'city', 'state',\\\n",
    "       'market', 'smart_location', 'country_code', 'country', 'latitude',\\\n",
    "       'longitude', 'is_location_exact', 'property_type',\\\n",
    "       'amenities',\\\n",
    "       'weekly_price', 'monthly_price', 'security_deposit',\\\n",
    "       'extra_people', 'minimum_nights', 'calendar_updated',\\\n",
    "       'has_availability', 'availability_30', 'availability_60',\\\n",
    "       'availability_90', 'availability_365', 'calendar_last_scraped',\\\n",
    "       'number_of_reviews', 'first_review', 'last_review',\\\n",
    "       'review_scores_rating', 'review_scores_accuracy',\\\n",
    "       'review_scores_cleanliness', 'review_scores_checkin',\\\n",
    "       'review_scores_communication', 'review_scores_location',\\\n",
    "       'review_scores_value', 'requires_license', 'license',\\\n",
    "       'jurisdiction_names', 'instant_bookable', 'cancellation_policy',\\\n",
    "       'require_guest_profile_picture', 'require_guest_phone_verification',\\\n",
    "       'calculated_host_listings_count', 'reviews_per_month']\n",
    "# listd_drop_cols2=['property_type','minimum_nights']\n",
    "listd.drop(listd_drop_cols2,axis=1,inplace=True )"
   ]
  },
  {
   "cell_type": "code",
   "execution_count": 24,
   "metadata": {},
   "outputs": [
    {
     "data": {
      "text/plain": [
       "Index(['host_is_superhost', 'host_identity_verified', 'accommodates',\n",
       "       'bathrooms', 'bedrooms', 'beds', 'bed_type', 'price', 'cleaning_fee',\n",
       "       'guests_included', 'room_type_full', 'room_type_pvt', 'amentcnt',\n",
       "       'min_night_stay_long', 'min_night_stay_mid', 'ppt_condensed_apt',\n",
       "       'ppt_condensed_aptspl', 'ppt_condensed_auto', 'ppt_condensed_hostel',\n",
       "       'ppt_condensed_hotel', 'ppt_condensed_house', 'ppt_condensed_other',\n",
       "       'zipcode_94014.0', 'zipcode_94015.0', 'zipcode_94102.0',\n",
       "       'zipcode_94103.0', 'zipcode_94104.0', 'zipcode_94105.0',\n",
       "       'zipcode_94107.0', 'zipcode_94108.0', 'zipcode_94109.0',\n",
       "       'zipcode_94110.0', 'zipcode_94111.0', 'zipcode_94112.0',\n",
       "       'zipcode_94114.0', 'zipcode_94115.0', 'zipcode_94116.0',\n",
       "       'zipcode_94117.0', 'zipcode_94118.0', 'zipcode_94121.0',\n",
       "       'zipcode_94122.0', 'zipcode_94123.0', 'zipcode_94124.0',\n",
       "       'zipcode_94127.0', 'zipcode_94129.0', 'zipcode_94131.0',\n",
       "       'zipcode_94132.0', 'zipcode_94133.0', 'zipcode_94134.0',\n",
       "       'zipcode_94158.0'],\n",
       "      dtype='object')"
      ]
     },
     "execution_count": 24,
     "metadata": {},
     "output_type": "execute_result"
    }
   ],
   "source": [
    "listd.columns"
   ]
  },
  {
   "cell_type": "code",
   "execution_count": 25,
   "metadata": {},
   "outputs": [
    {
     "data": {
      "text/plain": [
       "(4669, 50)"
      ]
     },
     "execution_count": 25,
     "metadata": {},
     "output_type": "execute_result"
    }
   ],
   "source": [
    "listd.shape"
   ]
  },
  {
   "cell_type": "code",
   "execution_count": null,
   "metadata": {},
   "outputs": [],
   "source": []
  },
  {
   "cell_type": "markdown",
   "metadata": {},
   "source": [
    "# EXTRA BEGIN"
   ]
  },
  {
   "cell_type": "markdown",
   "metadata": {},
   "source": [
    "# EXTRA END"
   ]
  },
  {
   "cell_type": "code",
   "execution_count": 26,
   "metadata": {},
   "outputs": [],
   "source": [
    "dfcorr=listd.corr()\n",
    "# dfcorr.price.sort_values()\n"
   ]
  },
  {
   "cell_type": "code",
   "execution_count": 27,
   "metadata": {},
   "outputs": [
    {
     "data": {
      "text/html": [
       "<div>\n",
       "<style scoped>\n",
       "    .dataframe tbody tr th:only-of-type {\n",
       "        vertical-align: middle;\n",
       "    }\n",
       "\n",
       "    .dataframe tbody tr th {\n",
       "        vertical-align: top;\n",
       "    }\n",
       "\n",
       "    .dataframe thead th {\n",
       "        text-align: right;\n",
       "    }\n",
       "</style>\n",
       "<table border=\"1\" class=\"dataframe\">\n",
       "  <thead>\n",
       "    <tr style=\"text-align: right;\">\n",
       "      <th></th>\n",
       "      <th>host_is_superhost</th>\n",
       "      <th>host_identity_verified</th>\n",
       "      <th>accommodates</th>\n",
       "      <th>bathrooms</th>\n",
       "      <th>bedrooms</th>\n",
       "      <th>beds</th>\n",
       "      <th>bed_type</th>\n",
       "      <th>price</th>\n",
       "      <th>cleaning_fee</th>\n",
       "      <th>guests_included</th>\n",
       "      <th>...</th>\n",
       "      <th>zipcode_94122.0</th>\n",
       "      <th>zipcode_94123.0</th>\n",
       "      <th>zipcode_94124.0</th>\n",
       "      <th>zipcode_94127.0</th>\n",
       "      <th>zipcode_94129.0</th>\n",
       "      <th>zipcode_94131.0</th>\n",
       "      <th>zipcode_94132.0</th>\n",
       "      <th>zipcode_94133.0</th>\n",
       "      <th>zipcode_94134.0</th>\n",
       "      <th>zipcode_94158.0</th>\n",
       "    </tr>\n",
       "  </thead>\n",
       "  <tbody>\n",
       "    <tr>\n",
       "      <th>host_is_superhost</th>\n",
       "      <td>1.000000</td>\n",
       "      <td>0.175279</td>\n",
       "      <td>-0.066246</td>\n",
       "      <td>-0.073244</td>\n",
       "      <td>-0.068472</td>\n",
       "      <td>-0.093756</td>\n",
       "      <td>-0.021697</td>\n",
       "      <td>-0.013003</td>\n",
       "      <td>-0.035032</td>\n",
       "      <td>0.004400</td>\n",
       "      <td>...</td>\n",
       "      <td>0.047449</td>\n",
       "      <td>-0.008327</td>\n",
       "      <td>-0.000980</td>\n",
       "      <td>0.016222</td>\n",
       "      <td>-0.012798</td>\n",
       "      <td>0.017896</td>\n",
       "      <td>-0.016272</td>\n",
       "      <td>-0.024038</td>\n",
       "      <td>-0.011413</td>\n",
       "      <td>-0.018776</td>\n",
       "    </tr>\n",
       "    <tr>\n",
       "      <th>host_identity_verified</th>\n",
       "      <td>0.175279</td>\n",
       "      <td>1.000000</td>\n",
       "      <td>0.022881</td>\n",
       "      <td>0.037757</td>\n",
       "      <td>0.083777</td>\n",
       "      <td>0.009490</td>\n",
       "      <td>-0.020877</td>\n",
       "      <td>0.057496</td>\n",
       "      <td>0.062758</td>\n",
       "      <td>0.043328</td>\n",
       "      <td>...</td>\n",
       "      <td>-0.004123</td>\n",
       "      <td>-0.026080</td>\n",
       "      <td>0.009686</td>\n",
       "      <td>0.000057</td>\n",
       "      <td>0.010770</td>\n",
       "      <td>0.014712</td>\n",
       "      <td>-0.018414</td>\n",
       "      <td>-0.054392</td>\n",
       "      <td>-0.035066</td>\n",
       "      <td>-0.024679</td>\n",
       "    </tr>\n",
       "    <tr>\n",
       "      <th>accommodates</th>\n",
       "      <td>-0.066246</td>\n",
       "      <td>0.022881</td>\n",
       "      <td>1.000000</td>\n",
       "      <td>0.480117</td>\n",
       "      <td>0.769191</td>\n",
       "      <td>0.834543</td>\n",
       "      <td>0.071087</td>\n",
       "      <td>0.434465</td>\n",
       "      <td>0.549483</td>\n",
       "      <td>0.559105</td>\n",
       "      <td>...</td>\n",
       "      <td>0.009334</td>\n",
       "      <td>0.023442</td>\n",
       "      <td>-0.009602</td>\n",
       "      <td>0.008477</td>\n",
       "      <td>0.019520</td>\n",
       "      <td>0.012934</td>\n",
       "      <td>-0.023730</td>\n",
       "      <td>0.001014</td>\n",
       "      <td>0.027702</td>\n",
       "      <td>0.004085</td>\n",
       "    </tr>\n",
       "    <tr>\n",
       "      <th>bathrooms</th>\n",
       "      <td>-0.073244</td>\n",
       "      <td>0.037757</td>\n",
       "      <td>0.480117</td>\n",
       "      <td>1.000000</td>\n",
       "      <td>0.554560</td>\n",
       "      <td>0.493639</td>\n",
       "      <td>0.036346</td>\n",
       "      <td>0.334613</td>\n",
       "      <td>0.376771</td>\n",
       "      <td>0.285099</td>\n",
       "      <td>...</td>\n",
       "      <td>-0.020438</td>\n",
       "      <td>0.037669</td>\n",
       "      <td>-0.014356</td>\n",
       "      <td>0.025868</td>\n",
       "      <td>-0.006674</td>\n",
       "      <td>0.002485</td>\n",
       "      <td>0.021276</td>\n",
       "      <td>-0.040516</td>\n",
       "      <td>-0.012096</td>\n",
       "      <td>0.003848</td>\n",
       "    </tr>\n",
       "    <tr>\n",
       "      <th>bedrooms</th>\n",
       "      <td>-0.068472</td>\n",
       "      <td>0.083777</td>\n",
       "      <td>0.769191</td>\n",
       "      <td>0.554560</td>\n",
       "      <td>1.000000</td>\n",
       "      <td>0.730330</td>\n",
       "      <td>0.046203</td>\n",
       "      <td>0.434527</td>\n",
       "      <td>0.581186</td>\n",
       "      <td>0.520352</td>\n",
       "      <td>...</td>\n",
       "      <td>-0.003992</td>\n",
       "      <td>0.037804</td>\n",
       "      <td>-0.023596</td>\n",
       "      <td>0.021624</td>\n",
       "      <td>0.009492</td>\n",
       "      <td>0.034685</td>\n",
       "      <td>-0.015172</td>\n",
       "      <td>0.012337</td>\n",
       "      <td>0.007095</td>\n",
       "      <td>0.001438</td>\n",
       "    </tr>\n",
       "  </tbody>\n",
       "</table>\n",
       "<p>5 rows × 50 columns</p>\n",
       "</div>"
      ],
      "text/plain": [
       "                        host_is_superhost  host_identity_verified  \\\n",
       "host_is_superhost                1.000000                0.175279   \n",
       "host_identity_verified           0.175279                1.000000   \n",
       "accommodates                    -0.066246                0.022881   \n",
       "bathrooms                       -0.073244                0.037757   \n",
       "bedrooms                        -0.068472                0.083777   \n",
       "\n",
       "                        accommodates  bathrooms  bedrooms      beds  bed_type  \\\n",
       "host_is_superhost          -0.066246  -0.073244 -0.068472 -0.093756 -0.021697   \n",
       "host_identity_verified      0.022881   0.037757  0.083777  0.009490 -0.020877   \n",
       "accommodates                1.000000   0.480117  0.769191  0.834543  0.071087   \n",
       "bathrooms                   0.480117   1.000000  0.554560  0.493639  0.036346   \n",
       "bedrooms                    0.769191   0.554560  1.000000  0.730330  0.046203   \n",
       "\n",
       "                           price  cleaning_fee  guests_included  \\\n",
       "host_is_superhost      -0.013003     -0.035032         0.004400   \n",
       "host_identity_verified  0.057496      0.062758         0.043328   \n",
       "accommodates            0.434465      0.549483         0.559105   \n",
       "bathrooms               0.334613      0.376771         0.285099   \n",
       "bedrooms                0.434527      0.581186         0.520352   \n",
       "\n",
       "                             ...         zipcode_94122.0  zipcode_94123.0  \\\n",
       "host_is_superhost            ...                0.047449        -0.008327   \n",
       "host_identity_verified       ...               -0.004123        -0.026080   \n",
       "accommodates                 ...                0.009334         0.023442   \n",
       "bathrooms                    ...               -0.020438         0.037669   \n",
       "bedrooms                     ...               -0.003992         0.037804   \n",
       "\n",
       "                        zipcode_94124.0  zipcode_94127.0  zipcode_94129.0  \\\n",
       "host_is_superhost             -0.000980         0.016222        -0.012798   \n",
       "host_identity_verified         0.009686         0.000057         0.010770   \n",
       "accommodates                  -0.009602         0.008477         0.019520   \n",
       "bathrooms                     -0.014356         0.025868        -0.006674   \n",
       "bedrooms                      -0.023596         0.021624         0.009492   \n",
       "\n",
       "                        zipcode_94131.0  zipcode_94132.0  zipcode_94133.0  \\\n",
       "host_is_superhost              0.017896        -0.016272        -0.024038   \n",
       "host_identity_verified         0.014712        -0.018414        -0.054392   \n",
       "accommodates                   0.012934        -0.023730         0.001014   \n",
       "bathrooms                      0.002485         0.021276        -0.040516   \n",
       "bedrooms                       0.034685        -0.015172         0.012337   \n",
       "\n",
       "                        zipcode_94134.0  zipcode_94158.0  \n",
       "host_is_superhost             -0.011413        -0.018776  \n",
       "host_identity_verified        -0.035066        -0.024679  \n",
       "accommodates                   0.027702         0.004085  \n",
       "bathrooms                     -0.012096         0.003848  \n",
       "bedrooms                       0.007095         0.001438  \n",
       "\n",
       "[5 rows x 50 columns]"
      ]
     },
     "execution_count": 27,
     "metadata": {},
     "output_type": "execute_result"
    }
   ],
   "source": [
    "dfcorr.head()"
   ]
  },
  {
   "cell_type": "code",
   "execution_count": 28,
   "metadata": {},
   "outputs": [
    {
     "data": {
      "text/plain": [
       "room_type_pvt            -0.255959\n",
       "zipcode_94112.0          -0.081166\n",
       "ppt_condensed_hostel     -0.065111\n",
       "zipcode_94124.0          -0.058205\n",
       "zipcode_94122.0          -0.046702\n",
       "zipcode_94132.0          -0.043868\n",
       "zipcode_94102.0          -0.043633\n",
       "zipcode_94134.0          -0.037803\n",
       "min_night_stay_mid       -0.037199\n",
       "zipcode_94111.0          -0.027050\n",
       "ppt_condensed_hotel      -0.026284\n",
       "zipcode_94110.0          -0.025305\n",
       "ppt_condensed_apt        -0.024605\n",
       "zipcode_94014.0          -0.022688\n",
       "ppt_condensed_aptspl     -0.020042\n",
       "zipcode_94127.0          -0.018272\n",
       "zipcode_94116.0          -0.015017\n",
       "ppt_condensed_auto       -0.014007\n",
       "ppt_condensed_other      -0.013178\n",
       "host_is_superhost        -0.013003\n",
       "zipcode_94015.0          -0.009239\n",
       "zipcode_94107.0           0.001773\n",
       "zipcode_94108.0           0.002104\n",
       "zipcode_94118.0           0.002555\n",
       "zipcode_94105.0           0.002993\n",
       "zipcode_94131.0           0.003971\n",
       "zipcode_94129.0           0.004267\n",
       "zipcode_94158.0           0.006018\n",
       "zipcode_94103.0           0.010894\n",
       "zipcode_94121.0           0.016871\n",
       "zipcode_94117.0           0.023547\n",
       "min_night_stay_long       0.025025\n",
       "bed_type                  0.031357\n",
       "zipcode_94109.0           0.032578\n",
       "zipcode_94114.0           0.048424\n",
       "host_identity_verified    0.057496\n",
       "ppt_condensed_house       0.058412\n",
       "zipcode_94104.0           0.059767\n",
       "zipcode_94115.0           0.060684\n",
       "zipcode_94133.0           0.065933\n",
       "zipcode_94123.0           0.078696\n",
       "amentcnt                  0.126587\n",
       "room_type_full            0.275109\n",
       "guests_included           0.280659\n",
       "bathrooms                 0.334613\n",
       "beds                      0.368995\n",
       "cleaning_fee              0.393309\n",
       "accommodates              0.434465\n",
       "bedrooms                  0.434527\n",
       "price                     1.000000\n",
       "Name: price, dtype: float64"
      ]
     },
     "execution_count": 28,
     "metadata": {},
     "output_type": "execute_result"
    }
   ],
   "source": [
    "dfcorr.price.sort_values()"
   ]
  },
  {
   "cell_type": "markdown",
   "metadata": {},
   "source": [
    "'''\n",
    "lreg_cols_master = ['square_feet','weekly_price','cleaning_fee','accommodates','bedrooms','beds','bathrooms','guests_included','zipcode']\n",
    "lreg_cols = ['price','weekly_price','cleaning_fee','accommodates','bedrooms','beds','bathrooms','guests_included','zipcode']\n",
    "'''"
   ]
  },
  {
   "cell_type": "code",
   "execution_count": null,
   "metadata": {},
   "outputs": [],
   "source": []
  },
  {
   "cell_type": "code",
   "execution_count": 29,
   "metadata": {},
   "outputs": [],
   "source": [
    "dflreg = listd.copy()\n",
    "dflreg = sm.add_constant(dflreg)"
   ]
  },
  {
   "cell_type": "code",
   "execution_count": 30,
   "metadata": {},
   "outputs": [],
   "source": [
    "dflreg['host_is_superhost'] = (dflreg['host_is_superhost'] == True).astype(int)\n",
    "dflreg['host_identity_verified'] = (dflreg['host_identity_verified'] == True).astype(int)\n",
    "dflreg['bed_type'] = (dflreg['bed_type'] == True).astype(int)"
   ]
  },
  {
   "cell_type": "code",
   "execution_count": 31,
   "metadata": {},
   "outputs": [
    {
     "data": {
      "text/html": [
       "<div>\n",
       "<style scoped>\n",
       "    .dataframe tbody tr th:only-of-type {\n",
       "        vertical-align: middle;\n",
       "    }\n",
       "\n",
       "    .dataframe tbody tr th {\n",
       "        vertical-align: top;\n",
       "    }\n",
       "\n",
       "    .dataframe thead th {\n",
       "        text-align: right;\n",
       "    }\n",
       "</style>\n",
       "<table border=\"1\" class=\"dataframe\">\n",
       "  <thead>\n",
       "    <tr style=\"text-align: right;\">\n",
       "      <th></th>\n",
       "      <th>price</th>\n",
       "      <th>cleaning_fee</th>\n",
       "      <th>guests_included</th>\n",
       "    </tr>\n",
       "  </thead>\n",
       "  <tbody>\n",
       "    <tr>\n",
       "      <th>0</th>\n",
       "      <td>170.0</td>\n",
       "      <td>100.0</td>\n",
       "      <td>2</td>\n",
       "    </tr>\n",
       "    <tr>\n",
       "      <th>1</th>\n",
       "      <td>235.0</td>\n",
       "      <td>100.0</td>\n",
       "      <td>2</td>\n",
       "    </tr>\n",
       "    <tr>\n",
       "      <th>2</th>\n",
       "      <td>65.0</td>\n",
       "      <td>50.0</td>\n",
       "      <td>1</td>\n",
       "    </tr>\n",
       "    <tr>\n",
       "      <th>3</th>\n",
       "      <td>63.0</td>\n",
       "      <td>30.0</td>\n",
       "      <td>1</td>\n",
       "    </tr>\n",
       "    <tr>\n",
       "      <th>4</th>\n",
       "      <td>65.0</td>\n",
       "      <td>50.0</td>\n",
       "      <td>1</td>\n",
       "    </tr>\n",
       "  </tbody>\n",
       "</table>\n",
       "</div>"
      ],
      "text/plain": [
       "   price  cleaning_fee  guests_included\n",
       "0  170.0         100.0                2\n",
       "1  235.0         100.0                2\n",
       "2   65.0          50.0                1\n",
       "3   63.0          30.0                1\n",
       "4   65.0          50.0                1"
      ]
     },
     "execution_count": 31,
     "metadata": {},
     "output_type": "execute_result"
    }
   ],
   "source": [
    "dfscatter=dflreg.loc[:,'price':'guests_included']\n",
    "dfscatter.head()"
   ]
  },
  {
   "cell_type": "code",
   "execution_count": 32,
   "metadata": {},
   "outputs": [
    {
     "data": {
      "image/png": "[encoded data removed]",
      "text/plain": [
       "<Figure size 1080x720 with 9 Axes>"
      ]
     },
     "metadata": {},
     "output_type": "display_data"
    }
   ],
   "source": [
    "pd.plotting.scatter_matrix(dfscatter,figsize=(15,10));"
   ]
  },
  {
   "cell_type": "code",
   "execution_count": 33,
   "metadata": {},
   "outputs": [],
   "source": [
    "y=dflreg.price\n",
    "X=dflreg.drop(['price'],axis=1)"
   ]
  },
  {
   "cell_type": "code",
   "execution_count": 34,
   "metadata": {},
   "outputs": [],
   "source": [
    "X_chunk, X_test, y_chunk, y_test = train_test_split(X, y, test_size=0.20, random_state=47)\n",
    "X_train, X_vald, y_train, y_vald = train_test_split(X_chunk, y_chunk, test_size=0.20, random_state=47)"
   ]
  },
  {
   "cell_type": "code",
   "execution_count": 35,
   "metadata": {},
   "outputs": [],
   "source": [
    "X_train = X_chunk.copy()\n",
    "y_train = y_chunk.copy()"
   ]
  },
  {
   "cell_type": "code",
   "execution_count": 36,
   "metadata": {},
   "outputs": [
    {
     "name": "stdout",
     "output_type": "stream",
     "text": [
      "(3735, 50) (747, 50) (934, 50)\n",
      "(3735,) (747,) (934,)\n"
     ]
    }
   ],
   "source": [
    "print(X_train.shape, X_vald.shape, X_test.shape)\n",
    "print(y_train.shape, y_vald.shape, y_test.shape)"
   ]
  },
  {
   "cell_type": "code",
   "execution_count": 37,
   "metadata": {},
   "outputs": [],
   "source": [
    "lmodel = linear_model.LinearRegression()\n",
    "lmodel.fit(X_train,y_train)\n",
    "y_predsk = lmodel.predict(X_test)"
   ]
  },
  {
   "cell_type": "code",
   "execution_count": 38,
   "metadata": {
    "scrolled": true
   },
   "outputs": [
    {
     "name": "stdout",
     "output_type": "stream",
     "text": [
      "Coefficients: \n",
      " [-1.02088874e-12  1.63632750e+01  1.61715344e+01  2.01002861e+01\n",
      "  5.15291644e+01  4.74595818e+01 -8.81628513e+00 -8.09067627e+00\n",
      "  6.89729370e-01  1.20963393e+00  6.41541190e+01  3.60197251e+01\n",
      " -1.26057117e-01  1.18488004e+02 -3.94820605e+01 -4.50832053e+01\n",
      " -5.98382312e+01 -9.06519069e+01 -9.83628877e+01 -1.11938285e+01\n",
      " -2.64162161e+01 -5.90616830e+01 -5.99132236e+01  3.26352224e+00\n",
      "  5.27637096e+01  3.34237993e+01  3.60366441e+02  8.03810372e+01\n",
      " -3.71498264e+00  1.04820175e+02  8.02839971e+01 -2.06717414e+01\n",
      "  9.57055520e+01 -5.94694917e+01  1.92640541e+01  4.40856791e+01\n",
      "  2.75208535e+00  9.49041088e+00 -2.00110274e+01  1.95511695e+01\n",
      " -5.12263107e+01  7.67816976e+01 -6.89120709e+01 -4.29479377e+01\n",
      "  6.18867248e+00 -1.24972282e+01 -6.63966297e+01  1.32668784e+02\n",
      " -6.87850612e+01  4.83632016e+01]\n"
     ]
    }
   ],
   "source": [
    "print('Coefficients: \\n', lmodel.coef_)"
   ]
  },
  {
   "cell_type": "code",
   "execution_count": 39,
   "metadata": {},
   "outputs": [
    {
     "data": {
      "text/plain": [
       "(934,)"
      ]
     },
     "execution_count": 39,
     "metadata": {},
     "output_type": "execute_result"
    }
   ],
   "source": [
    "y_predsk.shape"
   ]
  },
  {
   "cell_type": "code",
   "execution_count": 40,
   "metadata": {},
   "outputs": [],
   "source": [
    "from sklearn.utils import check_array\n",
    "import numpy as np\n",
    "def mse_prop(y_true, y_pred): \n",
    "\n",
    "\n",
    "    return (np.mean(np.abs((y_true - y_pred)**2 / (y_true+1)**2  )) * 100) **0.5\n",
    "\n"
   ]
  },
  {
   "cell_type": "code",
   "execution_count": null,
   "metadata": {},
   "outputs": [],
   "source": []
  },
  {
   "cell_type": "code",
   "execution_count": 41,
   "metadata": {},
   "outputs": [
    {
     "name": "stdout",
     "output_type": "stream",
     "text": [
      "Mean squared error: 14620.11\n",
      "Variance squared error: 0.56\n",
      "MSE Proportion: 36.32\n"
     ]
    }
   ],
   "source": [
    "print(\"Mean squared error: %.2f\" % mean_squared_error(y_test, y_predsk))\n",
    "print(\"Variance squared error: %.2f\" % r2_score(y_test, y_predsk))\n",
    "print(\"MSE Proportion: %.2f\" % mse_prop(y_test, y_predsk))"
   ]
  },
  {
   "cell_type": "code",
   "execution_count": 106,
   "metadata": {},
   "outputs": [],
   "source": [
    "#Building Residual DF\n",
    "\n",
    "dfpred= y_test.to_frame()\n",
    "dfpred['sk_preds'] = y_predsk\n",
    "dfpred['sk_resid'] = dfpred.sk_preds-dfpred.price\n",
    "dfpred['sk_residpct'] = (dfpred.sk_preds-dfpred.price)/dfpred.price\n",
    "# dfpred.head()"
   ]
  },
  {
   "cell_type": "code",
   "execution_count": 105,
   "metadata": {},
   "outputs": [
    {
     "data": {
      "text/plain": [
       "Text(0,0.5,'RESIDUAL PCT')"
      ]
     },
     "execution_count": 105,
     "metadata": {},
     "output_type": "execute_result"
    },
    {
     "data": {
      "image/png": "[encoded data removed]",
      "text/plain": [
       "<Figure size 1296x360 with 3 Axes>"
      ]
     },
     "metadata": {},
     "output_type": "display_data"
    }
   ],
   "source": [
    "fig = plt.figure(figsize=(18,5))\n",
    "ax1 = fig.add_subplot(1,3,1)\n",
    "ax2 = fig.add_subplot(1,3,2)\n",
    "ax3 = fig.add_subplot(1,3,3)\n",
    "\n",
    "ax1.scatter(y_test, y_predsk,  color='black')\n",
    "ax1.set_title('act_vs_pred')\n",
    "ax1.set_xlabel('ACT-PRICE')\n",
    "ax1.set_ylabel('PREDICT')\n",
    "\n",
    "ax2.scatter(dfpred.price,dfpred.sk_resid, color='red')\n",
    "ax2.set_title('RESIDUALS')\n",
    "ax2.set_xlabel('PRICE')\n",
    "ax2.set_ylabel('RESIDUAL')\n",
    "\n",
    "ax3.scatter(dfpred.price,dfpred.sk_residpct, color='blue')\n",
    "ax3.set_title('RESIDUAL PCT')\n",
    "ax3.set_xlabel('PRICE')\n",
    "ax3.set_ylabel('RESIDUAL PCT')"
   ]
  },
  {
   "cell_type": "code",
   "execution_count": 46,
   "metadata": {},
   "outputs": [
    {
     "data": {
      "text/plain": [
       "array([567.82291265, 167.84910191,  76.14234552,  98.40644316,\n",
       "       216.22741465, 148.13872954, 128.24605478, 444.41467356,\n",
       "       240.54910987, 155.82590968, 569.41524532, 143.6636871 ,\n",
       "       139.77418658, 262.16351411,  80.45420472, 245.30110348,\n",
       "       280.89065595, 478.87055416,  74.45568917,   1.18527273,\n",
       "       188.03191744, 290.36900637, 618.02701554, 410.78793094,\n",
       "       226.78518975, 115.3538921 ,   3.78759398, 178.15519723,\n",
       "       203.31993023, 229.43001584, 160.37418908,  94.1043805 ,\n",
       "       162.13918213, 157.10467713, 179.51403555,  30.86410233,\n",
       "       234.12101731,  36.06799817, 197.27149407, 128.28113063,\n",
       "       174.28726823, 268.06894574, 217.61980518,  94.58763196,\n",
       "       137.0555992 , 189.55792768, 787.8470848 , 121.85290661,\n",
       "       228.97619209, 150.85812739, 249.68624177, 259.04017568,\n",
       "       252.78173427, 110.69632317, 480.38793278, 326.26370406,\n",
       "       244.17885836, 179.93408862, 196.21263412,  30.28930419,\n",
       "       478.09972655, 252.23389491, 163.70076637, 160.735624  ,\n",
       "       135.2348194 , 475.07416391, 108.16009132, 127.46455283,\n",
       "       326.12719608, 212.77044605, 159.55261329, 115.57818951,\n",
       "       212.12596464, 460.47908703, 545.84332535,  64.29522801,\n",
       "        80.65614254, 270.45485342, 120.8311638 , 245.02108917,\n",
       "       119.60255273, 485.20338561,  66.34054428, 263.45277021,\n",
       "       428.53763026, 100.61941879, 141.4344561 , 137.14789111,\n",
       "       401.9775609 , 117.84161697, 175.42394798, 115.99072208,\n",
       "       137.05494199, 306.02336194, 392.14893224, 290.11689213,\n",
       "       -38.92968191, 106.4072781 , 145.21445519, 142.23425916,\n",
       "       319.09072412,  91.76918586, 364.67621229, 175.70829705,\n",
       "       188.6074135 , 153.10659249, 149.45594992, 175.07213924,\n",
       "        92.89720105, 333.86395919, 834.03182583, 126.20398166,\n",
       "       271.33372061, 296.03926165, 118.98619114, 250.78637091,\n",
       "        93.69138123, 199.07291078, 345.73386824, 138.48081606,\n",
       "       123.11563384, 164.88851391, 101.07777122, 186.82725879,\n",
       "       390.95583535, 161.09110279, 315.92049969, 173.69366611,\n",
       "       162.45903962, 115.94202176, 136.24882762,  32.05712983,\n",
       "       220.19437004, 180.68264293,  40.53818088, 132.44325241,\n",
       "       217.36808906, 215.40139437, 252.65531736, 320.96251081,\n",
       "       128.34875225, 413.86619778, 462.27870281, 447.01633803,\n",
       "       229.06303544, 106.20034445, 155.82590968, 258.0348016 ,\n",
       "       137.18959711, 146.81984345, 107.91175187, 137.18113643,\n",
       "       102.12290185, 396.04481716, 138.30042228, 243.42980724,\n",
       "       125.20887906, 143.23541476, 490.40209702, 322.10320333,\n",
       "       195.03801785, 388.53585795, 283.96181916, 187.68565809,\n",
       "       355.21285388, 140.52508153, 227.98141547,  98.24325936,\n",
       "       110.29025909, 185.17917441, 234.35486888, 238.04973685,\n",
       "       135.26844975,  34.08218083, 194.78115951, 153.365141  ,\n",
       "       128.40541168, 172.70451202, 240.00916268,  68.11968573,\n",
       "       502.51822949, 174.7368272 , 103.33194541,  54.5503872 ,\n",
       "       142.10830857, 648.04768767, 185.16772469, 219.16325796,\n",
       "       119.31954157, 153.84053897, 109.15286861, 155.82590968,\n",
       "       295.99793226, 288.71177385, 210.32917547, 111.14746894,\n",
       "       312.56669542, 158.97063846, 294.2343976 , 235.27013464,\n",
       "       156.59392993, 257.78118244,  40.99792319, 518.69687046,\n",
       "       101.58199969,  99.18058832, 391.52116421,  99.54095721,\n",
       "       151.22022608, 128.7038683 , 103.87607784, 255.94276784,\n",
       "       440.16215629, 172.45785072, 407.05972582, 419.96126636,\n",
       "       222.86309302, 260.43323195,  97.57617197, 393.37929114,\n",
       "       131.32373636, 101.5029504 , 225.04670091, 575.16899023,\n",
       "       100.6628188 , 141.05599294, 362.92223269, 153.33654241,\n",
       "       127.46455283,  62.06458045, 199.69145952, 139.77418658,\n",
       "       251.40413431, 210.23186172, 162.58907802, 267.96770273,\n",
       "       130.61129952, 495.76088687, 315.18580357,  80.39045411,\n",
       "       707.91586604, 200.89424051, 772.19382291,  94.21014595,\n",
       "       211.86599375, 118.08986733, 191.22629565,  56.57680767,\n",
       "       126.58215301,  59.73475005, 175.50786849,  78.45135197,\n",
       "       104.13053222, 161.26229033, 138.51032537,  80.95631141,\n",
       "       213.70773053, 245.14714629, 138.7355232 , 155.82590968,\n",
       "       157.36453761, 435.86094803, 125.06953675, 507.246436  ,\n",
       "       548.22586624, 553.6780942 , 209.22162956, 137.94407229,\n",
       "       236.75060464, 172.14517802, 134.76051561,  22.75763941,\n",
       "       -41.77433244, 132.64752791, 528.96282838,  89.30823494,\n",
       "       213.51324707, 182.99118673, 219.24837788, 367.76041977,\n",
       "       199.54203009,  66.74010428, 252.39496246, 205.56884188,\n",
       "        26.47552963, 168.74219395, 400.14588752, 760.56637081,\n",
       "       330.41001364,  92.35198202, 119.73859901, 321.89821798,\n",
       "       144.52746991, 171.71901408, 411.38778677, 257.65978803,\n",
       "       578.33805881, 503.96061242, 223.33080058, 135.39549359,\n",
       "       160.64244867, 148.65105261, 823.9513711 , 172.07441886,\n",
       "        81.28291906, 243.06683026,  67.61545726, 163.69349459,\n",
       "       195.95111257, 108.48722556,  67.99362861, 597.45908613,\n",
       "        23.92840716, 126.07792455, 485.03457119, 118.01837942,\n",
       "        46.37682732, 125.47765321,  10.81999393, 396.92579341,\n",
       "        68.0566035 , 188.93580747, 187.75221269, 155.93322961,\n",
       "       232.33470669, 127.77414654, 467.55143776, 300.03951316,\n",
       "       150.18217669,  74.84136456, 117.82665461, 102.5556318 ,\n",
       "       153.4804952 , 224.06012292,  47.28403301, 222.08950237,\n",
       "       298.07428992, 127.46455283, 213.7653613 , 127.46455283,\n",
       "       354.26382833, 156.40806181, 134.11217194,  86.33829203,\n",
       "       689.48695852,  56.08546684,  28.60837482, 181.32146395,\n",
       "       155.82590968, 249.02694625,  84.6316207 ,  38.48385274,\n",
       "        93.83214207, 265.02015921, 115.30385201, 243.56278448,\n",
       "       494.30091819, 665.44618039, 250.17779959, 206.86692205,\n",
       "       352.35800309, 242.61761308, 470.53743087, 148.99206884,\n",
       "       168.72620701, 375.01793129, 208.23621541, 141.24953044,\n",
       "       227.64686042, 162.59288823, 168.97972473, 265.92825312,\n",
       "       396.12392186, 329.20642782, 346.28463229, 126.59350023,\n",
       "       378.32095808, 117.891925  , 273.11693894, 199.20192434,\n",
       "       136.6103211 , 278.80810419,  87.26169131, 159.42903134,\n",
       "       319.63204681, 263.65102809, 233.05321684, 142.10820204,\n",
       "       193.72688247,  83.1776822 , 104.34040235,  61.04152016,\n",
       "        35.83303799, 194.78387522,  87.55343624,  39.72563413,\n",
       "       443.12645072, 553.16182771,  55.85895846, 294.32156175,\n",
       "        99.42287811, 175.3584458 , 413.18671939, 116.09167234,\n",
       "       291.12899011, 215.78868441,  67.68632524, 116.11531096,\n",
       "       175.75998273, 152.67672011, 311.61852727, 295.16030353,\n",
       "       246.90426804, 103.34679933, 118.82120969, 127.46455283,\n",
       "       281.6516368 , 100.91493303, 162.50705154, 256.91794522,\n",
       "       247.67945238, 164.78270813,  66.18785398, 241.70217145,\n",
       "       426.37096549, 203.72403645, 211.434755  , 132.03566336,\n",
       "       708.14539658, 362.54066284, 126.58215301, 148.55319086,\n",
       "       295.25317088, 456.45793823, 295.88323773, 128.66131108,\n",
       "       643.60301337, 191.91817943, 105.84275186, 100.37189126,\n",
       "       401.2580269 , 187.74479508,  87.85297864, 151.03585368,\n",
       "       173.83568922, 285.10717477,  52.94083052, 213.70384233,\n",
       "       276.91951053,  38.7273804 , 312.88689096, 294.23689963,\n",
       "       101.21525132,  48.14393593, 235.19983136, 162.6388415 ,\n",
       "       268.59875996, 221.66297168, 115.85419406, 318.27845056,\n",
       "       139.90024369, 164.64219481, -17.10890736, 164.74390309,\n",
       "       137.24571788, 285.77225379, 244.57579091,  98.86836962,\n",
       "        77.8277313 , 154.62299327, -74.93263356, 194.92927424,\n",
       "       114.03391413, 155.82590968, 210.93820669, 307.1836095 ,\n",
       "        35.33543859, 187.50711776, 150.5348295 , 199.92116703,\n",
       "       274.94031532, 232.44654039,  42.46094054, 164.52808097,\n",
       "       224.40071772, 130.11757016, 185.71066048, 209.65369597,\n",
       "       342.99728609, 250.31662272,  93.78542411, 143.62192558,\n",
       "       316.4088421 , 114.27199071,  21.86085677, 141.50406776,\n",
       "       319.9360497 , 367.19844641, 213.16174014, 205.24657921,\n",
       "       159.15514135, 250.12905096, 441.23860251, 370.76224855,\n",
       "       186.31722272,   8.86445413, 132.97073302, 429.91282707,\n",
       "       171.57442334, 278.80810419, 108.46937255,  83.42377   ,\n",
       "       127.06867709, 330.64122105, 159.91360198,  97.41612441,\n",
       "       358.67493911, 169.27242814, 257.36697268,  64.08845229,\n",
       "       223.26170109, 146.00385315, 159.38892779,  21.24413286,\n",
       "       146.20089125,  51.67236704, 356.75437156, 313.47416161,\n",
       "        89.08872449, 484.4786101 ,  77.47132781, 258.12905758,\n",
       "       201.28833036, 133.99306449, 317.46892119, 329.68643546,\n",
       "       360.2418325 , 136.61560473,  54.05779585, 116.37372061,\n",
       "        75.03683444, 108.48917099, 191.91817943, 306.93893419,\n",
       "       627.43662358, 252.66045278,  79.55140088, 156.64262604,\n",
       "       -25.1932149 , 473.70449013, 615.76883545,  55.56974183,\n",
       "       478.73387082, 154.19380909, 118.15222846, 203.1540432 ,\n",
       "        25.01139622, 123.2076851 ,  98.60275461,  55.39431489,\n",
       "        86.12975757,  97.75904071, 165.1702411 ,  99.04226617,\n",
       "       232.60005824,  73.67545088, 723.24808602, 171.71063214,\n",
       "       178.34292632, 253.33389176, 123.37703251,  98.95462374,\n",
       "       400.8384562 , 108.21328042, 287.80197493, 335.14291964,\n",
       "       347.89750709, 169.00833643, 336.029972  , 174.15512065,\n",
       "        69.23606159, 234.46660761, 359.6508073 , 362.66509233,\n",
       "        98.74415203, 189.31518749, 290.51327724, 241.91979443,\n",
       "       217.02281813, 201.52516369,  93.81688942, 170.55256764,\n",
       "        96.43511331, 105.02431421, 155.82590968, 283.97242312,\n",
       "       204.98802933, 196.8838637 , 170.19461036, 166.00795672,\n",
       "       181.68865928, 312.65440917, 109.30947132, 163.53544976,\n",
       "       217.34016945, 179.88449827, 150.76825594, 284.16868764,\n",
       "        59.76232465, 407.08052927, 115.82307408, 113.50565662,\n",
       "       205.70729507, 169.61798326, 104.78759659, 100.32192627,\n",
       "       115.94407371, 112.03372579, 131.6019443 , 632.73436239,\n",
       "       220.44772227, 121.2784962 , 849.75386448, 128.65079543,\n",
       "       190.77415978,  95.8879954 , 146.60680594, 401.4603514 ,\n",
       "       131.43021615, 460.36252621, 105.07773882, 315.03618541,\n",
       "        97.98870455, 684.87206134, 172.95633952,  89.08210244,\n",
       "       120.1025557 , 395.72652665, 302.79401333, 407.37560923,\n",
       "       166.62992866, 211.69640663, 177.23323015, 175.12104028,\n",
       "       143.84335104, 307.14268928, 510.67842277, 335.66659591,\n",
       "       549.70096178, 241.27206747, 205.31421156, 181.20428169,\n",
       "       269.1312976 , 127.46455283, 132.17162241, 127.46455283,\n",
       "       623.09802712, 445.12051077, 110.04379444, 337.32610156,\n",
       "       103.45670585, 183.93884137,  95.64640505, 336.59838035,\n",
       "       421.83063062, 556.06155163,  66.97082987, 284.89964805,\n",
       "       179.42565579, 157.50130932, 194.88513015, 176.56589276,\n",
       "       134.38723788, 471.29369787, 343.42345042, 254.56911198,\n",
       "       187.77980321, 332.26549433, 213.70773053, 271.00926318,\n",
       "       193.89750438, 115.73095705, 161.97918021, 140.95514782,\n",
       "       -38.80362479,  66.82543087,  62.22774053, 622.54268684,\n",
       "       159.25153048, 362.36207999, 147.412919  , 327.46166847,\n",
       "       169.5361327 , 145.41736487, 192.03933723, 379.93276973,\n",
       "       497.84654294, 325.12897265,  17.98337566, 388.02916415,\n",
       "       326.06186172, 162.28459135, 169.13439355, 300.22372114,\n",
       "        84.25182259, 426.06596993, 176.06982987,  66.17986391,\n",
       "       155.9519668 , 372.28198271, 222.75747262,  41.17447931,\n",
       "       201.29355551, 417.09694291, 104.81722289,  97.32163292,\n",
       "       151.89192136, 209.3735461 , 277.49704361, 194.60057738,\n",
       "       131.08151106, 140.52508153,  78.6329583 , 331.00817226,\n",
       "       464.29062457, 441.74521533, 300.51465764, 232.87254157,\n",
       "       154.68759043,  94.25169346, 374.10539123, 258.51666638,\n",
       "       226.18166795, 480.42541355, 206.05460457,  54.43750828,\n",
       "       104.2970971 ,  88.81789482, 165.31926614,  96.38283101,\n",
       "       232.72314342, 147.43583726, 150.82568491,  78.04124063,\n",
       "       707.51511099, 113.3795995 ,  29.21685447, 213.07744494,\n",
       "       248.19535146, 400.77491415, 192.26301361, 189.10132003,\n",
       "       147.71212552, 140.52508153, 161.97918021, 137.16494399,\n",
       "       228.06138647, 260.56051138, 531.3890211 , 255.25114392,\n",
       "       534.36356199,  92.39586374,  93.78409684, 191.42512532,\n",
       "       475.39285545, 128.64318682,  44.73623704, -25.1932149 ,\n",
       "       160.9352679 , 424.5707004 , 175.31159351,  27.18718841,\n",
       "       196.31491929,  38.4063579 ,  95.97244798, 112.12710207,\n",
       "       150.6432088 ,  73.27722321, 213.89141842, 174.32955091,\n",
       "       203.15949846, 972.82663907, 137.29653293, 361.21823534,\n",
       "        88.02093535, 258.26480012,  98.90397335, 151.07779914,\n",
       "       192.5435657 , 364.0308983 , 223.00958685, 265.5165556 ,\n",
       "       182.56928474, 177.45328409, 305.03692424, 321.3304725 ,\n",
       "       475.38789928, 154.97144127,  99.60175951, 242.02787766,\n",
       "       321.76408958, 103.49216027, 176.80253978, 580.46309364,\n",
       "       222.41287025, 105.73724735,  88.7369142 ,  10.5768558 ,\n",
       "       182.59381255, 283.31998651, 489.02019992, 124.8033348 ,\n",
       "       301.58410482, 127.08638148, 155.82590968, 600.52351742,\n",
       "       169.78106641, 133.0977986 , 235.25324911, 411.45044685,\n",
       "       100.68967903,  98.33929623, 158.8068265 ,  39.16097955,\n",
       "       402.79227404, 111.66949368, 236.773881  , 181.11778266,\n",
       "       402.09357907, 107.95891433,  82.27674688, 186.57019782,\n",
       "       186.06844387, 175.16042443, 176.2786192 ,  25.05213454,\n",
       "       106.86668855, 166.16147048, 424.51303201, 307.96091238,\n",
       "       339.43784256, 136.31272666, 326.59631634,  45.65524936,\n",
       "       255.49818262, 182.70553432, 168.2204158 , 298.51915118,\n",
       "        27.60858686, 101.09050228, 207.69095049, 155.38205487,\n",
       "       217.177624  , 374.08560823, 215.4486331 , 669.36306612,\n",
       "       171.25498104, 247.60058934, 357.46321721,  49.56435531,\n",
       "       -10.64337743,  45.8440268 , 235.04120584, 213.06790726,\n",
       "       157.33868231, 191.27838825,  96.77816304, 206.78213329,\n",
       "       198.51515507,  81.09412736, 157.76247829, 219.3431906 ,\n",
       "       249.88915113, 179.82246606,  93.21267439, 144.68150832,\n",
       "        33.39418931, 218.75552085, 137.03854711, 247.05633634,\n",
       "       149.53421252, 104.2375238 , 236.40708927, 196.40279632,\n",
       "       153.76613497, 190.32944779, 102.07196461, 274.75859032,\n",
       "       251.01792357, 244.64291782, 151.27452385, 484.71597942,\n",
       "       198.36384149, 221.52331969, 189.90797726, 219.98954306,\n",
       "       413.15101157,  67.47505834,  88.33120979, 281.28381818,\n",
       "        65.08223166, 118.92654631, 240.79449322,  31.45487012,\n",
       "        42.07621777, 331.12260689, 423.20713186, 142.43427375,\n",
       "        41.49688593, 129.06751676, 461.5726401 , 164.80177619,\n",
       "       112.04213666,  85.05890553, 132.60796065,  57.92240514,\n",
       "       431.23732356,  99.63752715, 103.97464433, 184.0507472 ,\n",
       "       208.30363787, 180.96630874, 212.81579303, 204.02689131,\n",
       "       109.08244931, 201.93642324, 141.8856513 ,   1.92845101,\n",
       "       331.52215738, 276.85495019,  24.65647787, 103.47285645,\n",
       "       117.04184313,  88.8126078 ])"
      ]
     },
     "execution_count": 46,
     "metadata": {},
     "output_type": "execute_result"
    }
   ],
   "source": [
    "y_predsk"
   ]
  },
  {
   "cell_type": "code",
   "execution_count": 44,
   "metadata": {},
   "outputs": [
    {
     "data": {
      "text/plain": [
       "2162    587.0\n",
       "4313    275.0\n",
       "3889    115.0\n",
       "1532    300.0\n",
       "2498    250.0\n",
       "Name: price, dtype: float64"
      ]
     },
     "execution_count": 44,
     "metadata": {},
     "output_type": "execute_result"
    }
   ],
   "source": [
    "y_test.head()"
   ]
  },
  {
   "cell_type": "code",
   "execution_count": 107,
   "metadata": {},
   "outputs": [
    {
     "name": "stdout",
     "output_type": "stream",
     "text": [
      "(3735,) (3735, 50)\n"
     ]
    }
   ],
   "source": [
    "print( y_train.shape, X_train.shape)"
   ]
  },
  {
   "cell_type": "code",
   "execution_count": null,
   "metadata": {},
   "outputs": [],
   "source": [
    "listd_insig_cols = ['host_identity_verified','bed_type','guests_included','room_type_pvt','amentcnt',]"
   ]
  },
  {
   "cell_type": "code",
   "execution_count": 108,
   "metadata": {},
   "outputs": [
    {
     "name": "stdout",
     "output_type": "stream",
     "text": [
      "                            OLS Regression Results                            \n",
      "==============================================================================\n",
      "Dep. Variable:                  price   R-squared:                       0.255\n",
      "Model:                            OLS   Adj. R-squared:                  0.245\n",
      "Method:                 Least Squares   F-statistic:                     25.71\n",
      "Date:                Mon, 06 Aug 2018   Prob (F-statistic):          2.80e-196\n",
      "Time:                        22:42:36   Log-Likelihood:                -25820.\n",
      "No. Observations:                3735   AIC:                         5.174e+04\n",
      "Df Residuals:                    3685   BIC:                         5.205e+04\n",
      "Df Model:                          49                                         \n",
      "Covariance Type:            nonrobust                                         \n",
      "==========================================================================================\n",
      "                             coef    std err          t      P>|t|      [0.025      0.975]\n",
      "------------------------------------------------------------------------------------------\n",
      "const                    -42.7704    253.185     -0.169      0.866    -539.167     453.626\n",
      "host_is_superhost         16.3633      8.833      1.853      0.064      -0.954      33.681\n",
      "host_identity_verified    16.1715      8.918      1.813      0.070      -1.313      33.656\n",
      "accommodates              20.1003      4.490      4.476      0.000      11.296      28.904\n",
      "bathrooms                 51.5292      8.332      6.184      0.000      35.193      67.866\n",
      "bedrooms                  47.4596      8.100      5.860      0.000      31.579      63.340\n",
      "beds                      -8.8163      6.307     -1.398      0.162     -21.182       3.549\n",
      "bed_type                  -8.0907     33.865     -0.239      0.811     -74.486      58.305\n",
      "cleaning_fee               0.6897      0.084      8.204      0.000       0.525       0.855\n",
      "guests_included            1.2096      3.493      0.346      0.729      -5.638       8.058\n",
      "room_type_full            64.1541     39.288      1.633      0.103     -12.875     141.183\n",
      "room_type_pvt             36.0197     38.539      0.935      0.350     -39.541     111.580\n",
      "amentcnt                  -0.1261      0.415     -0.304      0.761      -0.940       0.687\n",
      "min_night_stay_long      118.4880     55.686      2.128      0.033       9.310     227.666\n",
      "min_night_stay_mid       -39.4821     11.367     -3.474      0.001     -61.768     -17.197\n",
      "ppt_condensed_apt        -45.0832     35.558     -1.268      0.205    -114.798      24.632\n",
      "ppt_condensed_aptspl     -59.8382     51.108     -1.171      0.242    -160.041      40.365\n",
      "ppt_condensed_auto       -90.6519    128.982     -0.703      0.482    -343.534     162.230\n",
      "ppt_condensed_hostel     -98.3629     57.546     -1.709      0.087    -211.188      14.462\n",
      "ppt_condensed_hotel      -11.1938     42.592     -0.263      0.793     -94.700      72.312\n",
      "ppt_condensed_house      -26.4162     36.367     -0.726      0.468     -97.718      44.885\n",
      "ppt_condensed_other      -59.0617     75.688     -0.780      0.435    -207.456      89.333\n",
      "zipcode_94014.0          -59.9132    250.634     -0.239      0.811    -551.307     431.481\n",
      "zipcode_94015.0            3.2635    300.287      0.011      0.991    -585.481     592.008\n",
      "zipcode_94102.0           52.7637    246.389      0.214      0.830    -430.309     535.836\n",
      "zipcode_94103.0           33.4238    246.065      0.136      0.892    -449.013     515.861\n",
      "zipcode_94104.0          360.3664    262.719      1.372      0.170    -154.722     875.455\n",
      "zipcode_94105.0           80.3810    253.493      0.317      0.751    -416.620     577.382\n",
      "zipcode_94107.0           -3.7150    246.111     -0.015      0.988    -486.241     478.811\n",
      "zipcode_94108.0          104.8202    247.066      0.424      0.671    -379.580     589.221\n",
      "zipcode_94109.0           80.2840    246.076      0.326      0.744    -402.175     562.743\n",
      "zipcode_94110.0          -20.6717    245.564     -0.084      0.933    -502.126     460.783\n",
      "zipcode_94111.0           95.7056    255.221      0.375      0.708    -404.682     596.094\n",
      "zipcode_94112.0          -59.4695    245.973     -0.242      0.809    -541.725     422.786\n",
      "zipcode_94114.0           19.2641    245.715      0.078      0.938    -462.486     501.014\n",
      "zipcode_94115.0           44.0857    246.082      0.179      0.858    -438.384     526.556\n",
      "zipcode_94116.0            2.7521    246.461      0.011      0.991    -480.461     485.966\n",
      "zipcode_94117.0            9.4904    245.760      0.039      0.969    -472.349     491.330\n",
      "zipcode_94118.0          -20.0110    246.145     -0.081      0.935    -502.605     462.583\n",
      "zipcode_94121.0           19.5512    246.534      0.079      0.937    -463.805     502.908\n",
      "zipcode_94122.0          -51.2263    246.072     -0.208      0.835    -533.677     431.225\n",
      "zipcode_94123.0           76.7817    246.443      0.312      0.755    -406.397     559.960\n",
      "zipcode_94124.0          -68.9121    246.890     -0.279      0.780    -552.967     415.143\n",
      "zipcode_94127.0          -42.9479    247.042     -0.174      0.862    -527.301     441.405\n",
      "zipcode_94129.0            6.1887    346.655      0.018      0.986    -673.466     685.844\n",
      "zipcode_94131.0          -12.4972    246.077     -0.051      0.959    -494.957     469.963\n",
      "zipcode_94132.0          -66.3966    248.917     -0.267      0.790    -554.424     421.631\n",
      "zipcode_94133.0          132.6688    246.295      0.539      0.590    -350.219     615.557\n",
      "zipcode_94134.0          -68.7851    247.346     -0.278      0.781    -553.733     416.163\n",
      "zipcode_94158.0           48.3632    256.117      0.189      0.850    -453.783     550.509\n",
      "==============================================================================\n",
      "Omnibus:                     8723.956   Durbin-Watson:                   2.019\n",
      "Prob(Omnibus):                  0.000   Jarque-Bera (JB):         80764181.571\n",
      "Skew:                          22.756   Prob(JB):                         0.00\n",
      "Kurtosis:                     721.954   Cond. No.                     3.50e+04\n",
      "==============================================================================\n",
      "\n",
      "Warnings:\n",
      "[1] Standard Errors assume that the covariance matrix of the errors is correctly specified.\n",
      "[2] The condition number is large, 3.5e+04. This might indicate that there are\n",
      "strong multicollinearity or other numerical problems.\n"
     ]
    }
   ],
   "source": [
    "import statsmodels.api as sm\n",
    "import numpy as np\n",
    "model = sm.OLS(y_train, X_train)\n",
    "results = model.fit()\n",
    "print(results.summary())"
   ]
  },
  {
   "cell_type": "code",
   "execution_count": 109,
   "metadata": {},
   "outputs": [
    {
     "name": "stdout",
     "output_type": "stream",
     "text": [
      "447.4590861305329\n"
     ]
    },
    {
     "data": {
      "text/plain": [
       "<matplotlib.axes._subplots.AxesSubplot at 0x7f06504d64e0>"
      ]
     },
     "execution_count": 109,
     "metadata": {},
     "output_type": "execute_result"
    },
    {
     "data": {
      "image/png": "[encoded data removed]",
      "text/plain": [
       "<Figure size 432x288 with 1 Axes>"
      ]
     },
     "metadata": {},
     "output_type": "display_data"
    }
   ],
   "source": [
    "y_resdsk=(y_predsk-y_test)\n",
    "print(y_resdsk.max())\n",
    "y_resdsk.hist(bins =200)"
   ]
  },
  {
   "cell_type": "code",
   "execution_count": 110,
   "metadata": {},
   "outputs": [
    {
     "name": "stdout",
     "output_type": "stream",
     "text": [
      "9425.169346100553\n"
     ]
    },
    {
     "data": {
      "text/plain": [
       "<matplotlib.axes._subplots.AxesSubplot at 0x7f06489d4198>"
      ]
     },
     "execution_count": 110,
     "metadata": {},
     "output_type": "execute_result"
    },
    {
     "data": {
      "image/png": "[encoded data removed]",
      "text/plain": [
       "<Figure size 432x288 with 1 Axes>"
      ]
     },
     "metadata": {},
     "output_type": "display_data"
    }
   ],
   "source": [
    "y_resdpct=(y_predsk-y_test)*100/(y_test+1)\n",
    "print(y_resdpct.max())\n",
    "y_resdpct.hist(bins =200)"
   ]
  },
  {
   "cell_type": "code",
   "execution_count": 111,
   "metadata": {},
   "outputs": [
    {
     "data": {
      "text/html": [
       "<div>\n",
       "<style scoped>\n",
       "    .dataframe tbody tr th:only-of-type {\n",
       "        vertical-align: middle;\n",
       "    }\n",
       "\n",
       "    .dataframe tbody tr th {\n",
       "        vertical-align: top;\n",
       "    }\n",
       "\n",
       "    .dataframe thead th {\n",
       "        text-align: right;\n",
       "    }\n",
       "</style>\n",
       "<table border=\"1\" class=\"dataframe\">\n",
       "  <thead>\n",
       "    <tr style=\"text-align: right;\">\n",
       "      <th></th>\n",
       "      <th>const</th>\n",
       "      <th>host_is_superhost</th>\n",
       "      <th>host_identity_verified</th>\n",
       "      <th>accommodates</th>\n",
       "      <th>bathrooms</th>\n",
       "      <th>bedrooms</th>\n",
       "      <th>beds</th>\n",
       "      <th>bed_type</th>\n",
       "      <th>price</th>\n",
       "      <th>cleaning_fee</th>\n",
       "      <th>...</th>\n",
       "      <th>zipcode_94122.0</th>\n",
       "      <th>zipcode_94123.0</th>\n",
       "      <th>zipcode_94124.0</th>\n",
       "      <th>zipcode_94127.0</th>\n",
       "      <th>zipcode_94129.0</th>\n",
       "      <th>zipcode_94131.0</th>\n",
       "      <th>zipcode_94132.0</th>\n",
       "      <th>zipcode_94133.0</th>\n",
       "      <th>zipcode_94134.0</th>\n",
       "      <th>zipcode_94158.0</th>\n",
       "    </tr>\n",
       "  </thead>\n",
       "  <tbody>\n",
       "    <tr>\n",
       "      <th>count</th>\n",
       "      <td>4669.0</td>\n",
       "      <td>4669.000000</td>\n",
       "      <td>4669.000000</td>\n",
       "      <td>4669.000000</td>\n",
       "      <td>4669.000000</td>\n",
       "      <td>4669.000000</td>\n",
       "      <td>4669.000000</td>\n",
       "      <td>4669.000000</td>\n",
       "      <td>4669.000000</td>\n",
       "      <td>4669.000000</td>\n",
       "      <td>...</td>\n",
       "      <td>4669.000000</td>\n",
       "      <td>4669.000000</td>\n",
       "      <td>4669.000000</td>\n",
       "      <td>4669.000000</td>\n",
       "      <td>4669.000000</td>\n",
       "      <td>4669.000000</td>\n",
       "      <td>4669.000000</td>\n",
       "      <td>4669.000000</td>\n",
       "      <td>4669.000000</td>\n",
       "      <td>4669.000000</td>\n",
       "    </tr>\n",
       "    <tr>\n",
       "      <th>mean</th>\n",
       "      <td>1.0</td>\n",
       "      <td>0.433283</td>\n",
       "      <td>0.648747</td>\n",
       "      <td>3.339473</td>\n",
       "      <td>1.285821</td>\n",
       "      <td>1.390019</td>\n",
       "      <td>1.828015</td>\n",
       "      <td>0.985650</td>\n",
       "      <td>217.754337</td>\n",
       "      <td>78.177982</td>\n",
       "      <td>...</td>\n",
       "      <td>0.048190</td>\n",
       "      <td>0.028272</td>\n",
       "      <td>0.021418</td>\n",
       "      <td>0.020133</td>\n",
       "      <td>0.000214</td>\n",
       "      <td>0.047548</td>\n",
       "      <td>0.010281</td>\n",
       "      <td>0.033626</td>\n",
       "      <td>0.016492</td>\n",
       "      <td>0.002570</td>\n",
       "    </tr>\n",
       "    <tr>\n",
       "      <th>std</th>\n",
       "      <td>0.0</td>\n",
       "      <td>0.495582</td>\n",
       "      <td>0.477413</td>\n",
       "      <td>1.995117</td>\n",
       "      <td>0.626862</td>\n",
       "      <td>0.940698</td>\n",
       "      <td>1.226746</td>\n",
       "      <td>0.118941</td>\n",
       "      <td>264.990406</td>\n",
       "      <td>67.459155</td>\n",
       "      <td>...</td>\n",
       "      <td>0.214191</td>\n",
       "      <td>0.165765</td>\n",
       "      <td>0.144788</td>\n",
       "      <td>0.140470</td>\n",
       "      <td>0.014635</td>\n",
       "      <td>0.212830</td>\n",
       "      <td>0.100881</td>\n",
       "      <td>0.180284</td>\n",
       "      <td>0.127371</td>\n",
       "      <td>0.050637</td>\n",
       "    </tr>\n",
       "    <tr>\n",
       "      <th>min</th>\n",
       "      <td>1.0</td>\n",
       "      <td>0.000000</td>\n",
       "      <td>0.000000</td>\n",
       "      <td>1.000000</td>\n",
       "      <td>0.000000</td>\n",
       "      <td>0.000000</td>\n",
       "      <td>0.000000</td>\n",
       "      <td>0.000000</td>\n",
       "      <td>0.000000</td>\n",
       "      <td>0.000000</td>\n",
       "      <td>...</td>\n",
       "      <td>0.000000</td>\n",
       "      <td>0.000000</td>\n",
       "      <td>0.000000</td>\n",
       "      <td>0.000000</td>\n",
       "      <td>0.000000</td>\n",
       "      <td>0.000000</td>\n",
       "      <td>0.000000</td>\n",
       "      <td>0.000000</td>\n",
       "      <td>0.000000</td>\n",
       "      <td>0.000000</td>\n",
       "    </tr>\n",
       "    <tr>\n",
       "      <th>25%</th>\n",
       "      <td>1.0</td>\n",
       "      <td>0.000000</td>\n",
       "      <td>0.000000</td>\n",
       "      <td>2.000000</td>\n",
       "      <td>1.000000</td>\n",
       "      <td>1.000000</td>\n",
       "      <td>1.000000</td>\n",
       "      <td>1.000000</td>\n",
       "      <td>100.000000</td>\n",
       "      <td>30.000000</td>\n",
       "      <td>...</td>\n",
       "      <td>0.000000</td>\n",
       "      <td>0.000000</td>\n",
       "      <td>0.000000</td>\n",
       "      <td>0.000000</td>\n",
       "      <td>0.000000</td>\n",
       "      <td>0.000000</td>\n",
       "      <td>0.000000</td>\n",
       "      <td>0.000000</td>\n",
       "      <td>0.000000</td>\n",
       "      <td>0.000000</td>\n",
       "    </tr>\n",
       "    <tr>\n",
       "      <th>50%</th>\n",
       "      <td>1.0</td>\n",
       "      <td>0.000000</td>\n",
       "      <td>1.000000</td>\n",
       "      <td>2.000000</td>\n",
       "      <td>1.000000</td>\n",
       "      <td>1.000000</td>\n",
       "      <td>1.000000</td>\n",
       "      <td>1.000000</td>\n",
       "      <td>155.000000</td>\n",
       "      <td>65.000000</td>\n",
       "      <td>...</td>\n",
       "      <td>0.000000</td>\n",
       "      <td>0.000000</td>\n",
       "      <td>0.000000</td>\n",
       "      <td>0.000000</td>\n",
       "      <td>0.000000</td>\n",
       "      <td>0.000000</td>\n",
       "      <td>0.000000</td>\n",
       "      <td>0.000000</td>\n",
       "      <td>0.000000</td>\n",
       "      <td>0.000000</td>\n",
       "    </tr>\n",
       "    <tr>\n",
       "      <th>75%</th>\n",
       "      <td>1.0</td>\n",
       "      <td>1.000000</td>\n",
       "      <td>1.000000</td>\n",
       "      <td>4.000000</td>\n",
       "      <td>1.500000</td>\n",
       "      <td>2.000000</td>\n",
       "      <td>2.000000</td>\n",
       "      <td>1.000000</td>\n",
       "      <td>250.000000</td>\n",
       "      <td>100.000000</td>\n",
       "      <td>...</td>\n",
       "      <td>0.000000</td>\n",
       "      <td>0.000000</td>\n",
       "      <td>0.000000</td>\n",
       "      <td>0.000000</td>\n",
       "      <td>0.000000</td>\n",
       "      <td>0.000000</td>\n",
       "      <td>0.000000</td>\n",
       "      <td>0.000000</td>\n",
       "      <td>0.000000</td>\n",
       "      <td>0.000000</td>\n",
       "    </tr>\n",
       "    <tr>\n",
       "      <th>max</th>\n",
       "      <td>1.0</td>\n",
       "      <td>1.000000</td>\n",
       "      <td>1.000000</td>\n",
       "      <td>16.000000</td>\n",
       "      <td>7.000000</td>\n",
       "      <td>7.000000</td>\n",
       "      <td>14.000000</td>\n",
       "      <td>1.000000</td>\n",
       "      <td>9000.000000</td>\n",
       "      <td>700.000000</td>\n",
       "      <td>...</td>\n",
       "      <td>1.000000</td>\n",
       "      <td>1.000000</td>\n",
       "      <td>1.000000</td>\n",
       "      <td>1.000000</td>\n",
       "      <td>1.000000</td>\n",
       "      <td>1.000000</td>\n",
       "      <td>1.000000</td>\n",
       "      <td>1.000000</td>\n",
       "      <td>1.000000</td>\n",
       "      <td>1.000000</td>\n",
       "    </tr>\n",
       "  </tbody>\n",
       "</table>\n",
       "<p>8 rows × 51 columns</p>\n",
       "</div>"
      ],
      "text/plain": [
       "        const  host_is_superhost  host_identity_verified  accommodates  \\\n",
       "count  4669.0        4669.000000             4669.000000   4669.000000   \n",
       "mean      1.0           0.433283                0.648747      3.339473   \n",
       "std       0.0           0.495582                0.477413      1.995117   \n",
       "min       1.0           0.000000                0.000000      1.000000   \n",
       "25%       1.0           0.000000                0.000000      2.000000   \n",
       "50%       1.0           0.000000                1.000000      2.000000   \n",
       "75%       1.0           1.000000                1.000000      4.000000   \n",
       "max       1.0           1.000000                1.000000     16.000000   \n",
       "\n",
       "         bathrooms     bedrooms         beds     bed_type        price  \\\n",
       "count  4669.000000  4669.000000  4669.000000  4669.000000  4669.000000   \n",
       "mean      1.285821     1.390019     1.828015     0.985650   217.754337   \n",
       "std       0.626862     0.940698     1.226746     0.118941   264.990406   \n",
       "min       0.000000     0.000000     0.000000     0.000000     0.000000   \n",
       "25%       1.000000     1.000000     1.000000     1.000000   100.000000   \n",
       "50%       1.000000     1.000000     1.000000     1.000000   155.000000   \n",
       "75%       1.500000     2.000000     2.000000     1.000000   250.000000   \n",
       "max       7.000000     7.000000    14.000000     1.000000  9000.000000   \n",
       "\n",
       "       cleaning_fee       ...         zipcode_94122.0  zipcode_94123.0  \\\n",
       "count   4669.000000       ...             4669.000000      4669.000000   \n",
       "mean      78.177982       ...                0.048190         0.028272   \n",
       "std       67.459155       ...                0.214191         0.165765   \n",
       "min        0.000000       ...                0.000000         0.000000   \n",
       "25%       30.000000       ...                0.000000         0.000000   \n",
       "50%       65.000000       ...                0.000000         0.000000   \n",
       "75%      100.000000       ...                0.000000         0.000000   \n",
       "max      700.000000       ...                1.000000         1.000000   \n",
       "\n",
       "       zipcode_94124.0  zipcode_94127.0  zipcode_94129.0  zipcode_94131.0  \\\n",
       "count      4669.000000      4669.000000      4669.000000      4669.000000   \n",
       "mean          0.021418         0.020133         0.000214         0.047548   \n",
       "std           0.144788         0.140470         0.014635         0.212830   \n",
       "min           0.000000         0.000000         0.000000         0.000000   \n",
       "25%           0.000000         0.000000         0.000000         0.000000   \n",
       "50%           0.000000         0.000000         0.000000         0.000000   \n",
       "75%           0.000000         0.000000         0.000000         0.000000   \n",
       "max           1.000000         1.000000         1.000000         1.000000   \n",
       "\n",
       "       zipcode_94132.0  zipcode_94133.0  zipcode_94134.0  zipcode_94158.0  \n",
       "count      4669.000000      4669.000000      4669.000000      4669.000000  \n",
       "mean          0.010281         0.033626         0.016492         0.002570  \n",
       "std           0.100881         0.180284         0.127371         0.050637  \n",
       "min           0.000000         0.000000         0.000000         0.000000  \n",
       "25%           0.000000         0.000000         0.000000         0.000000  \n",
       "50%           0.000000         0.000000         0.000000         0.000000  \n",
       "75%           0.000000         0.000000         0.000000         0.000000  \n",
       "max           1.000000         1.000000         1.000000         1.000000  \n",
       "\n",
       "[8 rows x 51 columns]"
      ]
     },
     "execution_count": 111,
     "metadata": {},
     "output_type": "execute_result"
    }
   ],
   "source": [
    "dflreg.describe()"
   ]
  },
  {
   "cell_type": "code",
   "execution_count": 112,
   "metadata": {},
   "outputs": [
    {
     "data": {
      "image/png": "[encoded data removed]",
      "text/plain": [
       "<Figure size 432x288 with 56 Axes>"
      ]
     },
     "metadata": {},
     "output_type": "display_data"
    }
   ],
   "source": [
    "plt_cols = dflreg.columns\n",
    "ax = dflreg[plt_cols].hist(bins=10)\n",
    "plt.plot();"
   ]
  },
  {
   "cell_type": "code",
   "execution_count": 113,
   "metadata": {},
   "outputs": [
    {
     "data": {
      "image/png": "[encoded data removed]",
      "text/plain": [
       "<Figure size 432x288 with 1 Axes>"
      ]
     },
     "metadata": {},
     "output_type": "display_data"
    }
   ],
   "source": [
    "dflreg['price'][dflreg['price']<500].hist(bins=20);"
   ]
  },
  {
   "cell_type": "code",
   "execution_count": 115,
   "metadata": {},
   "outputs": [],
   "source": [
    "# dflreg['price'][[dflreg['price']>500 & dflreg['price']<2000]].hist(bins=20);"
   ]
  },
  {
   "cell_type": "code",
   "execution_count": 116,
   "metadata": {},
   "outputs": [
    {
     "data": {
      "text/html": [
       "<div>\n",
       "<style scoped>\n",
       "    .dataframe tbody tr th:only-of-type {\n",
       "        vertical-align: middle;\n",
       "    }\n",
       "\n",
       "    .dataframe tbody tr th {\n",
       "        vertical-align: top;\n",
       "    }\n",
       "\n",
       "    .dataframe thead th {\n",
       "        text-align: right;\n",
       "    }\n",
       "</style>\n",
       "<table border=\"1\" class=\"dataframe\">\n",
       "  <thead>\n",
       "    <tr style=\"text-align: right;\">\n",
       "      <th>beds</th>\n",
       "      <th>0.0</th>\n",
       "      <th>1.0</th>\n",
       "      <th>2.0</th>\n",
       "      <th>3.0</th>\n",
       "      <th>4.0</th>\n",
       "      <th>5.0</th>\n",
       "      <th>6.0</th>\n",
       "      <th>7.0</th>\n",
       "      <th>8.0</th>\n",
       "      <th>10.0</th>\n",
       "      <th>12.0</th>\n",
       "      <th>14.0</th>\n",
       "    </tr>\n",
       "    <tr>\n",
       "      <th>bedrooms</th>\n",
       "      <th></th>\n",
       "      <th></th>\n",
       "      <th></th>\n",
       "      <th></th>\n",
       "      <th></th>\n",
       "      <th></th>\n",
       "      <th></th>\n",
       "      <th></th>\n",
       "      <th></th>\n",
       "      <th></th>\n",
       "      <th></th>\n",
       "      <th></th>\n",
       "    </tr>\n",
       "  </thead>\n",
       "  <tbody>\n",
       "    <tr>\n",
       "      <th>0</th>\n",
       "      <td>5</td>\n",
       "      <td>317</td>\n",
       "      <td>128</td>\n",
       "      <td>8</td>\n",
       "      <td>3</td>\n",
       "      <td>0</td>\n",
       "      <td>0</td>\n",
       "      <td>0</td>\n",
       "      <td>0</td>\n",
       "      <td>0</td>\n",
       "      <td>0</td>\n",
       "      <td>0</td>\n",
       "    </tr>\n",
       "    <tr>\n",
       "      <th>1</th>\n",
       "      <td>30</td>\n",
       "      <td>2074</td>\n",
       "      <td>531</td>\n",
       "      <td>68</td>\n",
       "      <td>24</td>\n",
       "      <td>6</td>\n",
       "      <td>0</td>\n",
       "      <td>0</td>\n",
       "      <td>1</td>\n",
       "      <td>0</td>\n",
       "      <td>0</td>\n",
       "      <td>1</td>\n",
       "    </tr>\n",
       "    <tr>\n",
       "      <th>2</th>\n",
       "      <td>13</td>\n",
       "      <td>11</td>\n",
       "      <td>560</td>\n",
       "      <td>193</td>\n",
       "      <td>66</td>\n",
       "      <td>8</td>\n",
       "      <td>4</td>\n",
       "      <td>2</td>\n",
       "      <td>0</td>\n",
       "      <td>0</td>\n",
       "      <td>0</td>\n",
       "      <td>0</td>\n",
       "    </tr>\n",
       "    <tr>\n",
       "      <th>3</th>\n",
       "      <td>8</td>\n",
       "      <td>5</td>\n",
       "      <td>17</td>\n",
       "      <td>236</td>\n",
       "      <td>135</td>\n",
       "      <td>38</td>\n",
       "      <td>17</td>\n",
       "      <td>3</td>\n",
       "      <td>0</td>\n",
       "      <td>0</td>\n",
       "      <td>0</td>\n",
       "      <td>0</td>\n",
       "    </tr>\n",
       "    <tr>\n",
       "      <th>4</th>\n",
       "      <td>7</td>\n",
       "      <td>1</td>\n",
       "      <td>0</td>\n",
       "      <td>0</td>\n",
       "      <td>51</td>\n",
       "      <td>44</td>\n",
       "      <td>14</td>\n",
       "      <td>8</td>\n",
       "      <td>5</td>\n",
       "      <td>0</td>\n",
       "      <td>0</td>\n",
       "      <td>0</td>\n",
       "    </tr>\n",
       "    <tr>\n",
       "      <th>5</th>\n",
       "      <td>1</td>\n",
       "      <td>0</td>\n",
       "      <td>0</td>\n",
       "      <td>0</td>\n",
       "      <td>0</td>\n",
       "      <td>9</td>\n",
       "      <td>2</td>\n",
       "      <td>2</td>\n",
       "      <td>5</td>\n",
       "      <td>1</td>\n",
       "      <td>0</td>\n",
       "      <td>0</td>\n",
       "    </tr>\n",
       "    <tr>\n",
       "      <th>6</th>\n",
       "      <td>0</td>\n",
       "      <td>0</td>\n",
       "      <td>0</td>\n",
       "      <td>0</td>\n",
       "      <td>0</td>\n",
       "      <td>0</td>\n",
       "      <td>2</td>\n",
       "      <td>1</td>\n",
       "      <td>1</td>\n",
       "      <td>0</td>\n",
       "      <td>1</td>\n",
       "      <td>0</td>\n",
       "    </tr>\n",
       "    <tr>\n",
       "      <th>7</th>\n",
       "      <td>0</td>\n",
       "      <td>0</td>\n",
       "      <td>0</td>\n",
       "      <td>0</td>\n",
       "      <td>0</td>\n",
       "      <td>0</td>\n",
       "      <td>0</td>\n",
       "      <td>1</td>\n",
       "      <td>0</td>\n",
       "      <td>0</td>\n",
       "      <td>0</td>\n",
       "      <td>1</td>\n",
       "    </tr>\n",
       "  </tbody>\n",
       "</table>\n",
       "</div>"
      ],
      "text/plain": [
       "beds      0.0   1.0   2.0   3.0   4.0   5.0   6.0   7.0   8.0   10.0  12.0  \\\n",
       "bedrooms                                                                     \n",
       "0            5   317   128     8     3     0     0     0     0     0     0   \n",
       "1           30  2074   531    68    24     6     0     0     1     0     0   \n",
       "2           13    11   560   193    66     8     4     2     0     0     0   \n",
       "3            8     5    17   236   135    38    17     3     0     0     0   \n",
       "4            7     1     0     0    51    44    14     8     5     0     0   \n",
       "5            1     0     0     0     0     9     2     2     5     1     0   \n",
       "6            0     0     0     0     0     0     2     1     1     0     1   \n",
       "7            0     0     0     0     0     0     0     1     0     0     0   \n",
       "\n",
       "beds      14.0  \n",
       "bedrooms        \n",
       "0            0  \n",
       "1            1  \n",
       "2            0  \n",
       "3            0  \n",
       "4            0  \n",
       "5            0  \n",
       "6            0  \n",
       "7            1  "
      ]
     },
     "execution_count": 116,
     "metadata": {},
     "output_type": "execute_result"
    }
   ],
   "source": [
    "pd.crosstab(dflreg['bedrooms'], dflreg['beds'])"
   ]
  },
  {
   "cell_type": "code",
   "execution_count": null,
   "metadata": {},
   "outputs": [],
   "source": [
    "from sklearn.tree import DecisionTreeRegressor, DecisionTreeClassifier\n",
    "from sklearn.metrics import accuracy_score, mean_squared_error\n",
    "from sklearn.metrics import accuracy_score, mean_squared_error\n",
    "from collections import Counter"
   ]
  },
  {
   "cell_type": "code",
   "execution_count": null,
   "metadata": {},
   "outputs": [],
   "source": []
  }
 ],
 "metadata": {
  "kernelspec": {
   "display_name": "Python 3",
   "language": "python",
   "name": "python3"
  },
  "language_info": {
   "codemirror_mode": {
    "name": "ipython",
    "version": 3
   },
   "file_extension": ".py",
   "mimetype": "text/x-python",
   "name": "python",
   "nbconvert_exporter": "python",
   "pygments_lexer": "ipython3",
   "version": "3.5.2"
  }
 },
 "nbformat": 4,
 "nbformat_minor": 2
}
