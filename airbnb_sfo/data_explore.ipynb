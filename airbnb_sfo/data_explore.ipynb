{
 "cells": [
  {
   "cell_type": "code",
   "execution_count": null,
   "metadata": {},
   "outputs": [],
   "source": [
    "import numpy as np\n",
    "import pandas as pd\n",
    "import matplotlib.pyplot as plt\n",
    "%matplotlib inline\n",
    "\n",
    "from sklearn.model_selection import train_test_split\n",
    "from sklearn import datasets, linear_model\n",
    "from sklearn.metrics import  mean_squared_error, r2_score\n",
    "from collections import Counter\n",
    "\n",
    "import statsmodels.api as sm"
   ]
  },
  {
   "cell_type": "code",
   "execution_count": null,
   "metadata": {},
   "outputs": [],
   "source": [
    "cal = pd.read_csv('calendar.csv.gz')\n",
    "listd = pd.read_csv('listings.csv.gz')\n",
    "lists = pd.read_csv('listings.csv')\n",
    "revs = pd.read_csv('reviews.csv.gz')\n",
    "nhood = pd.read_csv('neighbourhoods.csv')\n",
    "purelst = pd.read_csv('listings.csv.gz')"
   ]
  },
  {
   "cell_type": "code",
   "execution_count": null,
   "metadata": {},
   "outputs": [],
   "source": [
    "# pd.set_option('display.max_colu?mns', 96)\n",
    "pd.set_option('display.max_rows', 96)"
   ]
  },
  {
   "cell_type": "code",
   "execution_count": null,
   "metadata": {},
   "outputs": [],
   "source": [
    "#CLEANUP incoming dataframes\n",
    "\n",
    "listd_drop_cols = ['scrape_id','last_scraped','experiences_offered','thumbnail_url','medium_url','xl_picture_url',\\\n",
    "                   'host_name','host_location','neighbourhood_group_cleansed','square_feet',\\\n",
    "                   'maximum_nights','is_business_travel_ready']\n",
    "\n",
    "# listd_numc_cols\n",
    "# listd_catz_cols\n",
    "\n",
    "print(len(listd.columns), len(listd_drop_cols))\n",
    "listd.drop(listd_drop_cols,axis=1,inplace=True )\n",
    "print(len(listd.columns), len(listd_drop_cols))"
   ]
  },
  {
   "cell_type": "markdown",
   "metadata": {},
   "source": [
    "# ALL TRANSFORMATIONS FUNCTIONS  : "
   ]
  },
  {
   "cell_type": "code",
   "execution_count": null,
   "metadata": {},
   "outputs": [],
   "source": [
    "print(cal.date.min(),cal.date.max())\n",
    "print(revs.date.min(),revs.date.max())\n",
    "# print(lists.last_review.min(),lists.last_review.max())"
   ]
  },
  {
   "cell_type": "code",
   "execution_count": null,
   "metadata": {},
   "outputs": [],
   "source": [
    "# tmp=listd.copy() # Create a new copy of the existing dataframe otherwise it is only by reference\n",
    "# tmp.head().T"
   ]
  },
  {
   "cell_type": "code",
   "execution_count": null,
   "metadata": {},
   "outputs": [],
   "source": [
    "def price_xform(dframe,colname):\n",
    "    dframe[colname]=dframe[colname].str.replace('$','')\n",
    "    dframe[colname]=dframe[colname].str.replace(',','')\n",
    "    dframe[colname]=pd.to_numeric(dframe[colname])\n",
    "#     return(dframe)"
   ]
  },
  {
   "cell_type": "code",
   "execution_count": null,
   "metadata": {},
   "outputs": [],
   "source": [
    "def cat_rename(dframe,colname,src,tgt):\n",
    "    dframe[colname]=dframe[colname].str.replace(src,tgt)\n",
    "#     dframe[colname]=dframe[colname].str.replace(',','')\n",
    "#     dframe[colname]=pd.to_numeric(dframe[colname])\n",
    "#     return(dframe)"
   ]
  },
  {
   "cell_type": "code",
   "execution_count": null,
   "metadata": {},
   "outputs": [],
   "source": [
    "def create_dummies(dframe,colname):\n",
    "#     dfnew=dframe.copy()\n",
    "    dframe=pd.get_dummies(data=dframe, columns=[colname])# create dummies and drop the parent column\n",
    "    dframe.drop(columns=[dframe.columns[-1]],inplace=True) #dropped the last column from the add dummies\n",
    "    return dframe"
   ]
  },
  {
   "cell_type": "code",
   "execution_count": null,
   "metadata": {},
   "outputs": [],
   "source": [
    "#Impute Null Rows based on the specified column\n",
    "def impute_nullrows(dframe,colname):\n",
    "    print(dframe[colname].isnull().sum())\n",
    "    dftmp=dframe[~dframe[colname].isnull()]   # remove nulls from one column\n",
    "    print(dftmp[colname].isnull().sum())\n",
    "    return dftmp\n"
   ]
  },
  {
   "cell_type": "markdown",
   "metadata": {},
   "source": [
    "# TRANSFORM ACTIONS"
   ]
  },
  {
   "cell_type": "code",
   "execution_count": null,
   "metadata": {},
   "outputs": [],
   "source": [
    "# Convert to Booleans\n",
    "listd['host_is_superhost'] = listd.apply(lambda x:  x.host_is_superhost=='t', axis= 1)\n",
    "listd['host_has_profile_pic'] = listd.apply(lambda x:  x.host_has_profile_pic=='t', axis= 1)\n",
    "listd['host_identity_verified'] = listd.apply(lambda x:  x.host_identity_verified=='t', axis= 1)\n",
    "listd['instant_bookable'] = listd.apply(lambda x:  x.instant_bookable=='t', axis= 1)"
   ]
  },
  {
   "cell_type": "code",
   "execution_count": null,
   "metadata": {},
   "outputs": [],
   "source": [
    "#Transform all the price columns to remove \"$\" and \",\"\n",
    "\n",
    "price_xform(listd,'price')\n",
    "price_xform(listd,'weekly_price')\n",
    "price_xform(listd,'monthly_price')\n",
    "price_xform(listd,'security_deposit')\n",
    "price_xform(listd,'cleaning_fee')\n",
    "price_xform(listd,'extra_people')"
   ]
  },
  {
   "cell_type": "code",
   "execution_count": null,
   "metadata": {},
   "outputs": [],
   "source": [
    "#Transform the room_type . to create a meaningful name and create dummies\n",
    "\n",
    "cat_rename(listd,'room_type','Entire home/apt','full')\n",
    "cat_rename(listd,'room_type','Private room','pvt')\n",
    "cat_rename(listd,'room_type','Shared room','shared')\n",
    "\n",
    "listd=create_dummies(listd,'room_type')\n",
    "# listd=pd.get_dummies(data=listd, columns=['room_type'])  # create dummies and drop the parent column\n",
    "# listd.drop(columns=[listd.columns[-1]],inplace=True)  #dropped the last column from the add dummies"
   ]
  },
  {
   "cell_type": "code",
   "execution_count": null,
   "metadata": {},
   "outputs": [],
   "source": [
    "#Transform the bed_type . to create a meaningful name and create dummies\n",
    "listd['bed_type'] = listd.apply(lambda x: x.bed_type=='Real Bed', axis=1)"
   ]
  },
  {
   "cell_type": "code",
   "execution_count": null,
   "metadata": {},
   "outputs": [],
   "source": [
    "#Put a count on amenities,   IF it does not work, pick the most important feature\n",
    "listd['amentcnt'] =   listd.apply(lambda x: len(x.amenities.split(\",\")), axis=1)"
   ]
  },
  {
   "cell_type": "code",
   "execution_count": null,
   "metadata": {},
   "outputs": [],
   "source": [
    "#!!! APPLY the same for the test data also\n",
    "#Impute the to remove the rows with no zipcode.  !!! APPLY the same for the test data also\n",
    "listd=listd[~listd['zipcode'].isnull()]   # remove nulls from one column\n",
    "\n",
    "\n"
   ]
  },
  {
   "cell_type": "code",
   "execution_count": null,
   "metadata": {},
   "outputs": [],
   "source": [
    "#Impute the null values with meaningful data\n",
    "\n",
    "listd['cleaning_fee']=listd['cleaning_fee'].fillna(0)\n",
    "listd['review_scores_cleanliness'] = listd['review_scores_cleanliness'].fillna(listd.review_scores_cleanliness.mean())\n",
    "\n",
    "listd['review_scores_location'] = listd['review_scores_location'].fillna(listd.review_scores_location.mean())\n",
    "listd['review_scores_value'] = listd['review_scores_value'].fillna(listd.review_scores_value.mean())\n",
    "\n",
    "\n"
   ]
  },
  {
   "cell_type": "code",
   "execution_count": null,
   "metadata": {},
   "outputs": [],
   "source": [
    "# mask1 = listd['minimum_nights']>7 \n",
    "# mask2 = listd['minimum_nights']<=32\n",
    "# maskmid=mask1 & mask2 \n",
    "# maskmid = (listd['minimum_nights']>7) & (listd['minimum_nights']<=32)\n",
    "# mask2\n",
    "# maskmid\n",
    "listd.loc[listd['minimum_nights']<=7,'min_night_stay'] = 'short'\n",
    "listd.loc[(listd['minimum_nights']>7) & (listd['minimum_nights']<=32),'min_night_stay'] = 'mid'\n",
    "listd.loc[listd['minimum_nights']>32,'min_night_stay'] = 'long'\n",
    "listd=create_dummies(listd,'min_night_stay')"
   ]
  },
  {
   "cell_type": "code",
   "execution_count": null,
   "metadata": {},
   "outputs": [],
   "source": [
    "#Condensing the property_type to sub categories\n",
    "\n",
    "listd.loc[listd['property_type']=='Apartment', 'ppt_condensed'] = 'apt'\n",
    "listd.loc[listd['property_type']=='Condominium', 'ppt_condensed'] = 'apt'\n",
    "listd.loc[listd['property_type']=='Guest suite', 'ppt_condensed'] = 'apt'\n",
    "listd.loc[listd['property_type']=='Townhouse', 'ppt_condensed'] = 'apt'\n",
    "listd.loc[listd['property_type']=='Guesthouse', 'ppt_condensed'] = 'apt'\n",
    "listd.loc[listd['property_type']=='Tiny house', 'ppt_condensed'] = 'apt'\n",
    "listd.loc[listd['property_type']=='Timeshare', 'ppt_condensed'] = 'apt'\n",
    "\n",
    "listd.loc[listd['property_type']=='Serviced apartment', 'ppt_condensed'] = 'aptspl'\n",
    "listd.loc[listd['property_type']=='Bed and breakfast', 'ppt_condensed'] = 'aptspl'\n",
    "listd.loc[listd['property_type']=='Treehouse', 'ppt_condensed'] = 'aptspl'\n",
    "listd.loc[listd['property_type']=='Cabin', 'ppt_condensed'] = 'aptspl'\n",
    "\n",
    "listd.loc[listd['property_type']=='Bus', 'ppt_condensed'] = 'auto'\n",
    "listd.loc[listd['property_type']=='Boat', 'ppt_condensed'] = 'auto'\n",
    "listd.loc[listd['property_type']=='Camper/RV', 'ppt_condensed'] = 'auto'\n",
    "\n",
    "listd.loc[listd['property_type']=='Hostel', 'ppt_condensed'] = 'hostel'\n",
    "\n",
    "listd.loc[listd['property_type']=='Boutique hotel', 'ppt_condensed'] = 'hotel'\n",
    "listd.loc[listd['property_type']=='Hotel', 'ppt_condensed'] = 'hotel'\n",
    "listd.loc[listd['property_type']=='Resort', 'ppt_condensed'] = 'hotel'\n",
    "listd.loc[listd['property_type']=='Aparthotel', 'ppt_condensed'] = 'hotel'\n",
    "\n",
    "listd.loc[listd['property_type']=='House', 'ppt_condensed'] = 'house'\n",
    "listd.loc[listd['property_type']=='Bungalow', 'ppt_condensed'] = 'house'\n",
    "listd.loc[listd['property_type']=='Cottage', 'ppt_condensed'] = 'house'\n",
    "listd.loc[listd['property_type']=='Villa', 'ppt_condensed'] = 'house'\n",
    "\n",
    "listd.loc[listd['property_type']=='Other', 'ppt_condensed'] = 'other'\n",
    "\n",
    "listd.loc[listd['property_type']=='Loft', 'ppt_condensed'] = 'room'\n",
    "\n",
    "listd=create_dummies(listd,'ppt_condensed')"
   ]
  },
  {
   "cell_type": "code",
   "execution_count": null,
   "metadata": {},
   "outputs": [],
   "source": [
    "listd=create_dummies(listd,'zipcode')"
   ]
  },
  {
   "cell_type": "code",
   "execution_count": null,
   "metadata": {},
   "outputs": [],
   "source": [
    "#imputing some more missing values\n",
    "\n",
    "listd['cleaning_fee'].fillna(0, inplace=True)\n",
    "listd['beds'].fillna(0, inplace=True)\n",
    "listd['bathrooms'].fillna(0, inplace=True)"
   ]
  },
  {
   "cell_type": "code",
   "execution_count": null,
   "metadata": {},
   "outputs": [],
   "source": [
    "listd.shape"
   ]
  },
  {
   "cell_type": "code",
   "execution_count": null,
   "metadata": {},
   "outputs": [],
   "source": [
    "#Imputed the rows with price is equal to zero\n",
    "listd=listd[listd.price>0]\n",
    "listd.shape"
   ]
  },
  {
   "cell_type": "code",
   "execution_count": null,
   "metadata": {},
   "outputs": [],
   "source": [
    "# lreg_cols = ['price','weekly_price','cleaning_fee','accommodates','bedrooms','beds',\\\n",
    "#              'bathrooms','guests_included','zipcode']\n",
    "\n",
    "listd_drop_cols2=['id', 'listing_url', 'name', 'summary', 'space', 'description',\\\n",
    "       'neighborhood_overview', 'notes', 'transit', 'access', 'interaction',\\\n",
    "       'house_rules', 'picture_url', 'host_id', 'host_url', 'host_since',\\\n",
    "       'host_about', 'host_response_time', 'host_response_rate',\\\n",
    "       'host_acceptance_rate', 'host_thumbnail_url',\\\n",
    "       'host_picture_url', 'host_neighbourhood', 'host_listings_count',\\\n",
    "       'host_total_listings_count', 'host_verifications',\\\n",
    "       'host_has_profile_pic', 'street',\\\n",
    "       'neighbourhood', 'neighbourhood_cleansed', 'city', 'state',\\\n",
    "       'market', 'smart_location', 'country_code', 'country', 'latitude',\\\n",
    "       'longitude', 'is_location_exact', 'property_type',\\\n",
    "       'amenities',\\\n",
    "       'weekly_price', 'monthly_price', 'security_deposit',\\\n",
    "       'extra_people', 'minimum_nights', 'calendar_updated',\\\n",
    "       'has_availability', 'availability_30', 'availability_60',\\\n",
    "       'availability_90', 'availability_365', 'calendar_last_scraped',\\\n",
    "       'number_of_reviews', 'first_review', 'last_review',\\\n",
    "       'review_scores_rating', 'review_scores_accuracy',\\\n",
    "       'review_scores_cleanliness', 'review_scores_checkin',\\\n",
    "       'review_scores_communication', 'review_scores_location',\\\n",
    "       'review_scores_value', 'requires_license', 'license',\\\n",
    "       'jurisdiction_names', 'instant_bookable', 'cancellation_policy',\\\n",
    "       'require_guest_profile_picture', 'require_guest_phone_verification',\\\n",
    "       'calculated_host_listings_count', 'reviews_per_month']\n",
    "listd.drop(listd_drop_cols2,axis=1,inplace=True )"
   ]
  },
  {
   "cell_type": "code",
   "execution_count": null,
   "metadata": {},
   "outputs": [],
   "source": [
    "listd.columns"
   ]
  },
  {
   "cell_type": "code",
   "execution_count": null,
   "metadata": {},
   "outputs": [],
   "source": [
    "listd.shape\n",
    "purelst[purelst.price =='$0.00'].T\n",
    "# purelst.head().T"
   ]
  },
  {
   "cell_type": "code",
   "execution_count": null,
   "metadata": {},
   "outputs": [],
   "source": [
    "listd['host_is_superhost'] = (listd['host_is_superhost'] == True).astype(int)\n",
    "listd['host_identity_verified'] = (listd['host_identity_verified'] == True).astype(int)\n",
    "listd['bed_type'] = (listd['bed_type'] == True).astype(int)"
   ]
  },
  {
   "cell_type": "code",
   "execution_count": null,
   "metadata": {},
   "outputs": [],
   "source": [
    "y=listd.price\n",
    "X=listd.copy()\n",
    "X=X.drop(['price'],axis=1)"
   ]
  },
  {
   "cell_type": "code",
   "execution_count": null,
   "metadata": {},
   "outputs": [],
   "source": [
    "# X=dflreg.drop([listd_insig_cols],axis=1)\n",
    "# listd.drop(listd_drop_cols,axis=1,inplace=True )"
   ]
  },
  {
   "cell_type": "code",
   "execution_count": null,
   "metadata": {},
   "outputs": [],
   "source": [
    "X_chunk, X_test, y_chunk, y_test = train_test_split(X, y, test_size=0.20, random_state=47)\n",
    "X_train, X_vald, y_train, y_vald = train_test_split(X_chunk, y_chunk, test_size=0.20, random_state=47)"
   ]
  },
  {
   "cell_type": "code",
   "execution_count": null,
   "metadata": {},
   "outputs": [],
   "source": []
  },
  {
   "cell_type": "code",
   "execution_count": null,
   "metadata": {},
   "outputs": [],
   "source": [
    "X_train = X_chunk.copy()\n",
    "y_train = y_chunk.copy()"
   ]
  },
  {
   "cell_type": "code",
   "execution_count": null,
   "metadata": {},
   "outputs": [],
   "source": [
    "print(X_train.shape, X_vald.shape, X_test.shape)\n",
    "print(y_train.shape, y_vald.shape, y_test.shape)"
   ]
  },
  {
   "cell_type": "code",
   "execution_count": null,
   "metadata": {},
   "outputs": [],
   "source": [
    "X_train.head()"
   ]
  },
  {
   "cell_type": "code",
   "execution_count": null,
   "metadata": {},
   "outputs": [],
   "source": [
    "import pickle\n",
    "\n",
    "X_train.to_pickle('pkls/rand_split/X_train.pkl')\n",
    "y_train.to_pickle('pkls/rand_split/y_train.pkl')\n",
    "X_test.to_pickle('pkls/rand_split/X_test.pkl')\n",
    "y_test.to_pickle('pkls/rand_split/y_test.pkl')\n",
    "\n"
   ]
  },
  {
   "cell_type": "code",
   "execution_count": null,
   "metadata": {},
   "outputs": [],
   "source": [
    "# X_train._get_numeric_data().info()"
   ]
  },
  {
   "cell_type": "code",
   "execution_count": null,
   "metadata": {},
   "outputs": [],
   "source": [
    "# -------------------------------------------------------"
   ]
  },
  {
   "cell_type": "code",
   "execution_count": null,
   "metadata": {},
   "outputs": [],
   "source": []
  },
  {
   "cell_type": "code",
   "execution_count": null,
   "metadata": {},
   "outputs": [],
   "source": []
  }
 ],
 "metadata": {
  "kernelspec": {
   "display_name": "Python 3",
   "language": "python",
   "name": "python3"
  },
  "language_info": {
   "codemirror_mode": {
    "name": "ipython",
    "version": 3
   },
   "file_extension": ".py",
   "mimetype": "text/x-python",
   "name": "python",
   "nbconvert_exporter": "python",
   "pygments_lexer": "ipython3",
   "version": "3.5.2"
  }
 },
 "nbformat": 4,
 "nbformat_minor": 2
}
